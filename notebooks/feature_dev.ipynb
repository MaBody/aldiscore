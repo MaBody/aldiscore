{
 "cells": [
  {
   "cell_type": "code",
   "execution_count": 5,
   "id": "a1326b86",
   "metadata": {},
   "outputs": [
    {
     "name": "stdout",
     "output_type": "stream",
     "text": [
      "k = 4\n"
     ]
    }
   ],
   "source": [
    "%reload_ext autoreload\n",
    "%autoreload 2\n",
    "from aldiscore.prediction.extractor import FeatureExtractor\n",
    "from Bio.SeqRecord import SeqRecord\n",
    "import os\n",
    "from pathlib import Path\n",
    "from Bio import SeqIO\n",
    "\n",
    "TEST_FILE_AA = Path(\"data/aa.fasta\")\n",
    "TEST_FILE_DNA = Path(\"data/dna.fasta\")\n",
    "\n",
    "sequences = list(SeqIO.parse(TEST_FILE_AA, \"fasta\"))\n",
    "print(\"k =\", len(sequences))"
   ]
  },
  {
   "cell_type": "code",
   "execution_count": 18,
   "id": "70509472",
   "metadata": {},
   "outputs": [
    {
     "name": "stdout",
     "output_type": "stream",
     "text": [
      "4\n"
     ]
    },
    {
     "data": {
      "text/html": [
       "<div>\n",
       "<style scoped>\n",
       "    .dataframe tbody tr th:only-of-type {\n",
       "        vertical-align: middle;\n",
       "    }\n",
       "\n",
       "    .dataframe tbody tr th {\n",
       "        vertical-align: top;\n",
       "    }\n",
       "\n",
       "    .dataframe thead th {\n",
       "        text-align: right;\n",
       "    }\n",
       "</style>\n",
       "<table border=\"1\" class=\"dataframe\">\n",
       "  <thead>\n",
       "    <tr style=\"text-align: right;\">\n",
       "      <th></th>\n",
       "      <th>is_dna</th>\n",
       "      <th>num_seqs</th>\n",
       "      <th>min:seq_length</th>\n",
       "      <th>max:seq_length</th>\n",
       "      <th>mean:seq_length</th>\n",
       "      <th>std:seq_length</th>\n",
       "      <th>p5:seq_length</th>\n",
       "      <th>p10:seq_length</th>\n",
       "      <th>p25:seq_length</th>\n",
       "      <th>p50:seq_length</th>\n",
       "      <th>...</th>\n",
       "      <th>max:js_divergence</th>\n",
       "      <th>mean:js_divergence</th>\n",
       "      <th>std:js_divergence</th>\n",
       "      <th>p5:js_divergence</th>\n",
       "      <th>p10:js_divergence</th>\n",
       "      <th>p25:js_divergence</th>\n",
       "      <th>p50:js_divergence</th>\n",
       "      <th>p75:js_divergence</th>\n",
       "      <th>p90:js_divergence</th>\n",
       "      <th>p95:js_divergence</th>\n",
       "    </tr>\n",
       "  </thead>\n",
       "  <tbody>\n",
       "    <tr>\n",
       "      <th>0</th>\n",
       "      <td>False</td>\n",
       "      <td>4</td>\n",
       "      <td>104</td>\n",
       "      <td>540</td>\n",
       "      <td>305.0</td>\n",
       "      <td>195.353526</td>\n",
       "      <td>106.4</td>\n",
       "      <td>108.8</td>\n",
       "      <td>116.0</td>\n",
       "      <td>288.0</td>\n",
       "      <td>...</td>\n",
       "      <td>0.26002</td>\n",
       "      <td>0.188816</td>\n",
       "      <td>0.044268</td>\n",
       "      <td>0.126132</td>\n",
       "      <td>0.139857</td>\n",
       "      <td>0.17242</td>\n",
       "      <td>0.194961</td>\n",
       "      <td>0.202969</td>\n",
       "      <td>0.231629</td>\n",
       "      <td>0.245825</td>\n",
       "    </tr>\n",
       "  </tbody>\n",
       "</table>\n",
       "<p>1 rows × 36 columns</p>\n",
       "</div>"
      ],
      "text/plain": [
       "   is_dna  num_seqs  min:seq_length  max:seq_length  mean:seq_length  \\\n",
       "0   False         4             104             540            305.0   \n",
       "\n",
       "   std:seq_length  p5:seq_length  p10:seq_length  p25:seq_length  \\\n",
       "0      195.353526          106.4           108.8           116.0   \n",
       "\n",
       "   p50:seq_length  ...  max:js_divergence  mean:js_divergence  \\\n",
       "0           288.0  ...            0.26002            0.188816   \n",
       "\n",
       "   std:js_divergence  p5:js_divergence  p10:js_divergence  p25:js_divergence  \\\n",
       "0           0.044268          0.126132           0.139857            0.17242   \n",
       "\n",
       "   p50:js_divergence  p75:js_divergence  p90:js_divergence  p95:js_divergence  \n",
       "0           0.194961           0.202969           0.231629           0.245825  \n",
       "\n",
       "[1 rows x 36 columns]"
      ]
     },
     "execution_count": 18,
     "metadata": {},
     "output_type": "execute_result"
    }
   ],
   "source": [
    "dummy = sequences\n",
    "print(len(dummy))\n",
    "extractor = FeatureExtractor(dummy)\n",
    "# feat_df = extractor.compute()\n",
    "extractor._init_cache()\n",
    "feats = extractor.compute()\n",
    "feats"
   ]
  },
  {
   "cell_type": "code",
   "execution_count": 19,
   "id": "f14a820f",
   "metadata": {},
   "outputs": [
    {
     "ename": "ModuleNotFoundError",
     "evalue": "No module named 'sklearn'",
     "output_type": "error",
     "traceback": [
      "\u001b[31m---------------------------------------------------------------------------\u001b[39m",
      "\u001b[31mModuleNotFoundError\u001b[39m                       Traceback (most recent call last)",
      "\u001b[36mCell\u001b[39m\u001b[36m \u001b[39m\u001b[32mIn[19]\u001b[39m\u001b[32m, line 1\u001b[39m\n\u001b[32m----> \u001b[39m\u001b[32m1\u001b[39m \u001b[38;5;28;01mfrom\u001b[39;00m\u001b[38;5;250m \u001b[39m\u001b[34;01msklearn\u001b[39;00m\u001b[34;01m.\u001b[39;00m\u001b[34;01mensemble\u001b[39;00m\u001b[38;5;250m \u001b[39m\u001b[38;5;28;01mimport\u001b[39;00m RandomForestRegressor\n\u001b[32m      3\u001b[39m model = RandomForestRegressor(n_estimators=\u001b[32m20\u001b[39m)\n\u001b[32m      4\u001b[39m model\n",
      "\u001b[31mModuleNotFoundError\u001b[39m: No module named 'sklearn'"
     ]
    }
   ],
   "source": [
    "from sklearn.ensemble import RandomForestRegressor\n",
    "\n",
    "model = RandomForestRegressor(n_estimators=20)\n",
    "model"
   ]
  }
 ],
 "metadata": {
  "kernelspec": {
   "display_name": "aldiscore",
   "language": "python",
   "name": "python3"
  },
  "language_info": {
   "codemirror_mode": {
    "name": "ipython",
    "version": 3
   },
   "file_extension": ".py",
   "mimetype": "text/x-python",
   "name": "python",
   "nbconvert_exporter": "python",
   "pygments_lexer": "ipython3",
   "version": "3.13.3"
  }
 },
 "nbformat": 4,
 "nbformat_minor": 5
}
