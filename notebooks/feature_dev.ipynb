{
 "cells": [
  {
   "cell_type": "code",
   "execution_count": null,
   "id": "a1326b86",
   "metadata": {},
   "outputs": [
    {
     "name": "stdout",
     "output_type": "stream",
     "text": [
      "k = 4\n"
     ]
    }
   ],
   "source": [
    "from aldiscore.prediction.extractor import AlDIFeatureExtractor\n",
    "from Bio.SeqRecord import SeqRecord\n",
    "import os\n",
    "from pathlib import Path\n",
    "from Bio import SeqIO\n",
    "\n",
    "TEST_FILE_AA = Path(\"data/aa.fasta\")\n",
    "TEST_FILE_DNA = Path(\"data/dna.fasta\")\n",
    "\n",
    "sequences = list(SeqIO.parse(TEST_FILE_AA, \"fasta\"))\n",
    "print(\"k =\", len(sequences))"
   ]
  },
  {
   "cell_type": "code",
   "execution_count": 6,
   "id": "70509472",
   "metadata": {},
   "outputs": [
    {
     "ename": "ValueError",
     "evalue": "('Problem with feature <bound method AlDIFeatureExtractor._data_type of <aldiscore.prediction.extractor.AlDIFeatureExtractor object at 0x14f7753b1fd0>>', AttributeError(\"'list' object has no attribute 'data_type'\"), 'Traceback (most recent call last):\\n  File \"/hits/fast/cme/bodynems/aldiscore/aldiscore/prediction/extractor.py\", line 44, in compute\\n    feature_dict = feature_func()\\n  File \"/hits/fast/cme/bodynems/aldiscore/aldiscore/prediction/extractor.py\", line 87, in _data_type\\n    feat = str(self._sequences.data_type)\\n               ^^^^^^^^^^^^^^^^^^^^^^^^^\\nAttributeError: \\'list\\' object has no attribute \\'data_type\\'\\n')",
     "output_type": "error",
     "traceback": [
      "\u001b[31m---------------------------------------------------------------------------\u001b[39m",
      "\u001b[31mAttributeError\u001b[39m                            Traceback (most recent call last)",
      "\u001b[36mFile \u001b[39m\u001b[32m/hits/fast/cme/bodynems/aldiscore/aldiscore/prediction/extractor.py:44\u001b[39m, in \u001b[36mBaseFeatureExtractor.compute\u001b[39m\u001b[34m(self, exclude)\u001b[39m\n\u001b[32m     43\u001b[39m \u001b[38;5;28;01mtry\u001b[39;00m:\n\u001b[32m---> \u001b[39m\u001b[32m44\u001b[39m     feature_dict = \u001b[43mfeature_func\u001b[49m\u001b[43m(\u001b[49m\u001b[43m)\u001b[49m\n\u001b[32m     45\u001b[39m     \u001b[38;5;28;01massert\u001b[39;00m \u001b[38;5;28misinstance\u001b[39m(feature_dict, \u001b[38;5;28mdict\u001b[39m)\n",
      "\u001b[36mFile \u001b[39m\u001b[32m/hits/fast/cme/bodynems/aldiscore/aldiscore/prediction/extractor.py:87\u001b[39m, in \u001b[36mAlDIFeatureExtractor._data_type\u001b[39m\u001b[34m(self)\u001b[39m\n\u001b[32m     86\u001b[39m name = \u001b[33m\"\u001b[39m\u001b[33mdata_type\u001b[39m\u001b[33m\"\u001b[39m\n\u001b[32m---> \u001b[39m\u001b[32m87\u001b[39m feat = \u001b[38;5;28mstr\u001b[39m(\u001b[38;5;28;43mself\u001b[39;49m\u001b[43m.\u001b[49m\u001b[43m_sequences\u001b[49m\u001b[43m.\u001b[49m\u001b[43mdata_type\u001b[49m)\n\u001b[32m     88\u001b[39m feat_dict = {name: feat}\n",
      "\u001b[31mAttributeError\u001b[39m: 'list' object has no attribute 'data_type'",
      "\nDuring handling of the above exception, another exception occurred:\n",
      "\u001b[31mValueError\u001b[39m                                Traceback (most recent call last)",
      "\u001b[36mCell\u001b[39m\u001b[36m \u001b[39m\u001b[32mIn[6]\u001b[39m\u001b[32m, line 2\u001b[39m\n\u001b[32m      1\u001b[39m extractor = AlDIFeatureExtractor(sequences)\n\u001b[32m----> \u001b[39m\u001b[32m2\u001b[39m feat_df = \u001b[43mextractor\u001b[49m\u001b[43m.\u001b[49m\u001b[43mcompute\u001b[49m\u001b[43m(\u001b[49m\u001b[43m)\u001b[49m\n",
      "\u001b[36mFile \u001b[39m\u001b[32m/hits/fast/cme/bodynems/aldiscore/aldiscore/prediction/extractor.py:48\u001b[39m, in \u001b[36mBaseFeatureExtractor.compute\u001b[39m\u001b[34m(self, exclude)\u001b[39m\n\u001b[32m     46\u001b[39m         features_dict.update(feature_dict)\n\u001b[32m     47\u001b[39m     \u001b[38;5;28;01mexcept\u001b[39;00m \u001b[38;5;167;01mException\u001b[39;00m \u001b[38;5;28;01mas\u001b[39;00m e:\n\u001b[32m---> \u001b[39m\u001b[32m48\u001b[39m         \u001b[38;5;28;01mraise\u001b[39;00m \u001b[38;5;167;01mValueError\u001b[39;00m(\n\u001b[32m     49\u001b[39m             \u001b[33mf\u001b[39m\u001b[33m\"\u001b[39m\u001b[33mProblem with feature \u001b[39m\u001b[38;5;132;01m{\u001b[39;00mfeature_func\u001b[38;5;132;01m}\u001b[39;00m\u001b[33m\"\u001b[39m, e, traceback.format_exc()\n\u001b[32m     50\u001b[39m         )\n\u001b[32m     51\u001b[39m features = pd.DataFrame(features_dict, index=[\u001b[32m0\u001b[39m])  \u001b[38;5;66;03m# Contains a single row\u001b[39;00m\n\u001b[32m     52\u001b[39m \u001b[38;5;28;01mreturn\u001b[39;00m features\n",
      "\u001b[31mValueError\u001b[39m: ('Problem with feature <bound method AlDIFeatureExtractor._data_type of <aldiscore.prediction.extractor.AlDIFeatureExtractor object at 0x14f7753b1fd0>>', AttributeError(\"'list' object has no attribute 'data_type'\"), 'Traceback (most recent call last):\\n  File \"/hits/fast/cme/bodynems/aldiscore/aldiscore/prediction/extractor.py\", line 44, in compute\\n    feature_dict = feature_func()\\n  File \"/hits/fast/cme/bodynems/aldiscore/aldiscore/prediction/extractor.py\", line 87, in _data_type\\n    feat = str(self._sequences.data_type)\\n               ^^^^^^^^^^^^^^^^^^^^^^^^^\\nAttributeError: \\'list\\' object has no attribute \\'data_type\\'\\n')"
     ]
    }
   ],
   "source": [
    "extractor = AlDIFeatureExtractor(sequences)\n",
    "feat_df = extractor.compute()"
   ]
  }
 ],
 "metadata": {
  "kernelspec": {
   "display_name": "aldiscore",
   "language": "python",
   "name": "python3"
  },
  "language_info": {
   "codemirror_mode": {
    "name": "ipython",
    "version": 3
   },
   "file_extension": ".py",
   "mimetype": "text/x-python",
   "name": "python",
   "nbconvert_exporter": "python",
   "pygments_lexer": "ipython3",
   "version": "3.13.3"
  }
 },
 "nbformat": 4,
 "nbformat_minor": 5
}
