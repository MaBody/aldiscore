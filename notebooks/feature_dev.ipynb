{
 "cells": [
  {
   "cell_type": "code",
   "execution_count": 1,
   "id": "a1326b86",
   "metadata": {},
   "outputs": [
    {
     "name": "stdout",
     "output_type": "stream",
     "text": [
      "k = 4\n"
     ]
    }
   ],
   "source": [
    "%reload_ext autoreload\n",
    "%autoreload 2\n",
    "from aldiscore.prediction.extractor import AlDIFeatureExtractor\n",
    "from Bio.SeqRecord import SeqRecord\n",
    "import os\n",
    "from pathlib import Path\n",
    "from Bio import SeqIO\n",
    "\n",
    "TEST_FILE_AA = Path(\"data/aa.fasta\")\n",
    "TEST_FILE_DNA = Path(\"data/dna.fasta\")\n",
    "\n",
    "sequences = list(SeqIO.parse(TEST_FILE_AA, \"fasta\"))\n",
    "print(\"k =\", len(sequences))"
   ]
  },
  {
   "cell_type": "code",
   "execution_count": null,
   "id": "70509472",
   "metadata": {},
   "outputs": [
    {
     "data": {
      "text/plain": [
       "array([[4.064947 , 4.7289367, 4.3820457, 4.4223604],\n",
       "       [4.7289367, 3.9773052, 4.3220654, 4.3248262],\n",
       "       [4.3820457, 4.3220654, 4.1444654, 4.218974 ],\n",
       "       [4.4223604, 4.3248262, 4.218974 , 4.145658 ]], dtype=float32)"
      ]
     },
     "execution_count": 8,
     "metadata": {},
     "output_type": "execute_result"
    }
   ],
   "source": [
    "extractor = AlDIFeatureExtractor(sequences)\n",
    "# feat_df = extractor.compute()\n",
    "ce = extractor._sequence_cross_entropy()\n",
    "(ce + ce.T) / 2"
   ]
  }
 ],
 "metadata": {
  "kernelspec": {
   "display_name": "aldiscore",
   "language": "python",
   "name": "python3"
  },
  "language_info": {
   "codemirror_mode": {
    "name": "ipython",
    "version": 3
   },
   "file_extension": ".py",
   "mimetype": "text/x-python",
   "name": "python",
   "nbconvert_exporter": "python",
   "pygments_lexer": "ipython3",
   "version": "3.13.3"
  }
 },
 "nbformat": 4,
 "nbformat_minor": 5
}
