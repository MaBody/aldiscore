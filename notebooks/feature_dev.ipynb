{
 "cells": [
  {
   "cell_type": "code",
   "execution_count": 2,
   "id": "a1326b86",
   "metadata": {},
   "outputs": [],
   "source": [
    "%reload_ext autoreload\n",
    "%autoreload 2\n",
    "from aldiscore.prediction.extractor import FeatureExtractor\n",
    "from Bio.SeqRecord import SeqRecord\n",
    "import os\n",
    "from pathlib import Path\n",
    "from Bio import SeqIO\n",
    "from aldiscore import ROOT, get_from_config\n",
    "import numpy as np\n",
    "import pandas as pd"
   ]
  },
  {
   "cell_type": "code",
   "execution_count": null,
   "id": "dd550db5",
   "metadata": {},
   "outputs": [
    {
     "name": "stdout",
     "output_type": "stream",
     "text": [
      "{'FRST_File-bytes': '46', 'FRST_Entropy': '2.087233', 'FRST_Chi-square': '2859.043478', 'FRST_Mean': '102.695652', 'FRST_Monte-Carlo-Pi': '4.000000', 'FRST_Serial-Correlation': '-0.390175'}\n"
     ]
    }
   ],
   "source": [
    "# print(\"Header\", lines[2])\n",
    "# data = np.array(lines[2:])[1:, 2:]\n",
    "# occurrences = data[:, -1].astype(float)\n",
    "# mask = occurrences != 0\n",
    "# data = data[mask]\n",
    "# occurrences = occurrences[mask]\n",
    "# sort_idxs = occurrences.argsort()[::-1]\n",
    "# data = data[sort_idxs]\n",
    "# data\n",
    "# # # print(dists.sort(axis=0))\n",
    "# df = pd.DataFrame(lines[3:], columns=lines[2])\n",
    "# df.Value = df.Value.map(lambda v: chr(int(v)))\n",
    "# df.sort_values(\"Fraction\", ascending=False)\n",
    "# # print(chr(99))"
   ]
  },
  {
   "cell_type": "code",
   "execution_count": null,
   "id": "70509472",
   "metadata": {},
   "outputs": [
    {
     "name": "stdout",
     "output_type": "stream",
     "text": [
      "4\n"
     ]
    },
    {
     "data": {
      "text/html": [
       "<div>\n",
       "<style scoped>\n",
       "    .dataframe tbody tr th:only-of-type {\n",
       "        vertical-align: middle;\n",
       "    }\n",
       "\n",
       "    .dataframe tbody tr th {\n",
       "        vertical-align: top;\n",
       "    }\n",
       "\n",
       "    .dataframe thead th {\n",
       "        text-align: right;\n",
       "    }\n",
       "</style>\n",
       "<table border=\"1\" class=\"dataframe\">\n",
       "  <thead>\n",
       "    <tr style=\"text-align: right;\">\n",
       "      <th></th>\n",
       "      <th>is_dna</th>\n",
       "      <th>num_seqs</th>\n",
       "      <th>min:seq_length</th>\n",
       "      <th>max:seq_length</th>\n",
       "      <th>mean:seq_length</th>\n",
       "      <th>std:seq_length</th>\n",
       "      <th>p5:seq_length</th>\n",
       "      <th>p10:seq_length</th>\n",
       "      <th>p25:seq_length</th>\n",
       "      <th>p50:seq_length</th>\n",
       "      <th>...</th>\n",
       "      <th>max:frst_serial-correlation</th>\n",
       "      <th>mean:frst_serial-correlation</th>\n",
       "      <th>std:frst_serial-correlation</th>\n",
       "      <th>p5:frst_serial-correlation</th>\n",
       "      <th>p10:frst_serial-correlation</th>\n",
       "      <th>p25:frst_serial-correlation</th>\n",
       "      <th>p50:frst_serial-correlation</th>\n",
       "      <th>p75:frst_serial-correlation</th>\n",
       "      <th>p90:frst_serial-correlation</th>\n",
       "      <th>p95:frst_serial-correlation</th>\n",
       "    </tr>\n",
       "  </thead>\n",
       "  <tbody>\n",
       "    <tr>\n",
       "      <th>0</th>\n",
       "      <td>False</td>\n",
       "      <td>4</td>\n",
       "      <td>104</td>\n",
       "      <td>540</td>\n",
       "      <td>305.0</td>\n",
       "      <td>195.353526</td>\n",
       "      <td>106.4</td>\n",
       "      <td>108.8</td>\n",
       "      <td>116.0</td>\n",
       "      <td>288.0</td>\n",
       "      <td>...</td>\n",
       "      <td>0.036889</td>\n",
       "      <td>-0.005203</td>\n",
       "      <td>0.034629</td>\n",
       "      <td>-0.039698</td>\n",
       "      <td>-0.039559</td>\n",
       "      <td>-0.039143</td>\n",
       "      <td>-0.008932</td>\n",
       "      <td>0.025009</td>\n",
       "      <td>0.032137</td>\n",
       "      <td>0.034513</td>\n",
       "    </tr>\n",
       "  </tbody>\n",
       "</table>\n",
       "<p>1 rows × 80 columns</p>\n",
       "</div>"
      ],
      "text/plain": [
       "   is_dna  num_seqs  min:seq_length  max:seq_length  mean:seq_length  \\\n",
       "0   False         4             104             540            305.0   \n",
       "\n",
       "   std:seq_length  p5:seq_length  p10:seq_length  p25:seq_length  \\\n",
       "0      195.353526          106.4           108.8           116.0   \n",
       "\n",
       "   p50:seq_length  ...  max:frst_serial-correlation  \\\n",
       "0           288.0  ...                     0.036889   \n",
       "\n",
       "   mean:frst_serial-correlation  std:frst_serial-correlation  \\\n",
       "0                     -0.005203                     0.034629   \n",
       "\n",
       "   p5:frst_serial-correlation  p10:frst_serial-correlation  \\\n",
       "0                   -0.039698                    -0.039559   \n",
       "\n",
       "   p25:frst_serial-correlation  p50:frst_serial-correlation  \\\n",
       "0                    -0.039143                    -0.008932   \n",
       "\n",
       "   p75:frst_serial-correlation  p90:frst_serial-correlation  \\\n",
       "0                     0.025009                     0.032137   \n",
       "\n",
       "   p95:frst_serial-correlation  \n",
       "0                     0.034513  \n",
       "\n",
       "[1 rows x 80 columns]"
      ]
     },
     "execution_count": 16,
     "metadata": {},
     "output_type": "execute_result"
    }
   ],
   "source": [
    "TEST_FILE_AA = Path(\"data/aa.fasta\")\n",
    "TEST_FILE_DNA = Path(\"data/dna.fasta\")\n",
    "\n",
    "sequences = list(SeqIO.parse(TEST_FILE_AA, \"fasta\"))\n",
    "print(\"k =\", len(sequences))\n",
    "dummy = sequences\n",
    "\n",
    "print(len(dummy))\n",
    "extractor = FeatureExtractor(dummy)\n",
    "# feat_df = extractor.compute()\n",
    "extractor._init_cache()\n",
    "# feats = extractor._get_ent_features()\n",
    "feats = extractor.compute()\n",
    "# feats.info()\n",
    "feats"
   ]
  },
  {
   "cell_type": "code",
   "execution_count": 42,
   "id": "c1d20738",
   "metadata": {},
   "outputs": [
    {
     "name": "stderr",
     "output_type": "stream",
     "text": [
      "24it [00:03,  6.98it/s]\n"
     ]
    }
   ],
   "source": [
    "from tqdm import tqdm\n",
    "\n",
    "source = \"treebase_v1\"\n",
    "data_dir = Path(\"/hits/fast/cme/bodynems/data/paper\") / source\n",
    "datasets = list(\n",
    "    filter(lambda name: os.path.isdir(data_dir / name), os.listdir(data_dir))\n",
    ")\n",
    "\n",
    "feats_dict = {}\n",
    "for i, dataset in tqdm(enumerate(datasets)):\n",
    "    # if dataset != \"25479_0.phy\":\n",
    "    #     continue\n",
    "    seqs = list(SeqIO.parse(data_dir / dataset / \"sequences.fasta\", format=\"fasta\"))\n",
    "    feats = FeatureExtractor(seqs).compute()\n",
    "    feats_dict[(source, dataset)] = feats\n",
    "    if i >= 24:\n",
    "        break\n",
    "feat_df = pd.concat(feats_dict.values(), axis=0, ignore_index=True)\n",
    "feat_df.index = pd.MultiIndex.from_tuples(\n",
    "    feats_dict.keys(), names=[\"source\", \"dataset\"]\n",
    ")\n",
    "\n",
    "# feat_df.info()"
   ]
  },
  {
   "cell_type": "code",
   "execution_count": 43,
   "id": "6c31b3a0",
   "metadata": {},
   "outputs": [
    {
     "name": "stdout",
     "output_type": "stream",
     "text": [
      "False\n",
      "True\n"
     ]
    },
    {
     "data": {
      "text/plain": [
       "min:js_divergence     9.683834e-06\n",
       "max:js_divergence     3.539026e-07\n",
       "mean:js_divergence    1.424924e-07\n",
       "std:js_divergence     2.696179e-07\n",
       "p5:js_divergence      9.634829e-06\n",
       "p10:js_divergence     1.132395e-06\n",
       "p25:js_divergence     3.301539e-06\n",
       "p50:js_divergence     9.923242e-07\n",
       "p75:js_divergence     3.114692e-06\n",
       "p90:js_divergence     6.099697e-07\n",
       "p95:js_divergence     1.767650e-07\n",
       "dtype: float64"
      ]
     },
     "execution_count": 43,
     "metadata": {},
     "output_type": "execute_result"
    }
   ],
   "source": [
    "js_a = feat_df.loc[:, feat_df.columns.str.endswith(\"js_divergence\")].copy()\n",
    "# js_b = feat_df.loc[:, feat_df.columns.str.endswith(\"js_divergence\")].copy()\n",
    "print(js_a.isna().any(axis=None))\n",
    "print(js_b.isna().any(axis=None))\n",
    "(js_a - js_b).max(axis=0)\n",
    "\n",
    "# np.corrcoef(js_a[\"mean:js_divergence\"], js_b[])"
   ]
  }
 ],
 "metadata": {
  "kernelspec": {
   "display_name": "aldiscore",
   "language": "python",
   "name": "python3"
  },
  "language_info": {
   "codemirror_mode": {
    "name": "ipython",
    "version": 3
   },
   "file_extension": ".py",
   "mimetype": "text/x-python",
   "name": "python",
   "nbconvert_exporter": "python",
   "pygments_lexer": "ipython3",
   "version": "3.13.3"
  }
 },
 "nbformat": 4,
 "nbformat_minor": 5
}
