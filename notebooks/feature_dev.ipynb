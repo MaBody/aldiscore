{
 "cells": [
  {
   "cell_type": "code",
   "execution_count": null,
   "id": "a1326b86",
   "metadata": {},
   "outputs": [
    {
     "name": "stdout",
     "output_type": "stream",
     "text": [
      "k = 4\n"
     ]
    }
   ],
   "source": [
    "%reload_ext autoreload\n",
    "%autoreload 2\n",
    "from aldiscore.prediction.extractor import FeatureExtractor\n",
    "from Bio.SeqRecord import SeqRecord\n",
    "import os\n",
    "from pathlib import Path\n",
    "from Bio import SeqIO\n",
    "from aldiscore import ROOT, get_from_config\n",
    "import numpy as np\n",
    "import pandas as pd"
   ]
  },
  {
   "cell_type": "code",
   "execution_count": null,
   "id": "dd550db5",
   "metadata": {},
   "outputs": [
    {
     "name": "stdout",
     "output_type": "stream",
     "text": [
      "{'FRST_File-bytes': '46', 'FRST_Entropy': '2.087233', 'FRST_Chi-square': '2859.043478', 'FRST_Mean': '102.695652', 'FRST_Monte-Carlo-Pi': '4.000000', 'FRST_Serial-Correlation': '-0.390175'}\n"
     ]
    }
   ],
   "source": [
    "# print(\"Header\", lines[2])\n",
    "# data = np.array(lines[2:])[1:, 2:]\n",
    "# occurrences = data[:, -1].astype(float)\n",
    "# mask = occurrences != 0\n",
    "# data = data[mask]\n",
    "# occurrences = occurrences[mask]\n",
    "# sort_idxs = occurrences.argsort()[::-1]\n",
    "# data = data[sort_idxs]\n",
    "# data\n",
    "# # # print(dists.sort(axis=0))\n",
    "# df = pd.DataFrame(lines[3:], columns=lines[2])\n",
    "# df.Value = df.Value.map(lambda v: chr(int(v)))\n",
    "# df.sort_values(\"Fraction\", ascending=False)\n",
    "# # print(chr(99))"
   ]
  },
  {
   "cell_type": "code",
   "execution_count": null,
   "id": "70509472",
   "metadata": {},
   "outputs": [
    {
     "name": "stdout",
     "output_type": "stream",
     "text": [
      "4\n"
     ]
    },
    {
     "data": {
      "text/html": [
       "<div>\n",
       "<style scoped>\n",
       "    .dataframe tbody tr th:only-of-type {\n",
       "        vertical-align: middle;\n",
       "    }\n",
       "\n",
       "    .dataframe tbody tr th {\n",
       "        vertical-align: top;\n",
       "    }\n",
       "\n",
       "    .dataframe thead th {\n",
       "        text-align: right;\n",
       "    }\n",
       "</style>\n",
       "<table border=\"1\" class=\"dataframe\">\n",
       "  <thead>\n",
       "    <tr style=\"text-align: right;\">\n",
       "      <th></th>\n",
       "      <th>is_dna</th>\n",
       "      <th>num_seqs</th>\n",
       "      <th>min:seq_length</th>\n",
       "      <th>max:seq_length</th>\n",
       "      <th>mean:seq_length</th>\n",
       "      <th>std:seq_length</th>\n",
       "      <th>p5:seq_length</th>\n",
       "      <th>p10:seq_length</th>\n",
       "      <th>p25:seq_length</th>\n",
       "      <th>p50:seq_length</th>\n",
       "      <th>...</th>\n",
       "      <th>max:frst_serial-correlation</th>\n",
       "      <th>mean:frst_serial-correlation</th>\n",
       "      <th>std:frst_serial-correlation</th>\n",
       "      <th>p5:frst_serial-correlation</th>\n",
       "      <th>p10:frst_serial-correlation</th>\n",
       "      <th>p25:frst_serial-correlation</th>\n",
       "      <th>p50:frst_serial-correlation</th>\n",
       "      <th>p75:frst_serial-correlation</th>\n",
       "      <th>p90:frst_serial-correlation</th>\n",
       "      <th>p95:frst_serial-correlation</th>\n",
       "    </tr>\n",
       "  </thead>\n",
       "  <tbody>\n",
       "    <tr>\n",
       "      <th>0</th>\n",
       "      <td>False</td>\n",
       "      <td>4</td>\n",
       "      <td>104</td>\n",
       "      <td>540</td>\n",
       "      <td>305.0</td>\n",
       "      <td>195.353526</td>\n",
       "      <td>106.4</td>\n",
       "      <td>108.8</td>\n",
       "      <td>116.0</td>\n",
       "      <td>288.0</td>\n",
       "      <td>...</td>\n",
       "      <td>0.036889</td>\n",
       "      <td>-0.005203</td>\n",
       "      <td>0.034629</td>\n",
       "      <td>-0.039698</td>\n",
       "      <td>-0.039559</td>\n",
       "      <td>-0.039143</td>\n",
       "      <td>-0.008932</td>\n",
       "      <td>0.025009</td>\n",
       "      <td>0.032137</td>\n",
       "      <td>0.034513</td>\n",
       "    </tr>\n",
       "  </tbody>\n",
       "</table>\n",
       "<p>1 rows × 80 columns</p>\n",
       "</div>"
      ],
      "text/plain": [
       "   is_dna  num_seqs  min:seq_length  max:seq_length  mean:seq_length  \\\n",
       "0   False         4             104             540            305.0   \n",
       "\n",
       "   std:seq_length  p5:seq_length  p10:seq_length  p25:seq_length  \\\n",
       "0      195.353526          106.4           108.8           116.0   \n",
       "\n",
       "   p50:seq_length  ...  max:frst_serial-correlation  \\\n",
       "0           288.0  ...                     0.036889   \n",
       "\n",
       "   mean:frst_serial-correlation  std:frst_serial-correlation  \\\n",
       "0                     -0.005203                     0.034629   \n",
       "\n",
       "   p5:frst_serial-correlation  p10:frst_serial-correlation  \\\n",
       "0                   -0.039698                    -0.039559   \n",
       "\n",
       "   p25:frst_serial-correlation  p50:frst_serial-correlation  \\\n",
       "0                    -0.039143                    -0.008932   \n",
       "\n",
       "   p75:frst_serial-correlation  p90:frst_serial-correlation  \\\n",
       "0                     0.025009                     0.032137   \n",
       "\n",
       "   p95:frst_serial-correlation  \n",
       "0                     0.034513  \n",
       "\n",
       "[1 rows x 80 columns]"
      ]
     },
     "execution_count": 16,
     "metadata": {},
     "output_type": "execute_result"
    }
   ],
   "source": [
    "TEST_FILE_AA = Path(\"data/aa.fasta\")\n",
    "TEST_FILE_DNA = Path(\"data/dna.fasta\")\n",
    "\n",
    "sequences = list(SeqIO.parse(TEST_FILE_AA, \"fasta\"))\n",
    "print(\"k =\", len(sequences))\n",
    "dummy = sequences\n",
    "\n",
    "print(len(dummy))\n",
    "extractor = FeatureExtractor(dummy)\n",
    "# feat_df = extractor.compute()\n",
    "extractor._init_cache()\n",
    "# feats = extractor._get_ent_features()\n",
    "feats = extractor.compute()\n",
    "# feats.info()\n",
    "feats"
   ]
  },
  {
   "cell_type": "code",
   "execution_count": 32,
   "id": "c1d20738",
   "metadata": {},
   "outputs": [
    {
     "name": "stderr",
     "output_type": "stream",
     "text": [
      "24it [00:03,  6.00it/s]/hits/fast/cme/bodynems/.local/lib/micromamba/envs/aldiscore/lib/python3.13/site-packages/scipy/spatial/distance.py:1391: RuntimeWarning: invalid value encountered in sqrt\n",
      "  return np.sqrt(js / 2.0)\n",
      "37it [00:04, 10.41it/s]/hits/fast/cme/bodynems/.local/lib/micromamba/envs/aldiscore/lib/python3.13/site-packages/scipy/spatial/distance.py:1391: RuntimeWarning: invalid value encountered in sqrt\n",
      "  return np.sqrt(js / 2.0)\n",
      "49it [00:06,  7.54it/s]"
     ]
    },
    {
     "name": "stdout",
     "output_type": "stream",
     "text": [
      "<class 'pandas.core.frame.DataFrame'>\n",
      "MultiIndex: 50 entries, ('treebase_v1', '22475_2.phy') to ('treebase_v1', '19516_1.phy')\n",
      "Data columns (total 80 columns):\n",
      " #   Column                        Non-Null Count  Dtype  \n",
      "---  ------                        --------------  -----  \n",
      " 0   is_dna                        50 non-null     bool   \n",
      " 1   num_seqs                      50 non-null     int64  \n",
      " 2   min:seq_length                50 non-null     int64  \n",
      " 3   max:seq_length                50 non-null     int64  \n",
      " 4   mean:seq_length               50 non-null     float64\n",
      " 5   std:seq_length                50 non-null     float64\n",
      " 6   p5:seq_length                 50 non-null     float64\n",
      " 7   p10:seq_length                50 non-null     float64\n",
      " 8   p25:seq_length                50 non-null     float64\n",
      " 9   p50:seq_length                50 non-null     float64\n",
      " 10  p75:seq_length                50 non-null     float64\n",
      " 11  p90:seq_length                50 non-null     float64\n",
      " 12  p95:seq_length                50 non-null     float64\n",
      " 13  lower_bound_gap_percentage    50 non-null     float64\n",
      " 14  min:js_divergence             48 non-null     float32\n",
      " 15  max:js_divergence             48 non-null     float32\n",
      " 16  mean:js_divergence            48 non-null     float32\n",
      " 17  std:js_divergence             48 non-null     float32\n",
      " 18  p5:js_divergence              48 non-null     float64\n",
      " 19  p10:js_divergence             48 non-null     float64\n",
      " 20  p25:js_divergence             48 non-null     float64\n",
      " 21  p50:js_divergence             48 non-null     float64\n",
      " 22  p75:js_divergence             48 non-null     float64\n",
      " 23  p90:js_divergence             48 non-null     float64\n",
      " 24  p95:js_divergence             48 non-null     float64\n",
      " 25  min:frst_entropy              50 non-null     float64\n",
      " 26  max:frst_entropy              50 non-null     float64\n",
      " 27  mean:frst_entropy             50 non-null     float64\n",
      " 28  std:frst_entropy              50 non-null     float64\n",
      " 29  p5:frst_entropy               50 non-null     float64\n",
      " 30  p10:frst_entropy              50 non-null     float64\n",
      " 31  p25:frst_entropy              50 non-null     float64\n",
      " 32  p50:frst_entropy              50 non-null     float64\n",
      " 33  p75:frst_entropy              50 non-null     float64\n",
      " 34  p90:frst_entropy              50 non-null     float64\n",
      " 35  p95:frst_entropy              50 non-null     float64\n",
      " 36  min:frst_chi-square           50 non-null     float64\n",
      " 37  max:frst_chi-square           50 non-null     float64\n",
      " 38  mean:frst_chi-square          50 non-null     float64\n",
      " 39  std:frst_chi-square           50 non-null     float64\n",
      " 40  p5:frst_chi-square            50 non-null     float64\n",
      " 41  p10:frst_chi-square           50 non-null     float64\n",
      " 42  p25:frst_chi-square           50 non-null     float64\n",
      " 43  p50:frst_chi-square           50 non-null     float64\n",
      " 44  p75:frst_chi-square           50 non-null     float64\n",
      " 45  p90:frst_chi-square           50 non-null     float64\n",
      " 46  p95:frst_chi-square           50 non-null     float64\n",
      " 47  min:frst_mean                 50 non-null     float64\n",
      " 48  max:frst_mean                 50 non-null     float64\n",
      " 49  mean:frst_mean                50 non-null     float64\n",
      " 50  std:frst_mean                 50 non-null     float64\n",
      " 51  p5:frst_mean                  50 non-null     float64\n",
      " 52  p10:frst_mean                 50 non-null     float64\n",
      " 53  p25:frst_mean                 50 non-null     float64\n",
      " 54  p50:frst_mean                 50 non-null     float64\n",
      " 55  p75:frst_mean                 50 non-null     float64\n",
      " 56  p90:frst_mean                 50 non-null     float64\n",
      " 57  p95:frst_mean                 50 non-null     float64\n",
      " 58  min:frst_monte-carlo-pi       50 non-null     float64\n",
      " 59  max:frst_monte-carlo-pi       50 non-null     float64\n",
      " 60  mean:frst_monte-carlo-pi      50 non-null     float64\n",
      " 61  std:frst_monte-carlo-pi       50 non-null     float64\n",
      " 62  p5:frst_monte-carlo-pi        50 non-null     float64\n",
      " 63  p10:frst_monte-carlo-pi       50 non-null     float64\n",
      " 64  p25:frst_monte-carlo-pi       50 non-null     float64\n",
      " 65  p50:frst_monte-carlo-pi       50 non-null     float64\n",
      " 66  p75:frst_monte-carlo-pi       50 non-null     float64\n",
      " 67  p90:frst_monte-carlo-pi       50 non-null     float64\n",
      " 68  p95:frst_monte-carlo-pi       50 non-null     float64\n",
      " 69  min:frst_serial-correlation   50 non-null     float64\n",
      " 70  max:frst_serial-correlation   50 non-null     float64\n",
      " 71  mean:frst_serial-correlation  50 non-null     float64\n",
      " 72  std:frst_serial-correlation   50 non-null     float64\n",
      " 73  p5:frst_serial-correlation    50 non-null     float64\n",
      " 74  p10:frst_serial-correlation   50 non-null     float64\n",
      " 75  p25:frst_serial-correlation   50 non-null     float64\n",
      " 76  p50:frst_serial-correlation   50 non-null     float64\n",
      " 77  p75:frst_serial-correlation   50 non-null     float64\n",
      " 78  p90:frst_serial-correlation   50 non-null     float64\n",
      " 79  p95:frst_serial-correlation   50 non-null     float64\n",
      "dtypes: bool(1), float32(4), float64(72), int64(3)\n",
      "memory usage: 32.9+ KB\n"
     ]
    },
    {
     "name": "stderr",
     "output_type": "stream",
     "text": [
      "\n"
     ]
    }
   ],
   "source": [
    "from tqdm import tqdm\n",
    "\n",
    "source = \"treebase_v1\"\n",
    "data_dir = Path(\"/hits/fast/cme/bodynems/data/paper\") / source\n",
    "datasets = list(\n",
    "    filter(lambda name: os.path.isdir(data_dir / name), os.listdir(data_dir))\n",
    ")\n",
    "\n",
    "feats_dict = {}\n",
    "for i, dataset in tqdm(enumerate(datasets)):\n",
    "    seqs = list(SeqIO.parse(data_dir / dataset / \"sequences.fasta\", format=\"fasta\"))\n",
    "    feats = FeatureExtractor(seqs).compute()\n",
    "    feats_dict[(source, dataset)] = feats\n",
    "    if i >= 49:\n",
    "        break\n",
    "feat_df = pd.concat(feats_dict.values(), axis=0, ignore_index=True)\n",
    "feat_df.index = pd.MultiIndex.from_tuples(\n",
    "    feats_dict.keys(), names=[\"source\", \"dataset\"]\n",
    ")\n",
    "feat_df.info()"
   ]
  },
  {
   "cell_type": "code",
   "execution_count": 19,
   "id": "f14a820f",
   "metadata": {},
   "outputs": [
    {
     "ename": "ModuleNotFoundError",
     "evalue": "No module named 'sklearn'",
     "output_type": "error",
     "traceback": [
      "\u001b[31m---------------------------------------------------------------------------\u001b[39m",
      "\u001b[31mModuleNotFoundError\u001b[39m                       Traceback (most recent call last)",
      "\u001b[36mCell\u001b[39m\u001b[36m \u001b[39m\u001b[32mIn[19]\u001b[39m\u001b[32m, line 1\u001b[39m\n\u001b[32m----> \u001b[39m\u001b[32m1\u001b[39m \u001b[38;5;28;01mfrom\u001b[39;00m\u001b[38;5;250m \u001b[39m\u001b[34;01msklearn\u001b[39;00m\u001b[34;01m.\u001b[39;00m\u001b[34;01mensemble\u001b[39;00m\u001b[38;5;250m \u001b[39m\u001b[38;5;28;01mimport\u001b[39;00m RandomForestRegressor\n\u001b[32m      3\u001b[39m model = RandomForestRegressor(n_estimators=\u001b[32m20\u001b[39m)\n\u001b[32m      4\u001b[39m model\n",
      "\u001b[31mModuleNotFoundError\u001b[39m: No module named 'sklearn'"
     ]
    }
   ],
   "source": [
    "from sklearn.ensemble import RandomForestRegressor\n",
    "\n",
    "model = RandomForestRegressor(n_estimators=20)\n",
    "model"
   ]
  }
 ],
 "metadata": {
  "kernelspec": {
   "display_name": "aldiscore",
   "language": "python",
   "name": "python3"
  },
  "language_info": {
   "codemirror_mode": {
    "name": "ipython",
    "version": 3
   },
   "file_extension": ".py",
   "mimetype": "text/x-python",
   "name": "python",
   "nbconvert_exporter": "python",
   "pygments_lexer": "ipython3",
   "version": "3.13.3"
  }
 },
 "nbformat": 4,
 "nbformat_minor": 5
}
