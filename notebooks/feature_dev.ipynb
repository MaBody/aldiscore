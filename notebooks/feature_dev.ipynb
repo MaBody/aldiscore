{
 "cells": [
  {
   "cell_type": "code",
   "execution_count": 1,
   "id": "a1326b86",
   "metadata": {},
   "outputs": [],
   "source": [
    "%reload_ext autoreload\n",
    "%autoreload 2\n",
    "from aldiscore.prediction.extractor import FeatureExtractor\n",
    "from Bio.SeqRecord import SeqRecord\n",
    "import os\n",
    "from pathlib import Path\n",
    "from Bio import SeqIO\n",
    "from aldiscore import ROOT, get_from_config\n",
    "import numpy as np\n",
    "import pandas as pd"
   ]
  },
  {
   "cell_type": "markdown",
   "id": "5090f165",
   "metadata": {},
   "source": [
    "Trials:\n",
    "- tc_base vs tc_dist_abs vs tc_dist_scaled vs tc_dist_log\n",
    "- tc_base + (tc_dist_abs vs tc_dist_scaled vs tc_dist_log)\n",
    "- tc_base vs tc_50 vs tc_100"
   ]
  },
  {
   "cell_type": "code",
   "execution_count": 16,
   "id": "70509472",
   "metadata": {},
   "outputs": [
    {
     "name": "stdout",
     "output_type": "stream",
     "text": [
      "k = 4\n"
     ]
    },
    {
     "data": {
      "text/html": [
       "<div>\n",
       "<style scoped>\n",
       "    .dataframe tbody tr th:only-of-type {\n",
       "        vertical-align: middle;\n",
       "    }\n",
       "\n",
       "    .dataframe tbody tr th {\n",
       "        vertical-align: top;\n",
       "    }\n",
       "\n",
       "    .dataframe thead th {\n",
       "        text-align: right;\n",
       "    }\n",
       "</style>\n",
       "<table border=\"1\" class=\"dataframe\">\n",
       "  <thead>\n",
       "    <tr style=\"text-align: right;\">\n",
       "      <th></th>\n",
       "      <th>is_dna</th>\n",
       "      <th>num_seqs</th>\n",
       "      <th>min:seq_length</th>\n",
       "      <th>max:seq_length</th>\n",
       "      <th>mean:seq_length</th>\n",
       "      <th>std:seq_length</th>\n",
       "      <th>p5:seq_length</th>\n",
       "      <th>p10:seq_length</th>\n",
       "      <th>p25:seq_length</th>\n",
       "      <th>p50:seq_length</th>\n",
       "      <th>...</th>\n",
       "      <th>max:tc_200_max</th>\n",
       "      <th>mean:tc_200_max</th>\n",
       "      <th>std:tc_200_max</th>\n",
       "      <th>p5:tc_200_max</th>\n",
       "      <th>p10:tc_200_max</th>\n",
       "      <th>p25:tc_200_max</th>\n",
       "      <th>p50:tc_200_max</th>\n",
       "      <th>p75:tc_200_max</th>\n",
       "      <th>p90:tc_200_max</th>\n",
       "      <th>p95:tc_200_max</th>\n",
       "    </tr>\n",
       "  </thead>\n",
       "  <tbody>\n",
       "    <tr>\n",
       "      <th>0</th>\n",
       "      <td>True</td>\n",
       "      <td>4</td>\n",
       "      <td>201</td>\n",
       "      <td>237</td>\n",
       "      <td>218.25</td>\n",
       "      <td>13.141062</td>\n",
       "      <td>202.8</td>\n",
       "      <td>204.6</td>\n",
       "      <td>210.0</td>\n",
       "      <td>217.5</td>\n",
       "      <td>...</td>\n",
       "      <td>0.335938</td>\n",
       "      <td>0.247697</td>\n",
       "      <td>0.057245</td>\n",
       "      <td>0.187154</td>\n",
       "      <td>0.19249</td>\n",
       "      <td>0.208498</td>\n",
       "      <td>0.236515</td>\n",
       "      <td>0.275714</td>\n",
       "      <td>0.311848</td>\n",
       "      <td>0.323893</td>\n",
       "    </tr>\n",
       "  </tbody>\n",
       "</table>\n",
       "<p>1 rows × 300 columns</p>\n",
       "</div>"
      ],
      "text/plain": [
       "   is_dna  num_seqs  min:seq_length  max:seq_length  mean:seq_length  \\\n",
       "0    True         4             201             237           218.25   \n",
       "\n",
       "   std:seq_length  p5:seq_length  p10:seq_length  p25:seq_length  \\\n",
       "0       13.141062          202.8           204.6           210.0   \n",
       "\n",
       "   p50:seq_length  ...  max:tc_200_max  mean:tc_200_max  std:tc_200_max  \\\n",
       "0           217.5  ...        0.335938         0.247697        0.057245   \n",
       "\n",
       "   p5:tc_200_max  p10:tc_200_max  p25:tc_200_max  p50:tc_200_max  \\\n",
       "0       0.187154         0.19249        0.208498        0.236515   \n",
       "\n",
       "   p75:tc_200_max  p90:tc_200_max  p95:tc_200_max  \n",
       "0        0.275714        0.311848        0.323893  \n",
       "\n",
       "[1 rows x 300 columns]"
      ]
     },
     "execution_count": 16,
     "metadata": {},
     "output_type": "execute_result"
    }
   ],
   "source": [
    "TEST_FILE_AA = Path(\"data/aa.fasta\")\n",
    "TEST_FILE_DNA = Path(\"data/dna.fasta\")\n",
    "\n",
    "sequences = list(SeqIO.parse(TEST_FILE_DNA, \"fasta\"))\n",
    "print(\"k =\", len(sequences))\n",
    "dummy = sequences\n",
    "\n",
    "# print(len(dummy))\n",
    "extractor = FeatureExtractor(dummy, track_perf=True)\n",
    "# feat_df = extractor.compute()\n",
    "extractor._init_cache()\n",
    "# feats = extractor._get_ent_features()\n",
    "feats = extractor.compute()\n",
    "# feats.info()\n",
    "feats\n",
    "# print(\n",
    "#     feats.loc[\n",
    "#         :, feats.columns.str.contains(\"tc\") & feats.columns.str.contains(\"mean:\")\n",
    "#     ].T\n",
    "# )"
   ]
  },
  {
   "cell_type": "code",
   "execution_count": null,
   "id": "e32ea601",
   "metadata": {},
   "outputs": [
    {
     "name": "stdout",
     "output_type": "stream",
     "text": [
      "2025-08-20_22-38-20.parquet\n"
     ]
    },
    {
     "data": {
      "text/plain": [
       "_init_cache                            135.772175\n",
       "_data_type                               0.000171\n",
       "_num_sequences                           0.000223\n",
       "_sequence_length                         0.025980\n",
       "_lower_bound_gap_percentage              0.028097\n",
       "_sequence_js_divergence                  0.149940\n",
       "_ent_randomness                          3.132074\n",
       "_transitive_consistency                  0.663932\n",
       "_transitive_consistency_dist             0.717448\n",
       "_transitive_consistency_dist_scaled      0.638519\n",
       "_transitive_consistency_dist_log         0.675452\n",
       "_transitive_consistency_50               0.103941\n",
       "_transitive_consistency_100              0.218868\n",
       "_transitive_consistency_200              0.392059\n",
       "dtype: float64"
      ]
     },
     "execution_count": 17,
     "metadata": {},
     "output_type": "execute_result"
    }
   ],
   "source": [
    "perf_dir = ROOT / \"logs\" / \"perf\"\n",
    "perf_file = sorted(os.listdir(perf_dir))[-1]\n",
    "print(perf_file)\n",
    "perf_df = pd.read_parquet(perf_dir / perf_file)\n",
    "perf_df.groupby(\"source\").max()"
   ]
  },
  {
   "cell_type": "code",
   "execution_count": 2,
   "id": "c1d20738",
   "metadata": {},
   "outputs": [
    {
     "name": "stderr",
     "output_type": "stream",
     "text": [
      "11it [00:06,  1.63it/s]\n"
     ]
    },
    {
     "ename": "KeyboardInterrupt",
     "evalue": "",
     "output_type": "error",
     "traceback": [
      "\u001b[31m---------------------------------------------------------------------------\u001b[39m",
      "\u001b[31mKeyboardInterrupt\u001b[39m                         Traceback (most recent call last)",
      "\u001b[32m/tmp/ipykernel_2735382/2137881685.py\u001b[39m in \u001b[36m?\u001b[39m\u001b[34m()\u001b[39m\n\u001b[32m     10\u001b[39m \u001b[38;5;28;01mfor\u001b[39;00m i, dataset \u001b[38;5;28;01min\u001b[39;00m tqdm(enumerate(datasets)):\n\u001b[32m     11\u001b[39m     \u001b[38;5;66;03m# if dataset != \"25479_0.phy\":\u001b[39;00m\n\u001b[32m     12\u001b[39m     \u001b[38;5;66;03m#     continue\u001b[39;00m\n\u001b[32m     13\u001b[39m     seqs = list(SeqIO.parse(data_dir / dataset / \u001b[33m\"sequences.fasta\"\u001b[39m, format=\u001b[33m\"fasta\"\u001b[39m))\n\u001b[32m---> \u001b[39m\u001b[32m14\u001b[39m     feats = FeatureExtractor(seqs).compute()\n\u001b[32m     15\u001b[39m     feats_dict[(source, dataset)] = feats\n\u001b[32m     16\u001b[39m     \u001b[38;5;28;01mif\u001b[39;00m i >= \u001b[32m24\u001b[39m:\n\u001b[32m     17\u001b[39m         \u001b[38;5;28;01mbreak\u001b[39;00m\n",
      "\u001b[32m/hits/fast/cme/bodynems/aldiscore/aldiscore/prediction/extractor.py\u001b[39m in \u001b[36m?\u001b[39m\u001b[34m(self, exclude)\u001b[39m\n\u001b[32m     65\u001b[39m             \u001b[38;5;28;01mtry\u001b[39;00m:\n\u001b[32m     66\u001b[39m                 feature_dict = feature_func()\n\u001b[32m     67\u001b[39m                 \u001b[38;5;28;01massert\u001b[39;00m isinstance(feature_dict, dict)\n\u001b[32m     68\u001b[39m                 features_dict.update(feature_dict)\n\u001b[32m---> \u001b[39m\u001b[32m69\u001b[39m             \u001b[38;5;28;01mexcept\u001b[39;00m Exception \u001b[38;5;28;01mas\u001b[39;00m e:\n\u001b[32m     70\u001b[39m                 raise ValueError(\n\u001b[32m     71\u001b[39m                     f\"Problem with feature {feature_func}\", e, traceback.format_exc()\n\u001b[32m     72\u001b[39m                 )\n",
      "\u001b[32m/hits/fast/cme/bodynems/aldiscore/aldiscore/prediction/extractor.py\u001b[39m in \u001b[36m?\u001b[39m\u001b[34m(*args, **kwargs)\u001b[39m\n\u001b[32m     37\u001b[39m             t1 = time()\n\u001b[32m     38\u001b[39m             result = func(*args, **kwargs)\n\u001b[32m     39\u001b[39m             print(f\"{func.__name__}: {time() - t1:.6f}\")\n\u001b[32m     40\u001b[39m         \u001b[38;5;28;01melse\u001b[39;00m:\n\u001b[32m---> \u001b[39m\u001b[32m41\u001b[39m             result = func(*args, **kwargs)\n\u001b[32m     42\u001b[39m         \u001b[38;5;28;01mreturn\u001b[39;00m result\n",
      "\u001b[32m/hits/fast/cme/bodynems/aldiscore/aldiscore/prediction/extractor.py\u001b[39m in \u001b[36m?\u001b[39m\u001b[34m(self)\u001b[39m\n\u001b[32m    121\u001b[39m     @_feature\n\u001b[32m    122\u001b[39m     \u001b[38;5;28;01mdef\u001b[39;00m _init_cache(self) -> dict[str, str]:\n\u001b[32m    123\u001b[39m         self._cache[self._SEQ_LEN] = [len(seq) \u001b[38;5;28;01mfor\u001b[39;00m seq \u001b[38;5;28;01min\u001b[39;00m self._sequences]\n\u001b[32m    124\u001b[39m         self._cache[self._CHAR_DIST] = self._get_char_distributions()\n\u001b[32m--> \u001b[39m\u001b[32m125\u001b[39m         alignments, groupings = self._get_pairwise_alignments()\n\u001b[32m    126\u001b[39m         self._cache[self._PSA] = alignments\n\u001b[32m    127\u001b[39m         self._cache[self._PSA_GROUPS] = groupings\n\u001b[32m    128\u001b[39m         self._cache[self._DTYPE] = str(infer_data_type(self._sequences))\n",
      "\u001b[32m/hits/fast/cme/bodynems/aldiscore/aldiscore/prediction/extractor.py\u001b[39m in \u001b[36m?\u001b[39m\u001b[34m(self)\u001b[39m\n\u001b[32m    361\u001b[39m             \u001b[38;5;28;01mfor\u001b[39;00m combi \u001b[38;5;28;01min\u001b[39;00m itertools.combinations(seq_tuple, r=\u001b[32m2\u001b[39m):\n\u001b[32m    362\u001b[39m                 idx_q, idx_r = combi\n\u001b[32m    363\u001b[39m                 \u001b[38;5;28;01mif\u001b[39;00m (idx_q \u001b[38;5;28;01min\u001b[39;00m alignments) \u001b[38;5;28;01mand\u001b[39;00m (idx_r \u001b[38;5;28;01min\u001b[39;00m alignments[idx_q]):\n\u001b[32m    364\u001b[39m                     \u001b[38;5;28;01mcontinue\u001b[39;00m\n\u001b[32m--> \u001b[39m\u001b[32m365\u001b[39m                 al = parasail.nw_trace_striped_16(\n\u001b[32m    366\u001b[39m                     str(self._sequences[idx_q].seq),\n\u001b[32m    367\u001b[39m                     str(self._sequences[idx_r].seq),\n\u001b[32m    368\u001b[39m                     OP,\n",
      "\u001b[32m/hits/fast/cme/bodynems/.local/lib/micromamba/envs/aldiscore/lib/python3.13/site-packages/parasail/bindings_v2.py\u001b[39m in \u001b[36m?\u001b[39m\u001b[34m(s1, s2, open, extend, matrix)\u001b[39m\n\u001b[32m   2701\u001b[39m \u001b[38;5;28;01mdef\u001b[39;00m nw_trace_striped_16(s1, s2, open, extend, matrix):\n\u001b[32m-> \u001b[39m\u001b[32m2702\u001b[39m     return Result(_lib.parasail_nw_trace_striped_16(\n\u001b[32m   2703\u001b[39m         b(s1), len(s1), b(s2), len(s2), open, extend, matrix),\n\u001b[32m   2704\u001b[39m         len(s1), len(s2), s1, s2, matrix)\n",
      "\u001b[31mKeyboardInterrupt\u001b[39m: "
     ]
    }
   ],
   "source": [
    "from tqdm import tqdm\n",
    "\n",
    "source = \"treebase_v1\"\n",
    "data_dir = Path(\"/hits/fast/cme/bodynems/data/paper\") / source\n",
    "datasets = list(\n",
    "    filter(lambda name: os.path.isdir(data_dir / name), os.listdir(data_dir))\n",
    ")\n",
    "\n",
    "feats_dict = {}\n",
    "for i, dataset in tqdm(enumerate(datasets)):\n",
    "    # if dataset != \"25479_0.phy\":\n",
    "    #     continue\n",
    "    seqs = list(SeqIO.parse(data_dir / dataset / \"sequences.fasta\", format=\"fasta\"))\n",
    "    feats = FeatureExtractor(seqs).compute()\n",
    "    feats_dict[(source, dataset)] = feats\n",
    "    if i >= 24:\n",
    "        break\n",
    "feat_df = pd.concat(feats_dict.values(), axis=0, ignore_index=True)\n",
    "feat_df.index = pd.MultiIndex.from_tuples(\n",
    "    feats_dict.keys(), names=[\"source\", \"dataset\"]\n",
    ")\n",
    "\n",
    "# feat_df.info()"
   ]
  },
  {
   "cell_type": "code",
   "execution_count": null,
   "id": "7d0965f8",
   "metadata": {},
   "outputs": [
    {
     "name": "stdout",
     "output_type": "stream",
     "text": [
      "50\n",
      "[SeqRecord(seq=Seq('ADTYAATRYPVILVHGLAGTDKFANVVDYWYGIQSDLQSHGAKVYVANLSGFQS...QGV'), id='1cvl', name='1cvl', description='1cvl', dbxrefs=[]), SeqRecord(seq=Seq('SSYAKTKYPILLAHGMAGFSAVGPLQYWNGITEDLVGNGANVFVAQQASFNSSE...QGL'), id='19|1cvl|gi|4768272', name='19|1cvl|gi|4768272', description='19|1cvl|gi|4768272', dbxrefs=[]), SeqRecord(seq=Seq('NYTKTKYPIVLVHGVTGFNTIGGLVNYFHTIPWNLERDGARVHVASVAAFNDSE...KGV'), id='24|1cvl|gi|2072017', name='24|1cvl|gi|2072017', description='24|1cvl|gi|2072017', dbxrefs=[]), SeqRecord(seq=Seq('ATDYTRTRYPIVLSHGLFGFKSVGPVDYWHAIVPALEKDGAKVFATSQSPVNSN...VGL'), id='11|1cvl|gi|9951080', name='11|1cvl|gi|9951080', description='11|1cvl|gi|9951080', dbxrefs=[]), SeqRecord(seq=Seq('AGEGHPVVLLHGSGPGATGWSNYSDNIEALSRHFHVYAVDLPGWGDSDPADFAT...FLK'), id='34|1cvl|gi|3059193', name='34|1cvl|gi|3059193', description='34|1cvl|gi|3059193', dbxrefs=[]), SeqRecord(seq=Seq('ATRYPLVLVPGMLGFVRMVLYPYWFGIVPALRKGGAQVFPVQVSPLHSSEVRGE...AGL'), id='39|1cvl|gi|24986618', name='39|1cvl|gi|24986618', description='39|1cvl|gi|24986618', dbxrefs=[]), SeqRecord(seq=Seq('AGSGPPVVLIHGSGPGVTAYANWRLTIPALAERFRVLAPDMVGFGGTERPPGVV...FLA'), id='30|1cvl|gi|3273241', name='30|1cvl|gi|3273241', description='30|1cvl|gi|3273241', dbxrefs=[]), SeqRecord(seq=Seq('DWGPKSAQPIVFHHGWPLSSDEWDNQMLFFLGRGFRVIAHDRRGHGRSSQASEG...SPL'), id='32|1cvl|gi|15141041', name='32|1cvl|gi|15141041', description='32|1cvl|gi|15141041', dbxrefs=[]), SeqRecord(seq=Seq('ASTYTQTKYPIVLAHGMLGFDNILGVDYWFGIPSALRRDGAQVYVTEVSQLDTS...ASL'), id='12|1cvl|gi|1752730', name='12|1cvl|gi|1752730', description='12|1cvl|gi|1752730', dbxrefs=[]), SeqRecord(seq=Seq('TATRYPLVLVPGMLGFIRLLLYPYWYGIIKALRRGGATVIAVQVSPLNSTEVRG...AGL'), id='27|1cvl|gi|3098280', name='27|1cvl|gi|3098280', description='27|1cvl|gi|3098280', dbxrefs=[]), SeqRecord(seq=Seq('YTETRYPLVLVHGIFGFDSIAKIDYFYGIPHALSKDGATVFTAQVAAANRSEVR...LGL'), id='20|1cvl|gi|4530529', name='20|1cvl|gi|4530529', description='20|1cvl|gi|4530529', dbxrefs=[]), SeqRecord(seq=Seq('GKGRPVVFSHGWPLTADAWDAQMLFLGSKGFRVIAHDRRGHGRSQQPWDGNDMD...QHG'), id='42|1cvl|gi|22989069', name='42|1cvl|gi|22989069', description='42|1cvl|gi|22989069', dbxrefs=[]), SeqRecord(seq=Seq('SDYAKTRYPIVLVHGLTGAAKMGGVIDYWYGIPEVLRANGATVYVSTVPSFNSD...LRN'), id='38|1cvl|gi|22979988', name='38|1cvl|gi|22979988', description='38|1cvl|gi|22979988', dbxrefs=[]), SeqRecord(seq=Seq('DSYAATKYPIIFEPGFGGVDKLFVFIDYFYRIPEDLRAHGANVYLSTSSAFQRP...QGL'), id='8|1cvl|gi|28198381', name='8|1cvl|gi|28198381', description='8|1cvl|gi|28198381', dbxrefs=[]), SeqRecord(seq=Seq('AGEGHPVVLLHGGGPGATGWSNYSPNIEALSKHFRVIAPDMPGWGDSDAVDFGT...VLH'), id='45|1cvl|gi|17425268', name='45|1cvl|gi|17425268', description='45|1cvl|gi|17425268', dbxrefs=[]), SeqRecord(seq=Seq('YPIVLVHGLSGFDDIVGYPYFYGIRDALEKDGHKVFTASLSAFNSNEVRGEQLW...KKL'), id='26|1cvl|gi|1322025', name='26|1cvl|gi|1322025', description='26|1cvl|gi|1322025', dbxrefs=[]), SeqRecord(seq=Seq('GQGVPVLLIHGSGPGVTAWANWRLTIPELAKQFRVIAPDMVGFGYTERPVGIRY...FSE'), id='28|1cvl|gi|22977450', name='28|1cvl|gi|22977450', description='28|1cvl|gi|22977450', dbxrefs=[]), SeqRecord(seq=Seq('GHGQPIVFHHGWPLSSDDWDTQMLFFLNKGFRVIAHDRRGHGRSSQTAMGNAMD...AHL'), id='37|1cvl|gi|23062161', name='37|1cvl|gi|23062161', description='37|1cvl|gi|23062161', dbxrefs=[]), SeqRecord(seq=Seq('YTQTRYPIVLVHGLFGFDKLAGVDYFYGIPESLTKDGAKVYVAQVSATNSSEVR...QGL'), id='22|1cvl|gi|27365668', name='22|1cvl|gi|27365668', description='22|1cvl|gi|27365668', dbxrefs=[]), SeqRecord(seq=Seq('YTQTRYPIVLVHGLFGFDTLAGMDYFHGIPQSLTRDGAQVYVAQVSATNSSERR...AGL'), id='10|1cvl|gi|11262200', name='10|1cvl|gi|11262200', description='10|1cvl|gi|11262200', dbxrefs=[]), SeqRecord(seq=Seq('YTATKYPIVLTHGMLGFDSLLGIDYWYGIPSALRRDGAQVYITEVSQLNTSELR...AGL'), id='16|1cvl|gi|20278646', name='16|1cvl|gi|20278646', description='16|1cvl|gi|20278646', dbxrefs=[]), SeqRecord(seq=Seq('DWGPRDGLPVVFHHGWPLSADDWDNQMLFFLSHGYRVIAHDRRGHGRSDQPSTG...AAP'), id='43|1cvl|gi|21219005', name='43|1cvl|gi|21219005', description='43|1cvl|gi|21219005', dbxrefs=[]), SeqRecord(seq=Seq('GEGQPVILIHGSGPGVSAYANWRLTIPALSKFYRVIAPDMVGFGFTDRPENYNY...FNE'), id='25|1cvl|gi|15076977', name='25|1cvl|gi|15076977', description='25|1cvl|gi|15076977', dbxrefs=[]), SeqRecord(seq=Seq('TRYPILLVHGLFGFDRIGSHHYFHGIKQALNECGASVFVPIISAANDNEARGDQ...AGL'), id='23|1cvl|gi|9971138', name='23|1cvl|gi|9971138', description='23|1cvl|gi|9971138', dbxrefs=[]), SeqRecord(seq=Seq('DWGPKDAQPIVFHHGWPLSSDDWDAQMLFFVSKGYRVVAHDRRGHGRSAQVSEG...ELA'), id='44|1cvl|gi|28558874', name='44|1cvl|gi|28558874', description='44|1cvl|gi|28558874', dbxrefs=[]), SeqRecord(seq=Seq('KPILLVPGTGTTGPQSFDNWIPLSTQLGYTPAWISPPPLNDTQVNTEYMVNAIT...TTG'), id='1tca', name='1tca', description='1tca', dbxrefs=[]), SeqRecord(seq=Seq('PNPVLLIHGIFDTIKIFDKMSRYLKKLGWEVYSVNLIPNYGILGLDKLAEQVAN...AEP'), id='11|1tca|gi|23040229', name='11|1tca|gi|23040229', description='11|1tca|gi|23040229', dbxrefs=[]), SeqRecord(seq=Seq('DWRARPSGARPWPIVLIHGSGASKGSWEEMGAELRSKGWAVFAPDFGTRATEPI...AEL'), id='8|1tca|gi|19551331', name='8|1tca|gi|19551331', description='8|1tca|gi|19551331', dbxrefs=[]), SeqRecord(seq=Seq('SEKHLGVAPRGVNDFSCKVKPGDRPVILIPGTGGNAFATWSFYGPHLAHEGYCV...CTW'), id='12|1tca|gi|1430921', name='12|1tca|gi|1430921', description='12|1tca|gi|1430921', dbxrefs=[]), SeqRecord(seq=Seq('RNPVLLVHGITDTETVFNPMAVYLRQLGWTVYTLNLVPNNGEAPLNVLAQQVAD...HSS'), id='18|1tca|gi|17130699', name='18|1tca|gi|17130699', description='18|1tca|gi|17130699', dbxrefs=[]), SeqRecord(seq=Seq('ANAEVGRMVLAGGIETNLHDVGAGKPVVLVHGSGPGVTAWANWRTVMPELSRRR...YSA'), id='33|1tca|gi|3184043', name='33|1tca|gi|3184043', description='33|1tca|gi|3184043', dbxrefs=[]), SeqRecord(seq=Seq('ATGQGHPVVLIHGVGLNKEMWGGQIVGLATHYQVIAYDMLGHGASPRPDPDTGL...VNQ'), id='22|1tca|gi|23468546', name='22|1tca|gi|23468546', description='22|1tca|gi|23468546', dbxrefs=[]), SeqRecord(seq=Seq('LPAAPDLQGAPSMIQPVAERTPAGTSYLDVGQGQPVVLIHGVGLNKEMWGGQFV...VNK'), id='16|1tca|gi|24985315', name='16|1tca|gi|24985315', description='16|1tca|gi|24985315', dbxrefs=[]), SeqRecord(seq=Seq('SAPAAASVLDVPPGGANDWSCKPDSAHPQPVVLVNGTFKLMAENWSKLSPKLKE...DAL'), id='3|1tca|gi|2435400', name='3|1tca|gi|2435400', description='3|1tca|gi|2435400', dbxrefs=[]), SeqRecord(seq=Seq('DKGPKPVVFLQHGLLADSSNWVTNLANSSLGFILADAGFDVWMGNSRGNTWSRK...YPP'), id='17|1tca|gi|187152', name='17|1tca|gi|187152', description='17|1tca|gi|187152', dbxrefs=[]), SeqRecord(seq=Seq('PDRHPVVLVHGIYDTRAKFATMVDFLTKGGWSVHCLDLVPNDGSTSLALLAEQV...SSH'), id='24|1tca|gi|7470193', name='24|1tca|gi|7470193', description='24|1tca|gi|7470193', dbxrefs=[]), SeqRecord(seq=Seq('DWRARPTEDRPWPVVLVHGTGSTKGDWQDLGADLRRDGWAVFAPEFGQRATGSV...VRA'), id='7|1tca|gi|19551330', name='7|1tca|gi|19551330', description='7|1tca|gi|19551330', dbxrefs=[]), SeqRecord(seq=Seq('ATGVGQPVVLIHGVGLNKEMWGGQIVGLATQYRVIAYDMLGHGASPRPASGTAL...VNQ'), id='14|1tca|gi|23062570', name='14|1tca|gi|23062570', description='14|1tca|gi|23062570', dbxrefs=[]), SeqRecord(seq=Seq('LPLSAALLAGCGTLTQAPSELSAQALAAPVRHPVLFVHGFNSDGSIWSPMMNRF...NSS'), id='25|1tca|gi|6459873', name='25|1tca|gi|6459873', description='25|1tca|gi|6459873', dbxrefs=[]), SeqRecord(seq=Seq('DKGPKPVVYLQWRHGFLADSSNWVTNIDNNSLGFILADAGFDVWMGNSRGNTWS...WLA'), id='13|1tca|gi|20138456', name='13|1tca|gi|20138456', description='13|1tca|gi|20138456', dbxrefs=[]), SeqRecord(seq=Seq('DQGEGFPVLLIHGSGPGVTAWANWRGIIPQLAQTRRVVAPDMLGFGYSERPADG...YQA'), id='27|1tca|gi|4104768', name='27|1tca|gi|4104768', description='27|1tca|gi|4104768', dbxrefs=[]), SeqRecord(seq=Seq('GRLAYEAAGDPGAIPLIFLHGIGGAARAWRHQLATFGDRFRAIAWDMPGYGGSA...RAV'), id='2|1tca|gi|27381194', name='2|1tca|gi|27381194', description='2|1tca|gi|27381194', dbxrefs=[]), SeqRecord(seq=Seq('GKRPVVYLQHGLIASATNWIANLPNNSLAFMLADAGYDVWLGNSRGNTWSRKNV...DPQ'), id='28|1tca|gi|126307', name='28|1tca|gi|126307', description='28|1tca|gi|126307', dbxrefs=[]), SeqRecord(seq=Seq('ARPGALPVLLVHGLMDSSDTWVMMGPSSSLGYMLYEQGYDVWMANVRGNTYTKR...VEK'), id='9|1tca|gi|22946184', name='9|1tca|gi|22946184', description='9|1tca|gi|22946184', dbxrefs=[]), SeqRecord(seq=Seq('RNPVLLVHGIDDRGAVFHKMTGYLGLQGWSVYSLDLVPNNGDVGLDKLAKQVAD...AAL'), id='26|1tca|gi|23125369', name='26|1tca|gi|23125369', description='26|1tca|gi|23125369', dbxrefs=[]), SeqRecord(seq=Seq('EGSRPVVLLQHGLLGDASNWISNLPNNSLGFILADAGFDVWMGNSRGNTWSRKH...NPD'), id='15|1tca|gi|26332054', name='15|1tca|gi|26332054', description='15|1tca|gi|26332054', dbxrefs=[]), SeqRecord(seq=Seq('HALFADNAYWLENFPNGSLGFLLADAGYDVWMGNSRGNTWSRRHKTLSVNEEKF...TPQ'), id='20|1tca|gi|27685377', name='20|1tca|gi|27685377', description='20|1tca|gi|27685377', dbxrefs=[]), SeqRecord(seq=Seq('AQVIATVDVQAGEDDWNTPPSEEHPRPVVLVHGTFGNRGYTWNTAVPLLRRHGH...LKA'), id='4|1tca|gi|21219773', name='4|1tca|gi|21219773', description='4|1tca|gi|21219773', dbxrefs=[]), SeqRecord(seq=Seq('VPATAATAAPTADARPGSGWNDYTCKPSAAHPRPVVLVHGTFGNSVDNWLGLAP...AIG'), id='5|1tca|gi|5531445', name='5|1tca|gi|5531445', description='5|1tca|gi|5531445', dbxrefs=[]), SeqRecord(seq=Seq('DWRARTTPERPWPVILIHGTGTTKGDWQELGADLRRDGWAVFAPDFGTRATGPV...VRA'), id='6|1tca|gi|25026649', name='6|1tca|gi|25026649', description='6|1tca|gi|25026649', dbxrefs=[])]\n",
      "102\n",
      "33\n",
      "is_dna | num_seqs | min:seq_length | max:seq_length | mean:seq_length | std:seq_length | \n",
      "p5:seq_length | p10:seq_length | p25:seq_length | p50:seq_length | p75:seq_length | p90:seq_length | \n",
      "p95:seq_length | lower_bound_gap_percentage | min:js_divergence | max:js_divergence | mean:js_divergence | std:js_divergence | \n",
      "p5:js_divergence | p10:js_divergence | p25:js_divergence | p50:js_divergence | p75:js_divergence | p90:js_divergence | \n",
      "p95:js_divergence | min:frst_entropy | max:frst_entropy | mean:frst_entropy | std:frst_entropy | p5:frst_entropy | \n",
      "p10:frst_entropy | p25:frst_entropy | p50:frst_entropy | p75:frst_entropy | p90:frst_entropy | p95:frst_entropy | \n",
      "min:frst_chi-square | max:frst_chi-square | mean:frst_chi-square | std:frst_chi-square | p5:frst_chi-square | p10:frst_chi-square | \n",
      "p25:frst_chi-square | p50:frst_chi-square | p75:frst_chi-square | p90:frst_chi-square | p95:frst_chi-square | min:frst_mean | \n",
      "max:frst_mean | mean:frst_mean | std:frst_mean | p5:frst_mean | p10:frst_mean | p25:frst_mean | \n",
      "p50:frst_mean | p75:frst_mean | p90:frst_mean | p95:frst_mean | min:frst_serial-correlation | max:frst_serial-correlation | \n",
      "mean:frst_serial-correlation | std:frst_serial-correlation | p5:frst_serial-correlation | p10:frst_serial-correlation | p25:frst_serial-correlation | p50:frst_serial-correlation | \n",
      "p75:frst_serial-correlation | p90:frst_serial-correlation | p95:frst_serial-correlation | min:tc_min | max:tc_min | mean:tc_min | \n",
      "std:tc_min | p5:tc_min | p10:tc_min | p25:tc_min | p50:tc_min | p75:tc_min | \n",
      "p90:tc_min | p95:tc_min | min:tc_mean | max:tc_mean | mean:tc_mean | std:tc_mean | \n",
      "p5:tc_mean | p10:tc_mean | p25:tc_mean | p50:tc_mean | p75:tc_mean | p90:tc_mean | \n",
      "p95:tc_mean | min:tc_max | max:tc_max | mean:tc_max | std:tc_max | p5:tc_max | \n",
      "p10:tc_max | p25:tc_max | p50:tc_max | p75:tc_max | p90:tc_max | p95:tc_max | \n"
     ]
    }
   ],
   "source": [
    "import parasail\n",
    "from Bio.Seq import Seq\n",
    "from Bio import SeqIO\n",
    "import itertools\n",
    "import random\n",
    "from aldiscore.scoring.encoding import encode_positions\n",
    "from aldiscore.enums.enums import PositionalEncodingEnum as PSE\n",
    "from collections import defaultdict\n",
    "\n",
    "seq_path = Path(\"/hits/fast/cme/bodynems/data/paper/prefab4/1cvl_1tca/sequences.fasta\")\n",
    "sequences = list(SeqIO.parse(seq_path, format=\"fasta\"))\n",
    "print(len(sequences))\n",
    "print(sequences)\n",
    "GAP_CHAR = \"-\"\n",
    "# sequences = [\n",
    "#     SeqRecord(Seq(\"ACCCA\")),\n",
    "#     SeqRecord(Seq(\"ACAGTAAACCA\")),\n",
    "#     SeqRecord(Seq(\"ACGGTACATTA\")),\n",
    "#     SeqRecord(Seq(\"TTCTTAG\")),\n",
    "#     SeqRecord(Seq(\"GCTACTATTA\")),\n",
    "#     SeqRecord(Seq(\"TTAATGGGGGGA\")),\n",
    "#     SeqRecord(Seq(\"ATTTCTA\")),\n",
    "#     SeqRecord(Seq(\"ATTTATTAAACCA\")),\n",
    "#     SeqRecord(Seq(\"ATTTGTTACATTA\")),\n",
    "#     SeqRecord(Seq(\"TTTTCTTAG\")),\n",
    "#     SeqRecord(Seq(\"GTTTTTCTATTA\")),\n",
    "#     SeqRecord(Seq(\"TTTTATTGGGGGGA\")),\n",
    "# ]\n",
    "extractor = FeatureExtractor(sequences)\n",
    "extractor._init_cache()\n",
    "out = extractor.compute()\n",
    "print(len(out.columns))\n",
    "print(len(out.columns[out.columns.str.contains(\"tc_\")]))\n",
    "for i, col in enumerate(out.columns):\n",
    "    print(col, end=\" | \")\n",
    "    if (i + 1) % 6 == 0:\n",
    "        print()\n",
    "# idx_map = extractor._cache[extractor._PSA_INDEX_MAP]\n",
    "# for idx_a in idx_map:\n",
    "#     print(idx_map[idx_a])\n",
    "\n",
    "# print(groups)\n",
    "# for idx_a in aligns:\n",
    "#     print(idx_a)\n",
    "#     for idx_b in aligns[idx_a]:\n",
    "#         print(\"  \" + str(idx_b))"
   ]
  }
 ],
 "metadata": {
  "kernelspec": {
   "display_name": "aldiscore",
   "language": "python",
   "name": "python3"
  },
  "language_info": {
   "codemirror_mode": {
    "name": "ipython",
    "version": 3
   },
   "file_extension": ".py",
   "mimetype": "text/x-python",
   "name": "python",
   "nbconvert_exporter": "python",
   "pygments_lexer": "ipython3",
   "version": "3.13.3"
  }
 },
 "nbformat": 4,
 "nbformat_minor": 5
}
