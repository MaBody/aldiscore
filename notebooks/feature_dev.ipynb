{
 "cells": [
  {
   "cell_type": "code",
   "execution_count": 4,
   "id": "a1326b86",
   "metadata": {},
   "outputs": [],
   "source": [
    "%reload_ext autoreload\n",
    "%autoreload 2\n",
    "from aldiscore.prediction.extractor import FeatureExtractor\n",
    "from aldiscore.prediction import utils\n",
    "from Bio.SeqRecord import SeqRecord\n",
    "from Bio.Seq import Seq\n",
    "import os\n",
    "from pathlib import Path\n",
    "from Bio import SeqIO\n",
    "from aldiscore import ROOT, get_from_config\n",
    "import numpy as np\n",
    "import pandas as pd"
   ]
  },
  {
   "cell_type": "markdown",
   "id": "5090f165",
   "metadata": {},
   "source": [
    "Trials:\n",
    "- tc_base vs tc_different_statistics!\n",
    "- tc_base vs tc_dist_abs vs tc_dist_scaled vs tc_dist_log\n",
    "- tc_base + (tc_dist_abs vs tc_dist_scaled vs tc_dist_log)\n",
    "- tc_base vs tc_50 vs tc_100\n",
    "\n",
    "TODOs:\n",
    "- Try new/better aggregation statistics\n",
    "- Add remaining PSA features\n",
    "- Look into simulation paper again\n"
   ]
  },
  {
   "cell_type": "code",
   "execution_count": 5,
   "id": "70509472",
   "metadata": {},
   "outputs": [
    {
     "name": "stdout",
     "output_type": "stream",
     "text": [
      "k = 4\n",
      "[104, 120, 456, 540]\n"
     ]
    },
    {
     "data": {
      "text/html": [
       "<div>\n",
       "<style scoped>\n",
       "    .dataframe tbody tr th:only-of-type {\n",
       "        vertical-align: middle;\n",
       "    }\n",
       "\n",
       "    .dataframe tbody tr th {\n",
       "        vertical-align: top;\n",
       "    }\n",
       "\n",
       "    .dataframe thead th {\n",
       "        text-align: right;\n",
       "    }\n",
       "</style>\n",
       "<table border=\"1\" class=\"dataframe\">\n",
       "  <thead>\n",
       "    <tr style=\"text-align: right;\">\n",
       "      <th></th>\n",
       "      <th>is_dna</th>\n",
       "      <th>num_seqs</th>\n",
       "      <th>min:seq_length</th>\n",
       "      <th>max:seq_length</th>\n",
       "      <th>mean:seq_length</th>\n",
       "      <th>std:seq_length</th>\n",
       "      <th>p1:seq_length</th>\n",
       "      <th>p5:seq_length</th>\n",
       "      <th>p10:seq_length</th>\n",
       "      <th>p20:seq_length</th>\n",
       "      <th>...</th>\n",
       "      <th>p30:9mer_ent</th>\n",
       "      <th>p40:9mer_ent</th>\n",
       "      <th>p50:9mer_ent</th>\n",
       "      <th>p60:9mer_ent</th>\n",
       "      <th>p70:9mer_ent</th>\n",
       "      <th>p80:9mer_ent</th>\n",
       "      <th>p90:9mer_ent</th>\n",
       "      <th>p95:9mer_ent</th>\n",
       "      <th>p99:9mer_ent</th>\n",
       "      <th>iqr:9mer_ent</th>\n",
       "    </tr>\n",
       "  </thead>\n",
       "  <tbody>\n",
       "    <tr>\n",
       "      <th>0</th>\n",
       "      <td>False</td>\n",
       "      <td>4</td>\n",
       "      <td>104</td>\n",
       "      <td>540</td>\n",
       "      <td>305.0</td>\n",
       "      <td>195.353526</td>\n",
       "      <td>104.48</td>\n",
       "      <td>106.4</td>\n",
       "      <td>108.8</td>\n",
       "      <td>113.6</td>\n",
       "      <td>...</td>\n",
       "      <td>6.785344</td>\n",
       "      <td>7.207566</td>\n",
       "      <td>7.80754</td>\n",
       "      <td>8.407514</td>\n",
       "      <td>8.832288</td>\n",
       "      <td>8.906661</td>\n",
       "      <td>8.981034</td>\n",
       "      <td>9.01822</td>\n",
       "      <td>9.04797</td>\n",
       "      <td>2.188032</td>\n",
       "    </tr>\n",
       "  </tbody>\n",
       "</table>\n",
       "<p>1 rows × 490 columns</p>\n",
       "</div>"
      ],
      "text/plain": [
       "   is_dna  num_seqs  min:seq_length  max:seq_length  mean:seq_length  \\\n",
       "0   False         4             104             540            305.0   \n",
       "\n",
       "   std:seq_length  p1:seq_length  p5:seq_length  p10:seq_length  \\\n",
       "0      195.353526         104.48          106.4           108.8   \n",
       "\n",
       "   p20:seq_length  ...  p30:9mer_ent  p40:9mer_ent  p50:9mer_ent  \\\n",
       "0           113.6  ...      6.785344      7.207566       7.80754   \n",
       "\n",
       "   p60:9mer_ent  p70:9mer_ent  p80:9mer_ent  p90:9mer_ent  p95:9mer_ent  \\\n",
       "0      8.407514      8.832288      8.906661      8.981034       9.01822   \n",
       "\n",
       "   p99:9mer_ent  iqr:9mer_ent  \n",
       "0       9.04797      2.188032  \n",
       "\n",
       "[1 rows x 490 columns]"
      ]
     },
     "execution_count": 5,
     "metadata": {},
     "output_type": "execute_result"
    }
   ],
   "source": [
    "TEST_FILE_AA = Path(\"data/aa.fasta\")\n",
    "TEST_FILE_DNA = Path(\"data/dna.fasta\")\n",
    "INTRON_FILE = Path(\"../../data/backup/alns/GALGAL_R00007_intron1.fa\")\n",
    "\n",
    "sequences = list(SeqIO.parse(TEST_FILE_AA, \"fasta\"))[:10]\n",
    "for seq_record in sequences:\n",
    "    seq_record.seq = Seq(str(seq_record.seq).replace(\"-\", \"\"))\n",
    "\n",
    "print(\"k =\", len(sequences))\n",
    "\n",
    "seq_lens = [len(seq) for seq in sequences]\n",
    "print(seq_lens)\n",
    "# print(sequences[0].seq[:100])\n",
    "# print(sequences[29].seq[:100])\n",
    "extractor = FeatureExtractor(sequences, track_perf=True)\n",
    "extractor._init_cache()\n",
    "feats = extractor.compute()\n",
    "feats\n",
    "\n",
    "# feats.loc[:, feats.columns.str.contains(\"chi-square\")]\n",
    "# feats.loc[:, feats.columns.str.contains(\"tc_\")]"
   ]
  },
  {
   "cell_type": "code",
   "execution_count": 6,
   "id": "4307b83b",
   "metadata": {},
   "outputs": [
    {
     "name": "stdout",
     "output_type": "stream",
     "text": [
      "(4, 43)\n"
     ]
    },
    {
     "ename": "KeyboardInterrupt",
     "evalue": "",
     "output_type": "error",
     "traceback": [
      "\u001b[31m---------------------------------------------------------------------------\u001b[39m",
      "\u001b[31mKeyboardInterrupt\u001b[39m                         Traceback (most recent call last)",
      "\u001b[36mCell\u001b[39m\u001b[36m \u001b[39m\u001b[32mIn[6]\u001b[39m\u001b[32m, line 5\u001b[39m\n\u001b[32m      1\u001b[39m counts, lens = utils.repeat_distributions(sequences)\n\u001b[32m      3\u001b[39m \u001b[38;5;28mprint\u001b[39m(counts.shape)\n\u001b[32m----> \u001b[39m\u001b[32m5\u001b[39m \u001b[38;5;28;01mimport\u001b[39;00m\u001b[38;5;250m \u001b[39m\u001b[34;01mseaborn\u001b[39;00m\u001b[38;5;250m \u001b[39m\u001b[38;5;28;01mas\u001b[39;00m\u001b[38;5;250m \u001b[39m\u001b[34;01msn\u001b[39;00m\n\u001b[32m      7\u001b[39m sn.histplot(counts.T, element=\u001b[33m\"\u001b[39m\u001b[33mpoly\u001b[39m\u001b[33m\"\u001b[39m)\n",
      "\u001b[36mFile \u001b[39m\u001b[32m/hits/fast/cme/bodynems/.local/lib/micromamba/envs/aldiscore/lib/python3.13/site-packages/seaborn/__init__.py:5\u001b[39m\n\u001b[32m      3\u001b[39m \u001b[38;5;28;01mfrom\u001b[39;00m\u001b[38;5;250m \u001b[39m\u001b[34;01m.\u001b[39;00m\u001b[34;01mutils\u001b[39;00m\u001b[38;5;250m \u001b[39m\u001b[38;5;28;01mimport\u001b[39;00m *  \u001b[38;5;66;03m# noqa: F401,F403\u001b[39;00m\n\u001b[32m      4\u001b[39m \u001b[38;5;28;01mfrom\u001b[39;00m\u001b[38;5;250m \u001b[39m\u001b[34;01m.\u001b[39;00m\u001b[34;01mpalettes\u001b[39;00m\u001b[38;5;250m \u001b[39m\u001b[38;5;28;01mimport\u001b[39;00m *  \u001b[38;5;66;03m# noqa: F401,F403\u001b[39;00m\n\u001b[32m----> \u001b[39m\u001b[32m5\u001b[39m \u001b[38;5;28;01mfrom\u001b[39;00m\u001b[38;5;250m \u001b[39m\u001b[34;01m.\u001b[39;00m\u001b[34;01mrelational\u001b[39;00m\u001b[38;5;250m \u001b[39m\u001b[38;5;28;01mimport\u001b[39;00m *  \u001b[38;5;66;03m# noqa: F401,F403\u001b[39;00m\n\u001b[32m      6\u001b[39m \u001b[38;5;28;01mfrom\u001b[39;00m\u001b[38;5;250m \u001b[39m\u001b[34;01m.\u001b[39;00m\u001b[34;01mregression\u001b[39;00m\u001b[38;5;250m \u001b[39m\u001b[38;5;28;01mimport\u001b[39;00m *  \u001b[38;5;66;03m# noqa: F401,F403\u001b[39;00m\n\u001b[32m      7\u001b[39m \u001b[38;5;28;01mfrom\u001b[39;00m\u001b[38;5;250m \u001b[39m\u001b[34;01m.\u001b[39;00m\u001b[34;01mcategorical\u001b[39;00m\u001b[38;5;250m \u001b[39m\u001b[38;5;28;01mimport\u001b[39;00m *  \u001b[38;5;66;03m# noqa: F401,F403\u001b[39;00m\n",
      "\u001b[36mFile \u001b[39m\u001b[32m/hits/fast/cme/bodynems/.local/lib/micromamba/envs/aldiscore/lib/python3.13/site-packages/seaborn/relational.py:21\u001b[39m\n\u001b[32m     13\u001b[39m \u001b[38;5;28;01mfrom\u001b[39;00m\u001b[38;5;250m \u001b[39m\u001b[34;01m.\u001b[39;00m\u001b[34;01mutils\u001b[39;00m\u001b[38;5;250m \u001b[39m\u001b[38;5;28;01mimport\u001b[39;00m (\n\u001b[32m     14\u001b[39m     adjust_legend_subtitles,\n\u001b[32m     15\u001b[39m     _default_color,\n\u001b[32m   (...)\u001b[39m\u001b[32m     18\u001b[39m     _scatter_legend_artist,\n\u001b[32m     19\u001b[39m )\n\u001b[32m     20\u001b[39m \u001b[38;5;28;01mfrom\u001b[39;00m\u001b[38;5;250m \u001b[39m\u001b[34;01m.\u001b[39;00m\u001b[34;01m_compat\u001b[39;00m\u001b[38;5;250m \u001b[39m\u001b[38;5;28;01mimport\u001b[39;00m groupby_apply_include_groups\n\u001b[32m---> \u001b[39m\u001b[32m21\u001b[39m \u001b[38;5;28;01mfrom\u001b[39;00m\u001b[38;5;250m \u001b[39m\u001b[34;01m.\u001b[39;00m\u001b[34;01m_statistics\u001b[39;00m\u001b[38;5;250m \u001b[39m\u001b[38;5;28;01mimport\u001b[39;00m EstimateAggregator, WeightedAggregator\n\u001b[32m     22\u001b[39m \u001b[38;5;28;01mfrom\u001b[39;00m\u001b[38;5;250m \u001b[39m\u001b[34;01m.\u001b[39;00m\u001b[34;01maxisgrid\u001b[39;00m\u001b[38;5;250m \u001b[39m\u001b[38;5;28;01mimport\u001b[39;00m FacetGrid, _facet_docs\n\u001b[32m     23\u001b[39m \u001b[38;5;28;01mfrom\u001b[39;00m\u001b[38;5;250m \u001b[39m\u001b[34;01m.\u001b[39;00m\u001b[34;01m_docstrings\u001b[39;00m\u001b[38;5;250m \u001b[39m\u001b[38;5;28;01mimport\u001b[39;00m DocstringComponents, _core_docs\n",
      "\u001b[36mFile \u001b[39m\u001b[32m/hits/fast/cme/bodynems/.local/lib/micromamba/envs/aldiscore/lib/python3.13/site-packages/seaborn/_statistics.py:32\u001b[39m\n\u001b[32m     30\u001b[39m \u001b[38;5;28;01mimport\u001b[39;00m\u001b[38;5;250m \u001b[39m\u001b[34;01mpandas\u001b[39;00m\u001b[38;5;250m \u001b[39m\u001b[38;5;28;01mas\u001b[39;00m\u001b[38;5;250m \u001b[39m\u001b[34;01mpd\u001b[39;00m\n\u001b[32m     31\u001b[39m \u001b[38;5;28;01mtry\u001b[39;00m:\n\u001b[32m---> \u001b[39m\u001b[32m32\u001b[39m     \u001b[38;5;28;01mfrom\u001b[39;00m\u001b[38;5;250m \u001b[39m\u001b[34;01mscipy\u001b[39;00m\u001b[34;01m.\u001b[39;00m\u001b[34;01mstats\u001b[39;00m\u001b[38;5;250m \u001b[39m\u001b[38;5;28;01mimport\u001b[39;00m gaussian_kde\n\u001b[32m     33\u001b[39m     _no_scipy = \u001b[38;5;28;01mFalse\u001b[39;00m\n\u001b[32m     34\u001b[39m \u001b[38;5;28;01mexcept\u001b[39;00m \u001b[38;5;167;01mImportError\u001b[39;00m:\n",
      "\u001b[36mFile \u001b[39m\u001b[32m/hits/fast/cme/bodynems/.local/lib/micromamba/envs/aldiscore/lib/python3.13/site-packages/scipy/stats/__init__.py:624\u001b[39m\n\u001b[32m      1\u001b[39m \u001b[33;03m\"\"\"\u001b[39;00m\n\u001b[32m      2\u001b[39m \u001b[33;03m.. _statsrefmanual:\u001b[39;00m\n\u001b[32m      3\u001b[39m \n\u001b[32m   (...)\u001b[39m\u001b[32m    619\u001b[39m \n\u001b[32m    620\u001b[39m \u001b[33;03m\"\"\"\u001b[39;00m  \u001b[38;5;66;03m# noqa: E501\u001b[39;00m\n\u001b[32m    622\u001b[39m \u001b[38;5;28;01mfrom\u001b[39;00m\u001b[38;5;250m \u001b[39m\u001b[34;01m.\u001b[39;00m\u001b[34;01m_warnings_errors\u001b[39;00m\u001b[38;5;250m \u001b[39m\u001b[38;5;28;01mimport\u001b[39;00m (ConstantInputWarning, NearConstantInputWarning,\n\u001b[32m    623\u001b[39m                                DegenerateDataWarning, FitError)\n\u001b[32m--> \u001b[39m\u001b[32m624\u001b[39m \u001b[38;5;28;01mfrom\u001b[39;00m\u001b[38;5;250m \u001b[39m\u001b[34;01m.\u001b[39;00m\u001b[34;01m_stats_py\u001b[39;00m\u001b[38;5;250m \u001b[39m\u001b[38;5;28;01mimport\u001b[39;00m *\n\u001b[32m    625\u001b[39m \u001b[38;5;28;01mfrom\u001b[39;00m\u001b[38;5;250m \u001b[39m\u001b[34;01m.\u001b[39;00m\u001b[34;01m_variation\u001b[39;00m\u001b[38;5;250m \u001b[39m\u001b[38;5;28;01mimport\u001b[39;00m variation\n\u001b[32m    626\u001b[39m \u001b[38;5;28;01mfrom\u001b[39;00m\u001b[38;5;250m \u001b[39m\u001b[34;01m.\u001b[39;00m\u001b[34;01mdistributions\u001b[39;00m\u001b[38;5;250m \u001b[39m\u001b[38;5;28;01mimport\u001b[39;00m *\n",
      "\u001b[36mFile \u001b[39m\u001b[32m/hits/fast/cme/bodynems/.local/lib/micromamba/envs/aldiscore/lib/python3.13/site-packages/scipy/stats/_stats_py.py:38\u001b[39m\n\u001b[32m     35\u001b[39m \u001b[38;5;28;01mimport\u001b[39;00m\u001b[38;5;250m \u001b[39m\u001b[34;01mnumpy\u001b[39;00m\u001b[38;5;250m \u001b[39m\u001b[38;5;28;01mas\u001b[39;00m\u001b[38;5;250m \u001b[39m\u001b[34;01mnp\u001b[39;00m\n\u001b[32m     36\u001b[39m \u001b[38;5;28;01mfrom\u001b[39;00m\u001b[38;5;250m \u001b[39m\u001b[34;01mnumpy\u001b[39;00m\u001b[38;5;250m \u001b[39m\u001b[38;5;28;01mimport\u001b[39;00m array, asarray, ma\n\u001b[32m---> \u001b[39m\u001b[32m38\u001b[39m \u001b[38;5;28;01mfrom\u001b[39;00m\u001b[38;5;250m \u001b[39m\u001b[34;01mscipy\u001b[39;00m\u001b[38;5;250m \u001b[39m\u001b[38;5;28;01mimport\u001b[39;00m sparse\n\u001b[32m     39\u001b[39m \u001b[38;5;28;01mfrom\u001b[39;00m\u001b[38;5;250m \u001b[39m\u001b[34;01mscipy\u001b[39;00m\u001b[34;01m.\u001b[39;00m\u001b[34;01mspatial\u001b[39;00m\u001b[38;5;250m \u001b[39m\u001b[38;5;28;01mimport\u001b[39;00m distance_matrix\n\u001b[32m     41\u001b[39m \u001b[38;5;28;01mfrom\u001b[39;00m\u001b[38;5;250m \u001b[39m\u001b[34;01mscipy\u001b[39;00m\u001b[34;01m.\u001b[39;00m\u001b[34;01moptimize\u001b[39;00m\u001b[38;5;250m \u001b[39m\u001b[38;5;28;01mimport\u001b[39;00m milp, LinearConstraint\n",
      "\u001b[36mFile \u001b[39m\u001b[32m<frozen importlib._bootstrap>:1412\u001b[39m, in \u001b[36m_handle_fromlist\u001b[39m\u001b[34m(module, fromlist, import_, recursive)\u001b[39m\n",
      "\u001b[36mFile \u001b[39m\u001b[32m/hits/fast/cme/bodynems/.local/lib/micromamba/envs/aldiscore/lib/python3.13/site-packages/scipy/__init__.py:134\u001b[39m, in \u001b[36m__getattr__\u001b[39m\u001b[34m(name)\u001b[39m\n\u001b[32m    132\u001b[39m \u001b[38;5;28;01mdef\u001b[39;00m\u001b[38;5;250m \u001b[39m\u001b[34m__getattr__\u001b[39m(name):\n\u001b[32m    133\u001b[39m     \u001b[38;5;28;01mif\u001b[39;00m name \u001b[38;5;129;01min\u001b[39;00m submodules:\n\u001b[32m--> \u001b[39m\u001b[32m134\u001b[39m         \u001b[38;5;28;01mreturn\u001b[39;00m \u001b[43m_importlib\u001b[49m\u001b[43m.\u001b[49m\u001b[43mimport_module\u001b[49m\u001b[43m(\u001b[49m\u001b[33;43mf\u001b[39;49m\u001b[33;43m'\u001b[39;49m\u001b[33;43mscipy.\u001b[39;49m\u001b[38;5;132;43;01m{\u001b[39;49;00m\u001b[43mname\u001b[49m\u001b[38;5;132;43;01m}\u001b[39;49;00m\u001b[33;43m'\u001b[39;49m\u001b[43m)\u001b[49m\n\u001b[32m    135\u001b[39m     \u001b[38;5;28;01melse\u001b[39;00m:\n\u001b[32m    136\u001b[39m         \u001b[38;5;28;01mtry\u001b[39;00m:\n",
      "\u001b[36mFile \u001b[39m\u001b[32m/hits/fast/cme/bodynems/.local/lib/micromamba/envs/aldiscore/lib/python3.13/importlib/__init__.py:88\u001b[39m, in \u001b[36mimport_module\u001b[39m\u001b[34m(name, package)\u001b[39m\n\u001b[32m     86\u001b[39m             \u001b[38;5;28;01mbreak\u001b[39;00m\n\u001b[32m     87\u001b[39m         level += \u001b[32m1\u001b[39m\n\u001b[32m---> \u001b[39m\u001b[32m88\u001b[39m \u001b[38;5;28;01mreturn\u001b[39;00m \u001b[43m_bootstrap\u001b[49m\u001b[43m.\u001b[49m\u001b[43m_gcd_import\u001b[49m\u001b[43m(\u001b[49m\u001b[43mname\u001b[49m\u001b[43m[\u001b[49m\u001b[43mlevel\u001b[49m\u001b[43m:\u001b[49m\u001b[43m]\u001b[49m\u001b[43m,\u001b[49m\u001b[43m \u001b[49m\u001b[43mpackage\u001b[49m\u001b[43m,\u001b[49m\u001b[43m \u001b[49m\u001b[43mlevel\u001b[49m\u001b[43m)\u001b[49m\n",
      "\u001b[36mFile \u001b[39m\u001b[32m/hits/fast/cme/bodynems/.local/lib/micromamba/envs/aldiscore/lib/python3.13/site-packages/scipy/sparse/__init__.py:315\u001b[39m\n\u001b[32m    312\u001b[39m \u001b[38;5;28;01mfrom\u001b[39;00m\u001b[38;5;250m \u001b[39m\u001b[34;01m.\u001b[39;00m\u001b[34;01m_sputils\u001b[39;00m\u001b[38;5;250m \u001b[39m\u001b[38;5;28;01mimport\u001b[39;00m get_index_dtype, safely_cast_index_arrays\n\u001b[32m    314\u001b[39m \u001b[38;5;66;03m# For backward compatibility with v0.19.\u001b[39;00m\n\u001b[32m--> \u001b[39m\u001b[32m315\u001b[39m \u001b[38;5;28;01mfrom\u001b[39;00m\u001b[38;5;250m \u001b[39m\u001b[34;01m.\u001b[39;00m\u001b[38;5;250m \u001b[39m\u001b[38;5;28;01mimport\u001b[39;00m csgraph\n\u001b[32m    317\u001b[39m \u001b[38;5;66;03m# Deprecated namespaces, to be removed in v2.0.0\u001b[39;00m\n\u001b[32m    318\u001b[39m \u001b[38;5;28;01mfrom\u001b[39;00m\u001b[38;5;250m \u001b[39m\u001b[34;01m.\u001b[39;00m\u001b[38;5;250m \u001b[39m\u001b[38;5;28;01mimport\u001b[39;00m (\n\u001b[32m    319\u001b[39m     base, bsr, compressed, construct, coo, csc, csr, data, dia, dok, extract,\n\u001b[32m    320\u001b[39m     lil, sparsetools, sputils\n\u001b[32m    321\u001b[39m )\n",
      "\u001b[36mFile \u001b[39m\u001b[32m/hits/fast/cme/bodynems/.local/lib/micromamba/envs/aldiscore/lib/python3.13/site-packages/scipy/sparse/csgraph/__init__.py:187\u001b[39m\n\u001b[32m    158\u001b[39m __docformat__ = \u001b[33m\"\u001b[39m\u001b[33mrestructuredtext en\u001b[39m\u001b[33m\"\u001b[39m\n\u001b[32m    160\u001b[39m __all__ = [\u001b[33m'\u001b[39m\u001b[33mconnected_components\u001b[39m\u001b[33m'\u001b[39m,\n\u001b[32m    161\u001b[39m            \u001b[33m'\u001b[39m\u001b[33mlaplacian\u001b[39m\u001b[33m'\u001b[39m,\n\u001b[32m    162\u001b[39m            \u001b[33m'\u001b[39m\u001b[33mshortest_path\u001b[39m\u001b[33m'\u001b[39m,\n\u001b[32m   (...)\u001b[39m\u001b[32m    184\u001b[39m            \u001b[33m'\u001b[39m\u001b[33mcsgraph_to_masked\u001b[39m\u001b[33m'\u001b[39m,\n\u001b[32m    185\u001b[39m            \u001b[33m'\u001b[39m\u001b[33mNegativeCycleError\u001b[39m\u001b[33m'\u001b[39m]\n\u001b[32m--> \u001b[39m\u001b[32m187\u001b[39m \u001b[38;5;28;01mfrom\u001b[39;00m\u001b[38;5;250m \u001b[39m\u001b[34;01m.\u001b[39;00m\u001b[34;01m_laplacian\u001b[39;00m\u001b[38;5;250m \u001b[39m\u001b[38;5;28;01mimport\u001b[39;00m laplacian\n\u001b[32m    188\u001b[39m \u001b[38;5;28;01mfrom\u001b[39;00m\u001b[38;5;250m \u001b[39m\u001b[34;01m.\u001b[39;00m\u001b[34;01m_shortest_path\u001b[39;00m\u001b[38;5;250m \u001b[39m\u001b[38;5;28;01mimport\u001b[39;00m (\n\u001b[32m    189\u001b[39m     shortest_path, floyd_warshall, dijkstra, bellman_ford, johnson, yen,\n\u001b[32m    190\u001b[39m     NegativeCycleError\n\u001b[32m    191\u001b[39m )\n\u001b[32m    192\u001b[39m \u001b[38;5;28;01mfrom\u001b[39;00m\u001b[38;5;250m \u001b[39m\u001b[34;01m.\u001b[39;00m\u001b[34;01m_traversal\u001b[39;00m\u001b[38;5;250m \u001b[39m\u001b[38;5;28;01mimport\u001b[39;00m (\n\u001b[32m    193\u001b[39m     breadth_first_order, depth_first_order, breadth_first_tree,\n\u001b[32m    194\u001b[39m     depth_first_tree, connected_components\n\u001b[32m    195\u001b[39m )\n",
      "\u001b[36mFile \u001b[39m\u001b[32m/hits/fast/cme/bodynems/.local/lib/micromamba/envs/aldiscore/lib/python3.13/site-packages/scipy/sparse/csgraph/_laplacian.py:7\u001b[39m\n\u001b[32m      5\u001b[39m \u001b[38;5;28;01mimport\u001b[39;00m\u001b[38;5;250m \u001b[39m\u001b[34;01mnumpy\u001b[39;00m\u001b[38;5;250m \u001b[39m\u001b[38;5;28;01mas\u001b[39;00m\u001b[38;5;250m \u001b[39m\u001b[34;01mnp\u001b[39;00m\n\u001b[32m      6\u001b[39m \u001b[38;5;28;01mfrom\u001b[39;00m\u001b[38;5;250m \u001b[39m\u001b[34;01mscipy\u001b[39;00m\u001b[34;01m.\u001b[39;00m\u001b[34;01msparse\u001b[39;00m\u001b[38;5;250m \u001b[39m\u001b[38;5;28;01mimport\u001b[39;00m issparse\n\u001b[32m----> \u001b[39m\u001b[32m7\u001b[39m \u001b[38;5;28;01mfrom\u001b[39;00m\u001b[38;5;250m \u001b[39m\u001b[34;01mscipy\u001b[39;00m\u001b[34;01m.\u001b[39;00m\u001b[34;01msparse\u001b[39;00m\u001b[34;01m.\u001b[39;00m\u001b[34;01mlinalg\u001b[39;00m\u001b[38;5;250m \u001b[39m\u001b[38;5;28;01mimport\u001b[39;00m LinearOperator\n\u001b[32m      8\u001b[39m \u001b[38;5;28;01mfrom\u001b[39;00m\u001b[38;5;250m \u001b[39m\u001b[34;01mscipy\u001b[39;00m\u001b[34;01m.\u001b[39;00m\u001b[34;01msparse\u001b[39;00m\u001b[34;01m.\u001b[39;00m\u001b[34;01m_sputils\u001b[39;00m\u001b[38;5;250m \u001b[39m\u001b[38;5;28;01mimport\u001b[39;00m convert_pydata_sparse_to_scipy, is_pydata_spmatrix\n\u001b[32m     11\u001b[39m \u001b[38;5;66;03m###############################################################################\u001b[39;00m\n\u001b[32m     12\u001b[39m \u001b[38;5;66;03m# Graph laplacian\u001b[39;00m\n",
      "\u001b[36mFile \u001b[39m\u001b[32m/hits/fast/cme/bodynems/.local/lib/micromamba/envs/aldiscore/lib/python3.13/site-packages/scipy/sparse/linalg/__init__.py:131\u001b[39m\n\u001b[32m      1\u001b[39m \u001b[33;03m\"\"\"\u001b[39;00m\n\u001b[32m      2\u001b[39m \u001b[33;03mSparse linear algebra (:mod:`scipy.sparse.linalg`)\u001b[39;00m\n\u001b[32m      3\u001b[39m \u001b[33;03m==================================================\u001b[39;00m\n\u001b[32m   (...)\u001b[39m\u001b[32m    128\u001b[39m \n\u001b[32m    129\u001b[39m \u001b[33;03m\"\"\"\u001b[39;00m\n\u001b[32m--> \u001b[39m\u001b[32m131\u001b[39m \u001b[38;5;28;01mfrom\u001b[39;00m\u001b[38;5;250m \u001b[39m\u001b[34;01m.\u001b[39;00m\u001b[34;01m_isolve\u001b[39;00m\u001b[38;5;250m \u001b[39m\u001b[38;5;28;01mimport\u001b[39;00m *\n\u001b[32m    132\u001b[39m \u001b[38;5;28;01mfrom\u001b[39;00m\u001b[38;5;250m \u001b[39m\u001b[34;01m.\u001b[39;00m\u001b[34;01m_dsolve\u001b[39;00m\u001b[38;5;250m \u001b[39m\u001b[38;5;28;01mimport\u001b[39;00m *\n\u001b[32m    133\u001b[39m \u001b[38;5;28;01mfrom\u001b[39;00m\u001b[38;5;250m \u001b[39m\u001b[34;01m.\u001b[39;00m\u001b[34;01m_interface\u001b[39;00m\u001b[38;5;250m \u001b[39m\u001b[38;5;28;01mimport\u001b[39;00m *\n",
      "\u001b[36mFile \u001b[39m\u001b[32m/hits/fast/cme/bodynems/.local/lib/micromamba/envs/aldiscore/lib/python3.13/site-packages/scipy/sparse/linalg/_isolve/__init__.py:4\u001b[39m\n\u001b[32m      1\u001b[39m \u001b[33m\"\u001b[39m\u001b[33mIterative Solvers for Sparse Linear Systems\u001b[39m\u001b[33m\"\u001b[39m\n\u001b[32m      3\u001b[39m \u001b[38;5;66;03m#from info import __doc__\u001b[39;00m\n\u001b[32m----> \u001b[39m\u001b[32m4\u001b[39m \u001b[38;5;28;01mfrom\u001b[39;00m\u001b[38;5;250m \u001b[39m\u001b[34;01m.\u001b[39;00m\u001b[34;01miterative\u001b[39;00m\u001b[38;5;250m \u001b[39m\u001b[38;5;28;01mimport\u001b[39;00m *\n\u001b[32m      5\u001b[39m \u001b[38;5;28;01mfrom\u001b[39;00m\u001b[38;5;250m \u001b[39m\u001b[34;01m.\u001b[39;00m\u001b[34;01mminres\u001b[39;00m\u001b[38;5;250m \u001b[39m\u001b[38;5;28;01mimport\u001b[39;00m minres\n\u001b[32m      6\u001b[39m \u001b[38;5;28;01mfrom\u001b[39;00m\u001b[38;5;250m \u001b[39m\u001b[34;01m.\u001b[39;00m\u001b[34;01mlgmres\u001b[39;00m\u001b[38;5;250m \u001b[39m\u001b[38;5;28;01mimport\u001b[39;00m lgmres\n",
      "\u001b[36mFile \u001b[39m\u001b[32m/hits/fast/cme/bodynems/.local/lib/micromamba/envs/aldiscore/lib/python3.13/site-packages/scipy/sparse/linalg/_isolve/iterative.py:5\u001b[39m\n\u001b[32m      3\u001b[39m \u001b[38;5;28;01mfrom\u001b[39;00m\u001b[38;5;250m \u001b[39m\u001b[34;01mscipy\u001b[39;00m\u001b[34;01m.\u001b[39;00m\u001b[34;01msparse\u001b[39;00m\u001b[34;01m.\u001b[39;00m\u001b[34;01mlinalg\u001b[39;00m\u001b[34;01m.\u001b[39;00m\u001b[34;01m_interface\u001b[39;00m\u001b[38;5;250m \u001b[39m\u001b[38;5;28;01mimport\u001b[39;00m LinearOperator\n\u001b[32m      4\u001b[39m \u001b[38;5;28;01mfrom\u001b[39;00m\u001b[38;5;250m \u001b[39m\u001b[34;01m.\u001b[39;00m\u001b[34;01mutils\u001b[39;00m\u001b[38;5;250m \u001b[39m\u001b[38;5;28;01mimport\u001b[39;00m make_system\n\u001b[32m----> \u001b[39m\u001b[32m5\u001b[39m \u001b[38;5;28;01mfrom\u001b[39;00m\u001b[38;5;250m \u001b[39m\u001b[34;01mscipy\u001b[39;00m\u001b[34;01m.\u001b[39;00m\u001b[34;01mlinalg\u001b[39;00m\u001b[38;5;250m \u001b[39m\u001b[38;5;28;01mimport\u001b[39;00m get_lapack_funcs\n\u001b[32m      7\u001b[39m __all__ = [\u001b[33m'\u001b[39m\u001b[33mbicg\u001b[39m\u001b[33m'\u001b[39m, \u001b[33m'\u001b[39m\u001b[33mbicgstab\u001b[39m\u001b[33m'\u001b[39m, \u001b[33m'\u001b[39m\u001b[33mcg\u001b[39m\u001b[33m'\u001b[39m, \u001b[33m'\u001b[39m\u001b[33mcgs\u001b[39m\u001b[33m'\u001b[39m, \u001b[33m'\u001b[39m\u001b[33mgmres\u001b[39m\u001b[33m'\u001b[39m, \u001b[33m'\u001b[39m\u001b[33mqmr\u001b[39m\u001b[33m'\u001b[39m]\n\u001b[32m     10\u001b[39m \u001b[38;5;28;01mdef\u001b[39;00m\u001b[38;5;250m \u001b[39m\u001b[34m_get_atol_rtol\u001b[39m(name, b_norm, atol=\u001b[32m0.\u001b[39m, rtol=\u001b[32m1e-5\u001b[39m):\n",
      "\u001b[36mFile \u001b[39m\u001b[32m/hits/fast/cme/bodynems/.local/lib/micromamba/envs/aldiscore/lib/python3.13/site-packages/scipy/linalg/__init__.py:203\u001b[39m\n\u001b[32m      1\u001b[39m \u001b[33;03m\"\"\"\u001b[39;00m\n\u001b[32m      2\u001b[39m \u001b[33;03m====================================\u001b[39;00m\n\u001b[32m      3\u001b[39m \u001b[33;03mLinear algebra (:mod:`scipy.linalg`)\u001b[39;00m\n\u001b[32m   (...)\u001b[39m\u001b[32m    200\u001b[39m \n\u001b[32m    201\u001b[39m \u001b[33;03m\"\"\"\u001b[39;00m  \u001b[38;5;66;03m# noqa: E501\u001b[39;00m\n\u001b[32m--> \u001b[39m\u001b[32m203\u001b[39m \u001b[38;5;28;01mfrom\u001b[39;00m\u001b[38;5;250m \u001b[39m\u001b[34;01m.\u001b[39;00m\u001b[34;01m_misc\u001b[39;00m\u001b[38;5;250m \u001b[39m\u001b[38;5;28;01mimport\u001b[39;00m *\n\u001b[32m    204\u001b[39m \u001b[38;5;28;01mfrom\u001b[39;00m\u001b[38;5;250m \u001b[39m\u001b[34;01m.\u001b[39;00m\u001b[34;01m_cythonized_array_utils\u001b[39;00m\u001b[38;5;250m \u001b[39m\u001b[38;5;28;01mimport\u001b[39;00m *\n\u001b[32m    205\u001b[39m \u001b[38;5;28;01mfrom\u001b[39;00m\u001b[38;5;250m \u001b[39m\u001b[34;01m.\u001b[39;00m\u001b[34;01m_basic\u001b[39;00m\u001b[38;5;250m \u001b[39m\u001b[38;5;28;01mimport\u001b[39;00m *\n",
      "\u001b[36mFile \u001b[39m\u001b[32m/hits/fast/cme/bodynems/.local/lib/micromamba/envs/aldiscore/lib/python3.13/site-packages/scipy/linalg/_misc.py:4\u001b[39m\n\u001b[32m      2\u001b[39m \u001b[38;5;28;01mfrom\u001b[39;00m\u001b[38;5;250m \u001b[39m\u001b[34;01mnumpy\u001b[39;00m\u001b[34;01m.\u001b[39;00m\u001b[34;01mlinalg\u001b[39;00m\u001b[38;5;250m \u001b[39m\u001b[38;5;28;01mimport\u001b[39;00m LinAlgError\n\u001b[32m      3\u001b[39m \u001b[38;5;28;01mfrom\u001b[39;00m\u001b[38;5;250m \u001b[39m\u001b[34;01m.\u001b[39;00m\u001b[34;01mblas\u001b[39;00m\u001b[38;5;250m \u001b[39m\u001b[38;5;28;01mimport\u001b[39;00m get_blas_funcs\n\u001b[32m----> \u001b[39m\u001b[32m4\u001b[39m \u001b[38;5;28;01mfrom\u001b[39;00m\u001b[38;5;250m \u001b[39m\u001b[34;01m.\u001b[39;00m\u001b[34;01mlapack\u001b[39;00m\u001b[38;5;250m \u001b[39m\u001b[38;5;28;01mimport\u001b[39;00m get_lapack_funcs\n\u001b[32m      6\u001b[39m __all__ = [\u001b[33m'\u001b[39m\u001b[33mLinAlgError\u001b[39m\u001b[33m'\u001b[39m, \u001b[33m'\u001b[39m\u001b[33mLinAlgWarning\u001b[39m\u001b[33m'\u001b[39m, \u001b[33m'\u001b[39m\u001b[33mnorm\u001b[39m\u001b[33m'\u001b[39m]\n\u001b[32m      9\u001b[39m \u001b[38;5;28;01mclass\u001b[39;00m\u001b[38;5;250m \u001b[39m\u001b[34;01mLinAlgWarning\u001b[39;00m(\u001b[38;5;167;01mRuntimeWarning\u001b[39;00m):\n",
      "\u001b[36mFile \u001b[39m\u001b[32m<frozen importlib._bootstrap>:1360\u001b[39m, in \u001b[36m_find_and_load\u001b[39m\u001b[34m(name, import_)\u001b[39m\n",
      "\u001b[36mFile \u001b[39m\u001b[32m<frozen importlib._bootstrap>:1331\u001b[39m, in \u001b[36m_find_and_load_unlocked\u001b[39m\u001b[34m(name, import_)\u001b[39m\n",
      "\u001b[36mFile \u001b[39m\u001b[32m<frozen importlib._bootstrap>:935\u001b[39m, in \u001b[36m_load_unlocked\u001b[39m\u001b[34m(spec)\u001b[39m\n",
      "\u001b[36mFile \u001b[39m\u001b[32m<frozen importlib._bootstrap_external>:1022\u001b[39m, in \u001b[36mexec_module\u001b[39m\u001b[34m(self, module)\u001b[39m\n",
      "\u001b[36mFile \u001b[39m\u001b[32m<frozen importlib._bootstrap_external>:1118\u001b[39m, in \u001b[36mget_code\u001b[39m\u001b[34m(self, fullname)\u001b[39m\n",
      "\u001b[36mFile \u001b[39m\u001b[32m<frozen importlib._bootstrap_external>:1218\u001b[39m, in \u001b[36mget_data\u001b[39m\u001b[34m(self, path)\u001b[39m\n",
      "\u001b[31mKeyboardInterrupt\u001b[39m: "
     ]
    }
   ],
   "source": [
    "counts, lens = utils.repeat_distributions(sequences)\n",
    "\n",
    "print(counts.shape)\n",
    "\n",
    "import seaborn as sn\n",
    "\n",
    "sn.histplot(counts.T, element=\"poly\")"
   ]
  },
  {
   "cell_type": "code",
   "execution_count": null,
   "id": "0f46833e",
   "metadata": {},
   "outputs": [
    {
     "name": "stdout",
     "output_type": "stream",
     "text": [
      "('hmgl_trybr', 'AAGAAGGACTCTAATGCTCCGAAGCGGGCTATGACTTCTTTTATGTTCTTCTCATCGGACTTCCGAAGCAAGCATAGCGACTTATCGATAGTAGAGATGAGTAAGGCGGCAGGGGCAGCCTGGAAGGAGCTGGGGCCCGAGGAGCGCAAGGTGTATGAGGAAATGGCAGAGAAGGATAAAGAACGCTATAAGCGTGAGATG')\n",
      "('hmgt_mouse', 'AAGCCTAAACGTCCTCGAAGTGCTTACAACATCTATGTCTCAGAAAGTTTTCAGGAGGCGAAAGATGACTCCGCGCAGGGCAAGTTGAAACTCGTTAATGAAGCCTGGAAAAATCTAAGTCCTGAGGAGAAGCAAGCCTATATCCAGTTGGCAAAAGACGACAGAATACGCTATGACAATGAAATGAAGTCATGGGAAGAGCAAATGGCTGAA')\n",
      "('hmgb_chite', 'GCGGATAAACCTAAACGGCCATTAAGTGCGTACATGCTATGGCTAAATTCCGCCCGAGAATCTATTAAAAGAGAAAATCCTGATTTTAAAGTGACCGAGGTAGCTAAAAAGGGTGGTGAATTGTGGCGTGGTCTAAAGGATAAGTCGGAGTGGGAGGCAAAGGCTGCCACCGCTAAACAAAATTACATCAGGGCGCTTCAGGAATATGAGCGGAATGGCGGA')\n",
      "('hmgl_wheat', 'GACCCTAATAAACCAAAACGCGCGCCCTCAGCTTTCTTCGTGTTTATGGGGGAGTTCAGAGAAGAATTTAAACAAAAAAATCCCAAGAACAAGTCCGTCGCCGCTGTTGGTAAGGCTGCGGGGGAACGATGGAAGAGTCTTTCAGAGAGCGAAAAGGCGCCGTACGTGGCCAAAGCAAATAAATTAAAAGGAGAGTATAATAAGGCGATTGCCGCATACAATAAGGGCGAATCTGCA')\n"
     ]
    }
   ],
   "source": [
    "import pyfastx\n",
    "\n",
    "for item in pyfastx.Fastx(TEST_FILE_DNA, uppercase=True):\n",
    "    print(item)"
   ]
  },
  {
   "cell_type": "code",
   "execution_count": null,
   "id": "62668946",
   "metadata": {},
   "outputs": [
    {
     "name": "stdout",
     "output_type": "stream",
     "text": [
      "[('Acanthisitta_chloris', 509, 522, 'A', 1, 14, 14)]\n",
      "[]\n",
      "[]\n",
      "[]\n",
      "[]\n",
      "[]\n"
     ]
    },
    {
     "ename": "TypeError",
     "evalue": "cannot unpack non-iterable NoneType object",
     "output_type": "error",
     "traceback": [
      "\u001b[31m---------------------------------------------------------------------------\u001b[39m",
      "\u001b[31mTypeError\u001b[39m                                 Traceback (most recent call last)",
      "\u001b[36mCell\u001b[39m\u001b[36m \u001b[39m\u001b[32mIn[25]\u001b[39m\u001b[32m, line 23\u001b[39m\n\u001b[32m     18\u001b[39m         \u001b[38;5;28mprint\u001b[39m(ssrs)\n\u001b[32m     21\u001b[39m \u001b[38;5;28;01mfrom\u001b[39;00m\u001b[38;5;250m \u001b[39m\u001b[34;01maldiscore\u001b[39;00m\u001b[34;01m.\u001b[39;00m\u001b[34;01mprediction\u001b[39;00m\u001b[38;5;250m \u001b[39m\u001b[38;5;28;01mimport\u001b[39;00m utils\n\u001b[32m---> \u001b[39m\u001b[32m23\u001b[39m count_arr, len_arr = tandem_repeats(sequences)\n\u001b[32m     24\u001b[39m len_arr\n",
      "\u001b[31mTypeError\u001b[39m: cannot unpack non-iterable NoneType object"
     ]
    }
   ],
   "source": [
    "from itertools import groupby\n",
    "from collections import defaultdict\n",
    "import pytrf, pyfastx\n",
    "from functools import partial\n",
    "\n",
    "# from pytrf import d\n",
    "\n",
    "\n",
    "def tandem_repeats(sequences):\n",
    "    # parse input fasta sequence\n",
    "    for seq_record in sequences:\n",
    "        seq = str(seq_record.seq).upper()\n",
    "        name = seq_record.id\n",
    "        # get the first sequence from fasta\n",
    "        # feed sequence to pytrf\n",
    "        # the fastest way to get all SSRs from sequence\n",
    "        ssrs = pytrf.STRFinder(name, seq).as_list()\n",
    "        print(ssrs)\n",
    "\n",
    "\n",
    "from aldiscore.prediction import utils\n",
    "\n",
    "count_arr, len_arr = tandem_repeats(sequences)\n",
    "len_arr"
   ]
  },
  {
   "cell_type": "code",
   "execution_count": null,
   "id": "e32ea601",
   "metadata": {},
   "outputs": [
    {
     "name": "stdout",
     "output_type": "stream",
     "text": [
      "2025-08-25_11-13-08.parquet\n"
     ]
    },
    {
     "data": {
      "text/plain": [
       "source\n",
       "arthropod        4.868850\n",
       "bali2dna         3.636999\n",
       "bali2dnaf        3.722938\n",
       "bali3            6.578528\n",
       "ox               3.705403\n",
       "prefab4          3.939462\n",
       "sabre            0.912873\n",
       "treebase_v1    591.011598\n",
       "dtype: float64"
      ]
     },
     "execution_count": 69,
     "metadata": {},
     "output_type": "execute_result"
    }
   ],
   "source": [
    "perf_dir = ROOT / \"logs\" / \"perf\"\n",
    "perf_file = sorted(os.listdir(perf_dir))[-1]\n",
    "print(perf_file)\n",
    "perf_df = pd.read_parquet(perf_dir / perf_file)\n",
    "perf_df.groupby(\"source\").max().sum(axis=1)"
   ]
  },
  {
   "cell_type": "code",
   "execution_count": null,
   "id": "c1d20738",
   "metadata": {},
   "outputs": [],
   "source": [
    "from tqdm import tqdm\n",
    "\n",
    "source = \"treebase_v1\"\n",
    "data_dir = Path(\"/hits/fast/cme/bodynems/data/paper\") / source\n",
    "datasets = list(\n",
    "    filter(lambda name: os.path.isdir(data_dir / name), os.listdir(data_dir))\n",
    ")\n",
    "\n",
    "feats_dict = {}\n",
    "for i, dataset in tqdm(enumerate(datasets)):\n",
    "    # if dataset != \"25479_0.phy\":\n",
    "    #     continue\n",
    "    seqs = list(SeqIO.parse(data_dir / dataset / \"sequences.fasta\", format=\"fasta\"))\n",
    "    feats = FeatureExtractor(seqs).compute()\n",
    "    feats_dict[(source, dataset)] = feats\n",
    "    if i >= 24:\n",
    "        break\n",
    "feat_df = pd.concat(feats_dict.values(), axis=0, ignore_index=True)\n",
    "feat_df.index = pd.MultiIndex.from_tuples(\n",
    "    feats_dict.keys(), names=[\"source\", \"dataset\"]\n",
    ")\n",
    "\n",
    "# feat_df.info()"
   ]
  },
  {
   "cell_type": "code",
   "execution_count": null,
   "id": "7d0965f8",
   "metadata": {},
   "outputs": [],
   "source": [
    "import parasail\n",
    "from Bio.Seq import Seq\n",
    "from Bio import SeqIO\n",
    "import itertools\n",
    "import random\n",
    "from aldiscore.scoring.encoding import encode_positions\n",
    "from aldiscore.enums.enums import PositionalEncodingEnum as PSE\n",
    "from collections import defaultdict\n",
    "\n",
    "seq_path = Path(\"/hits/fast/cme/bodynems/data/paper/prefab4/1cvl_1tca/sequences.fasta\")\n",
    "sequences = list(SeqIO.parse(seq_path, format=\"fasta\"))\n",
    "print(len(sequences))\n",
    "print(sequences)\n",
    "GAP_CHAR = \"-\"\n",
    "# sequences = [\n",
    "#     SeqRecord(Seq(\"ACCCA\")),\n",
    "#     SeqRecord(Seq(\"ACAGTAAACCA\")),\n",
    "#     SeqRecord(Seq(\"ACGGTACATTA\")),\n",
    "#     SeqRecord(Seq(\"TTCTTAG\")),\n",
    "#     SeqRecord(Seq(\"GCTACTATTA\")),\n",
    "#     SeqRecord(Seq(\"TTAATGGGGGGA\")),\n",
    "#     SeqRecord(Seq(\"ATTTCTA\")),\n",
    "#     SeqRecord(Seq(\"ATTTATTAAACCA\")),\n",
    "#     SeqRecord(Seq(\"ATTTGTTACATTA\")),\n",
    "#     SeqRecord(Seq(\"TTTTCTTAG\")),\n",
    "#     SeqRecord(Seq(\"GTTTTTCTATTA\")),\n",
    "#     SeqRecord(Seq(\"TTTTATTGGGGGGA\")),\n",
    "# ]\n",
    "extractor = FeatureExtractor(sequences)\n",
    "extractor._init_cache()\n",
    "out = extractor.compute()\n",
    "print(len(out.columns))\n",
    "print(len(out.columns[out.columns.str.contains(\"tc_\")]))\n",
    "for i, col in enumerate(out.columns):\n",
    "    print(col, end=\" | \")\n",
    "    if (i + 1) % 6 == 0:\n",
    "        print()\n",
    "# idx_map = extractor._cache[extractor._PSA_INDEX_MAP]\n",
    "# for idx_a in idx_map:\n",
    "#     print(idx_map[idx_a])\n",
    "\n",
    "# print(groups)\n",
    "# for idx_a in aligns:\n",
    "#     print(idx_a)\n",
    "#     for idx_b in aligns[idx_a]:\n",
    "#         print(\"  \" + str(idx_b))"
   ]
  }
 ],
 "metadata": {
  "kernelspec": {
   "display_name": "aldiscore",
   "language": "python",
   "name": "python3"
  },
  "language_info": {
   "codemirror_mode": {
    "name": "ipython",
    "version": 3
   },
   "file_extension": ".py",
   "mimetype": "text/x-python",
   "name": "python",
   "nbconvert_exporter": "python",
   "pygments_lexer": "ipython3",
   "version": "3.13.3"
  }
 },
 "nbformat": 4,
 "nbformat_minor": 5
}
