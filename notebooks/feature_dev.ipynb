{
 "cells": [
  {
   "cell_type": "code",
   "execution_count": 1,
   "id": "a1326b86",
   "metadata": {},
   "outputs": [
    {
     "name": "stdout",
     "output_type": "stream",
     "text": [
      "k = 4\n"
     ]
    }
   ],
   "source": [
    "%reload_ext autoreload\n",
    "%autoreload 2\n",
    "from aldiscore.prediction.extractor import FeatureExtractor\n",
    "from Bio.SeqRecord import SeqRecord\n",
    "import os\n",
    "from pathlib import Path\n",
    "from Bio import SeqIO\n",
    "from aldiscore import ROOT, get_from_config\n",
    "\n",
    "TEST_FILE_AA = Path(\"data/aa.fasta\")\n",
    "TEST_FILE_DNA = Path(\"data/dna.fasta\")\n",
    "\n",
    "sequences = list(SeqIO.parse(TEST_FILE_AA, \"fasta\"))\n",
    "print(\"k =\", len(sequences))"
   ]
  },
  {
   "cell_type": "code",
   "execution_count": null,
   "id": "dd550db5",
   "metadata": {},
   "outputs": [
    {
     "name": "stdout",
     "output_type": "stream",
     "text": [
      "{'FRST_File-bytes': '46', 'FRST_Entropy': '2.087233', 'FRST_Chi-square': '2859.043478', 'FRST_Mean': '102.695652', 'FRST_Monte-Carlo-Pi': '4.000000', 'FRST_Serial-Correlation': '-0.390175'}\n"
     ]
    }
   ],
   "source": [
    "import subprocess\n",
    "import numpy as np\n",
    "import pandas as pd\n",
    "\n",
    "# print(\"Header\", lines[2])\n",
    "# data = np.array(lines[2:])[1:, 2:]\n",
    "# occurrences = data[:, -1].astype(float)\n",
    "# mask = occurrences != 0\n",
    "# data = data[mask]\n",
    "# occurrences = occurrences[mask]\n",
    "# sort_idxs = occurrences.argsort()[::-1]\n",
    "# data = data[sort_idxs]\n",
    "# data\n",
    "# # # print(dists.sort(axis=0))\n",
    "# df = pd.DataFrame(lines[3:], columns=lines[2])\n",
    "# df.Value = df.Value.map(lambda v: chr(int(v)))\n",
    "# df.sort_values(\"Fraction\", ascending=False)\n",
    "# # print(chr(99))"
   ]
  },
  {
   "cell_type": "code",
   "execution_count": 9,
   "id": "70509472",
   "metadata": {},
   "outputs": [
    {
     "name": "stdout",
     "output_type": "stream",
     "text": [
      "4\n"
     ]
    },
    {
     "data": {
      "text/html": [
       "<div>\n",
       "<style scoped>\n",
       "    .dataframe tbody tr th:only-of-type {\n",
       "        vertical-align: middle;\n",
       "    }\n",
       "\n",
       "    .dataframe tbody tr th {\n",
       "        vertical-align: top;\n",
       "    }\n",
       "\n",
       "    .dataframe thead th {\n",
       "        text-align: right;\n",
       "    }\n",
       "</style>\n",
       "<table border=\"1\" class=\"dataframe\">\n",
       "  <thead>\n",
       "    <tr style=\"text-align: right;\">\n",
       "      <th></th>\n",
       "      <th>is_dna</th>\n",
       "      <th>num_seqs</th>\n",
       "      <th>lower_bound_gap_percentage</th>\n",
       "      <th>min:entropy</th>\n",
       "      <th>max:entropy</th>\n",
       "      <th>mean:entropy</th>\n",
       "      <th>std:entropy</th>\n",
       "      <th>p5:entropy</th>\n",
       "      <th>p10:entropy</th>\n",
       "      <th>p25:entropy</th>\n",
       "      <th>...</th>\n",
       "      <th>max:FRST_Serial-Correlation</th>\n",
       "      <th>mean:FRST_Serial-Correlation</th>\n",
       "      <th>std:FRST_Serial-Correlation</th>\n",
       "      <th>p5:FRST_Serial-Correlation</th>\n",
       "      <th>p10:FRST_Serial-Correlation</th>\n",
       "      <th>p25:FRST_Serial-Correlation</th>\n",
       "      <th>p50:FRST_Serial-Correlation</th>\n",
       "      <th>p75:FRST_Serial-Correlation</th>\n",
       "      <th>p90:FRST_Serial-Correlation</th>\n",
       "      <th>p95:FRST_Serial-Correlation</th>\n",
       "    </tr>\n",
       "  </thead>\n",
       "  <tbody>\n",
       "    <tr>\n",
       "      <th>0</th>\n",
       "      <td>False</td>\n",
       "      <td>4</td>\n",
       "      <td>0.435185</td>\n",
       "      <td>1.988653</td>\n",
       "      <td>2.072829</td>\n",
       "      <td>2.041547</td>\n",
       "      <td>0.034642</td>\n",
       "      <td>1.995226</td>\n",
       "      <td>2.001799</td>\n",
       "      <td>2.021518</td>\n",
       "      <td>...</td>\n",
       "      <td>0.036889</td>\n",
       "      <td>-0.005203</td>\n",
       "      <td>0.034629</td>\n",
       "      <td>-0.039698</td>\n",
       "      <td>-0.039559</td>\n",
       "      <td>-0.039143</td>\n",
       "      <td>-0.008932</td>\n",
       "      <td>0.025009</td>\n",
       "      <td>0.032137</td>\n",
       "      <td>0.034513</td>\n",
       "    </tr>\n",
       "  </tbody>\n",
       "</table>\n",
       "<p>1 rows × 91 columns</p>\n",
       "</div>"
      ],
      "text/plain": [
       "   is_dna  num_seqs  lower_bound_gap_percentage  min:entropy  max:entropy  \\\n",
       "0   False         4                    0.435185     1.988653     2.072829   \n",
       "\n",
       "   mean:entropy  std:entropy  p5:entropy  p10:entropy  p25:entropy  ...  \\\n",
       "0      2.041547     0.034642    1.995226     2.001799     2.021518  ...   \n",
       "\n",
       "   max:FRST_Serial-Correlation  mean:FRST_Serial-Correlation  \\\n",
       "0                     0.036889                     -0.005203   \n",
       "\n",
       "   std:FRST_Serial-Correlation  p5:FRST_Serial-Correlation  \\\n",
       "0                     0.034629                   -0.039698   \n",
       "\n",
       "   p10:FRST_Serial-Correlation  p25:FRST_Serial-Correlation  \\\n",
       "0                    -0.039559                    -0.039143   \n",
       "\n",
       "   p50:FRST_Serial-Correlation  p75:FRST_Serial-Correlation  \\\n",
       "0                    -0.008932                     0.025009   \n",
       "\n",
       "   p90:FRST_Serial-Correlation  p95:FRST_Serial-Correlation  \n",
       "0                     0.032137                     0.034513  \n",
       "\n",
       "[1 rows x 91 columns]"
      ]
     },
     "execution_count": 9,
     "metadata": {},
     "output_type": "execute_result"
    }
   ],
   "source": [
    "dummy = sequences\n",
    "print(len(dummy))\n",
    "extractor = FeatureExtractor(dummy)\n",
    "# feat_df = extractor.compute()\n",
    "extractor._init_cache()\n",
    "# feats = extractor._get_ent_features()\n",
    "# feats\n",
    "extractor.compute()"
   ]
  },
  {
   "cell_type": "code",
   "execution_count": 19,
   "id": "f14a820f",
   "metadata": {},
   "outputs": [
    {
     "ename": "ModuleNotFoundError",
     "evalue": "No module named 'sklearn'",
     "output_type": "error",
     "traceback": [
      "\u001b[31m---------------------------------------------------------------------------\u001b[39m",
      "\u001b[31mModuleNotFoundError\u001b[39m                       Traceback (most recent call last)",
      "\u001b[36mCell\u001b[39m\u001b[36m \u001b[39m\u001b[32mIn[19]\u001b[39m\u001b[32m, line 1\u001b[39m\n\u001b[32m----> \u001b[39m\u001b[32m1\u001b[39m \u001b[38;5;28;01mfrom\u001b[39;00m\u001b[38;5;250m \u001b[39m\u001b[34;01msklearn\u001b[39;00m\u001b[34;01m.\u001b[39;00m\u001b[34;01mensemble\u001b[39;00m\u001b[38;5;250m \u001b[39m\u001b[38;5;28;01mimport\u001b[39;00m RandomForestRegressor\n\u001b[32m      3\u001b[39m model = RandomForestRegressor(n_estimators=\u001b[32m20\u001b[39m)\n\u001b[32m      4\u001b[39m model\n",
      "\u001b[31mModuleNotFoundError\u001b[39m: No module named 'sklearn'"
     ]
    }
   ],
   "source": [
    "from sklearn.ensemble import RandomForestRegressor\n",
    "\n",
    "model = RandomForestRegressor(n_estimators=20)\n",
    "model"
   ]
  }
 ],
 "metadata": {
  "kernelspec": {
   "display_name": "aldiscore",
   "language": "python",
   "name": "python3"
  },
  "language_info": {
   "codemirror_mode": {
    "name": "ipython",
    "version": 3
   },
   "file_extension": ".py",
   "mimetype": "text/x-python",
   "name": "python",
   "nbconvert_exporter": "python",
   "pygments_lexer": "ipython3",
   "version": "3.13.3"
  }
 },
 "nbformat": 4,
 "nbformat_minor": 5
}
