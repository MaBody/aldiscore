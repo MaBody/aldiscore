{
 "cells": [
  {
   "cell_type": "code",
   "execution_count": 1,
   "metadata": {},
   "outputs": [],
   "source": [
    "%load_ext autoreload\n",
    "%autoreload 2\n",
    "\n",
    "import pandas as pd\n",
    "from utils.path import WildcardPath\n",
    "import os\n",
    "from utils.enums import (\n",
    "    AlignerEnum,\n",
    "    FeatureEnum as FE,\n",
    "    FeatureDirectionEnum as FDE,\n",
    "    FeatureTypeEnum as FTE,\n",
    ")\n",
    "import matplotlib.pyplot as plt\n",
    "import seaborn as sns\n",
    "import numpy as np\n",
    "import alignment.ensemble\n",
    "import alignment.dataset\n",
    "import utils.plots"
   ]
  },
  {
   "cell_type": "code",
   "execution_count": 2,
   "metadata": {},
   "outputs": [],
   "source": [
    "DATA_DIR = WildcardPath(\"/hits/fast/cme/bodynems/data/\")\n",
    "RESULT_DIR = WildcardPath(\"/hits/fast/cme/bodynems/MSA_difficulty/results\")\n",
    "\n",
    "# BENCHMARKS = [\"balibase3/RV11\", \"balibase3/RV12\"]\n",
    "benchmark = \"treebase_large\"\n",
    "INPUT_DIR = DATA_DIR / \"input\" / \"{benchmark}\"\n",
    "OUTPUT_DIR = DATA_DIR / \"output\" / \"{benchmark}\"\n",
    "\n",
    "DATASET_DIR = OUTPUT_DIR / \"{dataset}\"\n",
    "\n",
    "\n",
    "aligned_FEAT_FILE = \"aligned_features.parquet\"\n",
    "TOOLS = [aligner for aligner in AlignerEnum]"
   ]
  },
  {
   "cell_type": "code",
   "execution_count": 3,
   "metadata": {},
   "outputs": [
    {
     "name": "stdout",
     "output_type": "stream",
     "text": [
      "displacement_dist_d0.parquet\n",
      "displacement_dist_d8.parquet\n",
      "displacement_dist_d32.parquet\n",
      "homology_pos_dist.parquet\n",
      "gap_delta_dist.parquet\n",
      "displacement_dist_d2.parquet\n",
      "perc_hash_hamming_dist_256bit.parquet\n",
      "displacement_dist_d16.parquet\n",
      "perc_hash_hamming_dist_16bit.parquet\n",
      "homology_seq_dist.parquet\n",
      "perc_hash_hamming_dist_64bit.parquet\n",
      "displacement_dist_d4.parquet\n",
      "displacement_dist_d1.parquet\n",
      "homology_raw_dist.parquet\n",
      "displacement_dist.parquet\n",
      "symmetrized_sp_dist.parquet\n"
     ]
    }
   ],
   "source": [
    "# dist_mats contains one distance matrix per dataset.\n",
    "# The matrices have shape (n_replicates, n_replicates).\n",
    "dist_mats = {}\n",
    "reference_features = []\n",
    "for dataset in OUTPUT_DIR.format(benchmark=benchmark).listdir(dirs_only=True):\n",
    "    dist_mat_dir = (\n",
    "        DATASET_DIR.format(benchmark=benchmark, dataset=dataset) / \"distances\"\n",
    "    )\n",
    "    for file in dist_mat_dir.listdir():\n",
    "        print(file)\n",
    "        metric = file.split(\".\")[0]\n",
    "        dist_mats[(benchmark, dataset, metric)] = pd.read_parquet(dist_mat_dir / file)\n",
    "    break\n",
    "\n",
    "#     benchmark_ref_df = pd.read_parquet(\n",
    "#         OUTPUT_DIR.format(benchmark=benchmark) / \"reference_features.parquet\"\n",
    "#     )\n",
    "#     benchmark_ref_df[\"benchmark\"] = benchmark\n",
    "#     reference_features.append(benchmark_ref_df)\n",
    "# reference_features = pd.concat(reference_features, axis=0, ignore_index=True)"
   ]
  },
  {
   "cell_type": "code",
   "execution_count": 17,
   "metadata": {},
   "outputs": [
    {
     "name": "stdout",
     "output_type": "stream",
     "text": [
      "Index(['Mafft_FFT-NS-2', 'Mafft_FFT-NS-2', 'Mafft_FFT-NS-2', 'Mafft_FFT-NS-2',\n",
      "       'Mafft_FFT-NS-2', 'Mafft_FFT-NS-2', 'Mafft_FFT-NS-2', 'Mafft_FFT-NS-2',\n",
      "       'Mafft_L-INS-i', 'Mafft_L-INS-i', 'Mafft_L-INS-i', 'Mafft_L-INS-i',\n",
      "       'Mafft_L-INS-i', 'Mafft_L-INS-i', 'Mafft_L-INS-i', 'Mafft_L-INS-i',\n",
      "       'Mafft_G-INS-i', 'Mafft_G-INS-i', 'Mafft_G-INS-i', 'Mafft_G-INS-i',\n",
      "       'Mafft_G-INS-i', 'Mafft_G-INS-i', 'Mafft_G-INS-i', 'Mafft_G-INS-i',\n",
      "       'ClustalO', 'ClustalO', 'ClustalO', 'ClustalO', 'ClustalO', 'ClustalO',\n",
      "       'ClustalO', 'ClustalO', 'Muscle5', 'Muscle5', 'Muscle5', 'Muscle5',\n",
      "       'Muscle5', 'Muscle5', 'Muscle5', 'Muscle5', 'Muscle3', 'Muscle3',\n",
      "       'Muscle3', 'Muscle3', 'Muscle3', 'Muscle3', 'Muscle3', 'Muscle3'],\n",
      "      dtype='object')\n",
      "16\n"
     ]
    }
   ],
   "source": [
    "for dist_mat in dist_mats.values():\n",
    "    print(dist_mat.index)\n",
    "    break\n",
    "print(len(dist_mats))"
   ]
  },
  {
   "cell_type": "code",
   "execution_count": 10,
   "metadata": {},
   "outputs": [],
   "source": [
    "# score_mats contains a list of ref-rep distances for each dataset.\n",
    "# The lists have length n_replicates.\n",
    "ref_rep_dists_map = {}\n",
    "\n",
    "for benchmark, dataset, metric in dist_mats.keys():\n",
    "    ref_rep_dists = (\n",
    "        reference_features.query(\n",
    "            f\"(benchmark == '{benchmark}') & (dataset == '{dataset}')\"\n",
    "        )\n",
    "        .loc[:, \"median_\" + FE.HOMOLOGY_POS_DIST]\n",
    "        .reset_index(drop=True)\n",
    "    )\n",
    "    ref_rep_dists_map[(benchmark, dataset)] = ref_rep_dists"
   ]
  },
  {
   "cell_type": "code",
   "execution_count": 4,
   "metadata": {},
   "outputs": [
    {
     "name": "stdout",
     "output_type": "stream",
     "text": [
      "homology_pos_dist\n",
      "22475_2.phy [0.5  0.13 0.08 0.06 0.04]\n"
     ]
    }
   ],
   "source": [
    "from sklearn.decomposition import PCA\n",
    "import seaborn as sn\n",
    "\n",
    "pca = PCA(n_components=2)\n",
    "for i, (benchmark, dataset, metric) in enumerate(dist_mats):\n",
    "    # if metric == FE.HOMOLOGY_POS_DIST:\n",
    "    if metric == FE.HOMOLOGY_POS_DIST:\n",
    "        print(metric)\n",
    "        out_path = RESULT_DIR / benchmark / \"plots\" / \"mds\"\n",
    "        os.makedirs(out_path, exist_ok=True)\n",
    "        dist_mat = dist_mats[(benchmark, dataset, metric)]\n",
    "        # dist_mat = dist_mat + np.random.random(dist_mat.shape) * 1e-4\n",
    "        # sn.heatmap(dist_mat)\n",
    "        # plt.show()\n",
    "        color = None\n",
    "        # color = ref_rep_dists_map[(benchmark, dataset)]\n",
    "        fig = utils.plots.mds_tool_scatterplot(\n",
    "            dist_mat,\n",
    "            dataset,\n",
    "            color,\n",
    "            metric_name=metric,\n",
    "            out_dir=out_path,\n",
    "            out_type=\"svg\",\n",
    "            method=\"metric\",\n",
    "        )\n",
    "        # fig.show()\n",
    "        plt.close(fig)\n",
    "    # plt.show()\n",
    "    # if i > 10:\n",
    "    #     break"
   ]
  },
  {
   "cell_type": "code",
   "execution_count": null,
   "metadata": {},
   "outputs": [],
   "source": []
  }
 ],
 "metadata": {
  "kernelspec": {
   "display_name": "difficulty",
   "language": "python",
   "name": "python3"
  },
  "language_info": {
   "codemirror_mode": {
    "name": "ipython",
    "version": 3
   },
   "file_extension": ".py",
   "mimetype": "text/x-python",
   "name": "python",
   "nbconvert_exporter": "python",
   "pygments_lexer": "ipython3",
   "version": "3.12.8"
  }
 },
 "nbformat": 4,
 "nbformat_minor": 2
}
