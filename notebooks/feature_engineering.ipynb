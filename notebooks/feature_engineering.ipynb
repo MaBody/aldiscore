{
 "cells": [
  {
   "cell_type": "code",
   "execution_count": 5,
   "id": "dc3acade",
   "metadata": {},
   "outputs": [],
   "source": [
    "%reload_ext autoreload\n",
    "%autoreload 2\n",
    "from alignment.alignment import Alignment\n",
    "import pandas as pd\n",
    "from utils.path import WildcardPath\n",
    "from alignment.ensemble import Ensemble\n",
    "from alignment.dataset import Dataset\n",
    "from features.pairwise import Metric\n",
    "import features.unaligned\n",
    "import numpy as np\n",
    "\n",
    "DATA_DIR = WildcardPath(\"/hits/fast/cme/bodynems/data/\")\n",
    "RESULT_DIR = WildcardPath(\"/hits/fast/cme/bodynems/MSA_difficulty/results\")\n",
    "\n",
    "BENCHMARKS = [\"treebase_test_small_v2\", \"balibase3/RV11\", \"balibase3/RV12\"]\n",
    "INPUT_DIR = DATA_DIR / \"input\" / \"{benchmark}\"\n",
    "OUTPUT_DIR = DATA_DIR / \"output\" / \"{benchmark}\"\n",
    "\n",
    "DATASET_DIR = OUTPUT_DIR / \"{dataset}\"\n",
    "\n",
    "MUSCLE5_DIR = DATASET_DIR / \"Muscle5\"\n",
    "\n",
    "muscle_msas = []\n",
    "benchmark = BENCHMARKS[0]\n",
    "dataset_dir = OUTPUT_DIR.format(benchmark=benchmark)\n",
    "dataset_names = dataset_dir.listdir(dirs_only=True)\n",
    "\n",
    "datasets = []\n",
    "for name in dataset_names:\n",
    "    dataset = Dataset(\n",
    "        DATASET_DIR.format(benchmark=benchmark, dataset=name)\n",
    "        / \"sequences.fasta\"\n",
    "    )\n",
    "    datasets.append(dataset)\n"
   ]
  },
  {
   "cell_type": "code",
   "execution_count": 8,
   "id": "9b81451f",
   "metadata": {},
   "outputs": [
    {
     "data": {
      "text/plain": [
       "Index(['data_type', 'n_sequences', 'min_sequence_length',\n",
       "       'max_sequence_length', 'mean_sequence_length', 'median_sequence_length',\n",
       "       'std_sequence_length', 'sequence_length_ratio',\n",
       "       'lower_bound_gap_percentage', 'min_seq_length_taxa_ratio',\n",
       "       'max_seq_length_taxa_ratio', 'mean_seq_length_taxa_ratio',\n",
       "       'median_seq_length_taxa_ratio', 'std_seq_length_taxa_ratio',\n",
       "       'min_shannon_entropy', 'max_shannon_entropy', 'mean_shannon_entropy',\n",
       "       'median_shannon_entropy', 'std_shannon_entropy',\n",
       "       'min_score_ratio_basic', 'max_score_ratio_basic',\n",
       "       'mean_score_ratio_basic', 'median_score_ratio_basic',\n",
       "       'std_score_ratio_basic', 'min_gap_ratio_basic', 'max_gap_ratio_basic',\n",
       "       'mean_gap_ratio_basic', 'median_gap_ratio_basic', 'std_gap_ratio_basic',\n",
       "       'min_stretch_ratio_basic', 'max_stretch_ratio_basic',\n",
       "       'mean_stretch_ratio_basic', 'median_stretch_ratio_basic',\n",
       "       'std_stretch_ratio_basic', 'min_avg_gap_length_basic',\n",
       "       'max_avg_gap_length_basic', 'mean_avg_gap_length_basic',\n",
       "       'median_avg_gap_length_basic', 'std_avg_gap_length_basic',\n",
       "       'min_score_ratio_advanced', 'max_score_ratio_advanced',\n",
       "       'mean_score_ratio_advanced', 'median_score_ratio_advanced',\n",
       "       'std_score_ratio_advanced', 'min_gap_ratio_advanced',\n",
       "       'max_gap_ratio_advanced', 'mean_gap_ratio_advanced',\n",
       "       'median_gap_ratio_advanced', 'std_gap_ratio_advanced',\n",
       "       'min_stretch_ratio_advanced', 'max_stretch_ratio_advanced',\n",
       "       'mean_stretch_ratio_advanced', 'median_stretch_ratio_advanced',\n",
       "       'std_stretch_ratio_advanced', 'min_avg_gap_length_advanced',\n",
       "       'max_avg_gap_length_advanced', 'mean_avg_gap_length_advanced',\n",
       "       'median_avg_gap_length_advanced', 'std_avg_gap_length_advanced',\n",
       "       'min_perc_seq_hash_hamming_16bit', 'max_perc_seq_hash_hamming_16bit',\n",
       "       'mean_perc_seq_hash_hamming_16bit',\n",
       "       'median_perc_seq_hash_hamming_16bit', 'std_perc_seq_hash_hamming_16bit',\n",
       "       'min_kmer_similarity_5', 'max_kmer_similarity_5',\n",
       "       'mean_kmer_similarity_5', 'median_kmer_similarity_5',\n",
       "       'std_kmer_similarity_5', 'min_kmer_similarity_10',\n",
       "       'max_kmer_similarity_10', 'mean_kmer_similarity_10',\n",
       "       'median_kmer_similarity_10', 'std_kmer_similarity_10'],\n",
       "      dtype='object')"
      ]
     },
     "execution_count": 8,
     "metadata": {},
     "output_type": "execute_result"
    }
   ],
   "source": [
    "# metal = WilcardPath(\"/hits/fast/cme/bodynems/tools/metal\")\n",
    "extractor = features.unaligned.DatasetFeatureExtractor(dataset, threads=8)\n",
    "aligned_features = extractor.compute()\n",
    "\n",
    "aligned_features.columns"
   ]
  }
 ],
 "metadata": {
  "kernelspec": {
   "display_name": "difficulty",
   "language": "python",
   "name": "python3"
  },
  "language_info": {
   "codemirror_mode": {
    "name": "ipython",
    "version": 3
   },
   "file_extension": ".py",
   "mimetype": "text/x-python",
   "name": "python",
   "nbconvert_exporter": "python",
   "pygments_lexer": "ipython3",
   "version": "3.12.8"
  }
 },
 "nbformat": 4,
 "nbformat_minor": 5
}
