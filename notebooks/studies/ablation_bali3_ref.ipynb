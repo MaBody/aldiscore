{
 "cells": [
  {
   "cell_type": "code",
   "execution_count": null,
   "id": "a1326b86",
   "metadata": {},
   "outputs": [],
   "source": [
    "%reload_ext autoreload\n",
    "%autoreload 2\n",
    "import os\n",
    "from pathlib import Path\n",
    "import numpy as np\n",
    "import pandas as pd\n",
    "from aldiscore.prediction import utils\n",
    "from aldiscore import ROOT, RSTATE\n",
    "import matplotlib.pyplot as plt\n",
    "import seaborn as sn"
   ]
  },
  {
   "cell_type": "code",
   "execution_count": null,
   "id": "ec129d76",
   "metadata": {},
   "outputs": [
    {
     "name": "stdout",
     "output_type": "stream",
     "text": [
      "Dropping 0 NaN rows...\n",
      "(11431, 469)\n",
      "(11431, 21)\n",
      "(11431, 1)\n"
     ]
    }
   ],
   "source": [
    "data_dir = Path(\"/hits/fast/cme/bodynems/data/paper\")\n",
    "feat_df, drop_df, labels = utils.load_features(\n",
    "    data_dir,\n",
    "    label_scale=1.1,\n",
    "    # exclude_sources=[\"sabre\"],\n",
    "    exclude_features=[\"is_dna\", \"num_seqs\", \"seq_length\"],\n",
    ")\n",
    "clean_feat_names = feat_df.columns.str.replace(\":\", \".\").to_list()\n",
    "feat_df.columns = clean_feat_names\n",
    "\n",
    "print(feat_df.shape)\n",
    "print(drop_df.shape)\n",
    "print(labels.shape)"
   ]
  },
  {
   "cell_type": "code",
   "execution_count": null,
   "id": "33e6ca45",
   "metadata": {},
   "outputs": [
    {
     "name": "stdout",
     "output_type": "stream",
     "text": [
      "(11045, 469)\n",
      "(11431, 21)\n",
      "(11045, 1)\n"
     ]
    }
   ],
   "source": [
    "# # TEST PERFORMANCE ON WITHHELD DATA\n",
    "excluded = \"bali3\"\n",
    "excl_idxs = feat_df.query(f\"source == '{excluded}'\").index.copy()\n",
    "excl_feats = feat_df.loc[excl_idxs].copy()\n",
    "excl_labels = labels.loc[excl_idxs].copy()\n",
    "feat_df = feat_df.drop(excl_idxs, axis=0)\n",
    "labels = labels.drop(excl_idxs, axis=0)\n",
    "print(feat_df.shape)\n",
    "print(drop_df.shape)\n",
    "print(labels.shape)"
   ]
  },
  {
   "cell_type": "code",
   "execution_count": null,
   "id": "f14a820f",
   "metadata": {},
   "outputs": [
    {
     "name": "stdout",
     "output_type": "stream",
     "text": [
      "8836 1104 1105\n"
     ]
    }
   ],
   "source": [
    "from sklearn.model_selection import train_test_split\n",
    "\n",
    "train_idxs, test_idxs = train_test_split(\n",
    "    feat_df.index.to_list(), test_size=0.2, random_state=RSTATE\n",
    ")\n",
    "test_idxs, valid_idxs = train_test_split(test_idxs, test_size=0.5, random_state=RSTATE)\n",
    "print(len(train_idxs), len(test_idxs), len(valid_idxs))\n",
    "\n",
    "X_train = feat_df.loc[train_idxs]\n",
    "X_test = feat_df.loc[test_idxs]\n",
    "X_valid = feat_df.loc[valid_idxs]\n",
    "y_train = labels.loc[train_idxs]\n",
    "y_test = labels.loc[test_idxs]\n",
    "y_valid = labels.loc[valid_idxs]"
   ]
  },
  {
   "cell_type": "code",
   "execution_count": null,
   "id": "f308454f",
   "metadata": {},
   "outputs": [],
   "source": [
    "import lightgbm as lgb\n",
    "\n",
    "param_df = pd.read_parquet(ROOT / \"optuna\" / \"trial_01.parquet\")\n",
    "params = dict(param_df.drop(\"score\", axis=1).iloc[0])\n",
    "for key, val in params.items():\n",
    "    if isinstance(params[key], float) and (float(int(val)) == val):\n",
    "        params[key] = int(val)\n",
    "# Train the model\n",
    "model = lgb.LGBMRegressor(**params)\n",
    "model = model.fit(X_train, y_train)"
   ]
  },
  {
   "cell_type": "code",
   "execution_count": 25,
   "id": "333f5ca8",
   "metadata": {},
   "outputs": [],
   "source": [
    "ref_labels = []\n",
    "for sub in [\"RV11\", \"RV12\"]:\n",
    "    old_path = Path(f\"/hits/fast/cme/bodynems/data/output/balibase3/{sub}\")\n",
    "    ref_df = pd.read_parquet(old_path / \"reference_features.parquet\")\n",
    "    id_cols = [\"dataset\"]\n",
    "    ref_label = (\n",
    "        ref_df[id_cols + [\"mean_homology_pos_dist\"]]\n",
    "        .groupby(\"dataset\")\n",
    "        .mean(numeric_only=True)\n",
    "    )\n",
    "    ref_labels.append(ref_label)\n",
    "ref_labels = pd.concat(ref_labels)\n",
    "ref_labels.columns = [\"ref\"]\n",
    "ref_labels = ref_labels.reset_index()\n",
    "ref_labels[\"source\"] = \"bali3\"\n",
    "ref_labels[\"dataset\"] = ref_labels[\"dataset\"].str.rstrip(\".msf\")\n",
    "\n",
    "ref_labels.index = pd.MultiIndex.from_arrays(\n",
    "    [ref_labels[\"source\"], ref_labels[\"dataset\"]]\n",
    ")\n",
    "ref_labels = ref_labels.drop([\"source\", \"dataset\"], axis=1)"
   ]
  },
  {
   "cell_type": "code",
   "execution_count": 26,
   "id": "c6df5b69",
   "metadata": {},
   "outputs": [
    {
     "data": {
      "text/html": [
       "<div>\n",
       "<style scoped>\n",
       "    .dataframe tbody tr th:only-of-type {\n",
       "        vertical-align: middle;\n",
       "    }\n",
       "\n",
       "    .dataframe tbody tr th {\n",
       "        vertical-align: top;\n",
       "    }\n",
       "\n",
       "    .dataframe thead th {\n",
       "        text-align: right;\n",
       "    }\n",
       "</style>\n",
       "<table border=\"1\" class=\"dataframe\">\n",
       "  <thead>\n",
       "    <tr style=\"text-align: right;\">\n",
       "      <th></th>\n",
       "      <th>ref_free</th>\n",
       "      <th>ref_based</th>\n",
       "      <th>predicted</th>\n",
       "    </tr>\n",
       "  </thead>\n",
       "  <tbody>\n",
       "    <tr>\n",
       "      <th>ref_free</th>\n",
       "      <td>1.000000</td>\n",
       "      <td>0.967487</td>\n",
       "      <td>0.963734</td>\n",
       "    </tr>\n",
       "    <tr>\n",
       "      <th>ref_based</th>\n",
       "      <td>0.967487</td>\n",
       "      <td>1.000000</td>\n",
       "      <td>0.947727</td>\n",
       "    </tr>\n",
       "    <tr>\n",
       "      <th>predicted</th>\n",
       "      <td>0.963734</td>\n",
       "      <td>0.947727</td>\n",
       "      <td>1.000000</td>\n",
       "    </tr>\n",
       "  </tbody>\n",
       "</table>\n",
       "</div>"
      ],
      "text/plain": [
       "           ref_free  ref_based  predicted\n",
       "ref_free   1.000000   0.967487   0.963734\n",
       "ref_based  0.967487   1.000000   0.947727\n",
       "predicted  0.963734   0.947727   1.000000"
      ]
     },
     "execution_count": 26,
     "metadata": {},
     "output_type": "execute_result"
    }
   ],
   "source": [
    "model = model\n",
    "\n",
    "joint_df = excl_labels.copy()\n",
    "joint_df = joint_df.loc[ref_labels.index]\n",
    "joint_df.columns = [\"ref_free\"]\n",
    "joint_df[\"ref_based\"] = ref_labels[\"ref\"]\n",
    "joint_df[\"predicted\"] = model.predict(excl_feats.loc[joint_df.index])\n",
    "y_pred = joint_df[\"predicted\"]\n",
    "joint_df.corr()"
   ]
  },
  {
   "cell_type": "code",
   "execution_count": 27,
   "id": "e9cb8865",
   "metadata": {},
   "outputs": [
    {
     "data": {
      "text/html": [
       "<div>\n",
       "<style scoped>\n",
       "    .dataframe tbody tr th:only-of-type {\n",
       "        vertical-align: middle;\n",
       "    }\n",
       "\n",
       "    .dataframe tbody tr th {\n",
       "        vertical-align: top;\n",
       "    }\n",
       "\n",
       "    .dataframe thead th {\n",
       "        text-align: right;\n",
       "    }\n",
       "</style>\n",
       "<table border=\"1\" class=\"dataframe\">\n",
       "  <thead>\n",
       "    <tr style=\"text-align: right;\">\n",
       "      <th></th>\n",
       "      <th>label</th>\n",
       "      <th>RMSE</th>\n",
       "      <th>RMSE_CV</th>\n",
       "      <th>MAE</th>\n",
       "      <th>MAPE</th>\n",
       "      <th>MAPE_P50</th>\n",
       "      <th>CORR</th>\n",
       "    </tr>\n",
       "  </thead>\n",
       "  <tbody>\n",
       "    <tr>\n",
       "      <th>0</th>\n",
       "      <td>ref_based</td>\n",
       "      <td>0.0770</td>\n",
       "      <td>0.2187</td>\n",
       "      <td>0.0578</td>\n",
       "      <td>0.1930</td>\n",
       "      <td>0.1382</td>\n",
       "      <td>0.9477</td>\n",
       "    </tr>\n",
       "    <tr>\n",
       "      <th>1</th>\n",
       "      <td>ref_free</td>\n",
       "      <td>0.0600</td>\n",
       "      <td>0.1801</td>\n",
       "      <td>0.0435</td>\n",
       "      <td>0.1504</td>\n",
       "      <td>0.1116</td>\n",
       "      <td>0.9637</td>\n",
       "    </tr>\n",
       "  </tbody>\n",
       "</table>\n",
       "</div>"
      ],
      "text/plain": [
       "       label    RMSE RMSE_CV     MAE    MAPE MAPE_P50    CORR\n",
       "0  ref_based  0.0770  0.2187  0.0578  0.1930   0.1382  0.9477\n",
       "1   ref_free  0.0600  0.1801  0.0435  0.1504   0.1116  0.9637"
      ]
     },
     "execution_count": 27,
     "metadata": {},
     "output_type": "execute_result"
    }
   ],
   "source": [
    "eps = 1e-2\n",
    "perf_dicts = []\n",
    "for label in [\"ref_based\", \"ref_free\"]:\n",
    "    y_true = joint_df[label]\n",
    "    rmse = (((y_pred - y_true) ** 2).sum() / len(y_true)) ** 0.5\n",
    "    rmse_cv = rmse / np.mean(y_true)\n",
    "    mae = (np.abs(y_pred - y_true)).sum() / len(y_true)\n",
    "    mape = (np.abs(y_pred - y_true) / (y_true + eps)).sum() / len(y_true)\n",
    "    mape_p50 = np.percentile(np.abs(y_pred - y_true) / (y_true + eps), 50)\n",
    "    corr = np.corrcoef(y_true, y_pred)[0, 1]\n",
    "    perf_dict = {}\n",
    "    perf_dict[\"label\"] = label\n",
    "    perf_dict[f\"RMSE\"] = f\"{rmse:.4f}\"\n",
    "    perf_dict[f\"RMSE_CV\"] = f\"{rmse_cv:.4f}\"\n",
    "    perf_dict[f\"MAE\"] = f\"{mae:.4f}\"\n",
    "    perf_dict[f\"MAPE\"] = f\"{mape:.4f}\"\n",
    "    perf_dict[f\"MAPE_P50\"] = f\"{mape_p50:.4f}\"\n",
    "    perf_dict[f\"CORR\"] = f\"{corr:.4f}\"\n",
    "    perf_dicts.append(perf_dict)\n",
    "\n",
    "perf_df = pd.DataFrame(perf_dicts)\n",
    "perf_df"
   ]
  },
  {
   "cell_type": "code",
   "execution_count": 81,
   "id": "f4451772",
   "metadata": {},
   "outputs": [
    {
     "name": "stdout",
     "output_type": "stream",
     "text": [
      "['ref_free', 'ref_based', 'predicted']\n"
     ]
    },
    {
     "data": {
      "text/plain": [
       "(0.0, 1.0)"
      ]
     },
     "execution_count": 81,
     "metadata": {},
     "output_type": "execute_result"
    },
    {
     "data": {
      "image/png": "[encoded data removed]",
      "text/plain": [
       "<Figure size 600x500 with 1 Axes>"
      ]
     },
     "metadata": {},
     "output_type": "display_data"
    }
   ],
   "source": [
    "from matplotlib.collections import LineCollection\n",
    "\n",
    "fig, ax = plt.subplots(figsize=(6, 5))\n",
    "plot_df = pd.melt(\n",
    "    joint_df,\n",
    "    id_vars=[\"predicted\"],\n",
    "    value_vars=[\"ref_based\", \"ref_free\"],\n",
    "    var_name=\"Type\",\n",
    "    value_name=\"Label\",\n",
    "    # )\n",
    "    # plot_df.loc[plot_df.Label == \"ref_free\", \"Type\"] = (\n",
    "    #     plot_df.loc[plot_df.Label == \"ref_free\", \"Type\"] * 1.1\n",
    ")\n",
    "sn.scatterplot(plot_df, x=\"predicted\", y=\"Label\", hue=\"Type\", s=15, ax=ax)\n",
    "\n",
    "connections = []\n",
    "print(joint_df.columns.to_list())\n",
    "dots = list(joint_df.to_numpy())\n",
    "for ref_free, ref_based, pred in dots:\n",
    "    connections.append([[pred, ref_based], [pred, ref_free]])\n",
    "style_mask = np.where(joint_df[\"ref_based\"] < joint_df[\"ref_free\"], \":\", \"-\")\n",
    "connections = LineCollection(\n",
    "    connections,\n",
    "    color=\"grey\",\n",
    "    zorder=0,\n",
    "    linestyles=style_mask,\n",
    "    linewidth=1.25,\n",
    ")\n",
    "ax.add_collection(connections)\n",
    "plt.xlim(0, 1)\n",
    "plt.ylim(0, 1)\n",
    "# plt.legend()"
   ]
  }
 ],
 "metadata": {
  "kernelspec": {
   "display_name": "aldiscore",
   "language": "python",
   "name": "python3"
  },
  "language_info": {
   "codemirror_mode": {
    "name": "ipython",
    "version": 3
   },
   "file_extension": ".py",
   "mimetype": "text/x-python",
   "name": "python",
   "nbconvert_exporter": "python",
   "pygments_lexer": "ipython3",
   "version": "3.13.3"
  }
 },
 "nbformat": 4,
 "nbformat_minor": 5
}
