{
 "cells": [
  {
   "cell_type": "code",
   "execution_count": 1,
   "id": "a1326b86",
   "metadata": {},
   "outputs": [],
   "source": [
    "%reload_ext autoreload\n",
    "%autoreload 2\n",
    "import os\n",
    "from pathlib import Path\n",
    "import numpy as np\n",
    "import pandas as pd\n",
    "from aldiscore.prediction import utils\n",
    "from aldiscore import ROOT, RSTATE\n",
    "import matplotlib.pyplot as plt\n",
    "import seaborn as sn\n",
    "from collections import defaultdict\n",
    "from sklearn.model_selection import train_test_split\n",
    "import lightgbm as lgb"
   ]
  },
  {
   "cell_type": "markdown",
   "id": "6755859e",
   "metadata": {},
   "source": [
    "Ideas\n",
    "- Remove all sources individually and check performance on those\n",
    "- Remove all small/ large datasets (seq_length, num_seqs)\n",
    "- Remove DNA/AA data and check"
   ]
  },
  {
   "cell_type": "code",
   "execution_count": null,
   "id": "ec129d76",
   "metadata": {},
   "outputs": [],
   "source": [
    "data_dir = Path(\"/hits/fast/cme/bodynems/data/paper\")\n",
    "param_df = pd.read_parquet(ROOT / \"optuna\" / \"trial_03.parquet\")\n",
    "params = dict(param_df.drop(\"score\", axis=1).iloc[0])\n",
    "params[\"n_estimators\"] = 1500"
   ]
  },
  {
   "cell_type": "markdown",
   "id": "677a5a6a",
   "metadata": {},
   "source": [
    "#### Study 1\n",
    "Train on seq_length <= 100, test on seq_length >= 500\n",
    "\n",
    "Results\n",
    "- Short sequences are able to predict uncertainty for long ones and vice versa (with some degradation of course)."
   ]
  },
  {
   "cell_type": "code",
   "execution_count": 3,
   "id": "24a0bd4a",
   "metadata": {},
   "outputs": [
    {
     "name": "stdout",
     "output_type": "stream",
     "text": [
      "Dropping 0 NaN rows...\n"
     ]
    }
   ],
   "source": [
    "feat_df, drop_df, label_df = utils.load_features(\n",
    "    data_dir,\n",
    "    label_scale=\"auto\",\n",
    "    exclude_features=[\"is_dna\", \"num_seqs\", \"seq_length\"],\n",
    ")\n",
    "\n",
    "mask = (drop_df[\"max.seq_length\"] <= 100) | (drop_df[\"max.seq_length\"] > 499)\n",
    "feat_df = feat_df[mask]\n",
    "label_df = label_df[mask]\n",
    "drop_df = drop_df[mask]"
   ]
  },
  {
   "cell_type": "code",
   "execution_count": 4,
   "id": "e21758d5",
   "metadata": {},
   "outputs": [
    {
     "name": "stdout",
     "output_type": "stream",
     "text": [
      "max.seq_length\n",
      "(499, 10000]    3425\n",
      "(0, 100]        3009\n",
      "(100, 499]         0\n",
      "Name: count, dtype: int64\n"
     ]
    },
    {
     "data": {
      "text/html": [
       "<div>\n",
       "<style scoped>\n",
       "    .dataframe tbody tr th:only-of-type {\n",
       "        vertical-align: middle;\n",
       "    }\n",
       "\n",
       "    .dataframe tbody tr th {\n",
       "        vertical-align: top;\n",
       "    }\n",
       "\n",
       "    .dataframe thead th {\n",
       "        text-align: right;\n",
       "    }\n",
       "</style>\n",
       "<table border=\"1\" class=\"dataframe\">\n",
       "  <thead>\n",
       "    <tr style=\"text-align: right;\">\n",
       "      <th></th>\n",
       "      <th>RMSE</th>\n",
       "      <th>RMSE_CV</th>\n",
       "      <th>MAE</th>\n",
       "      <th>MAPE</th>\n",
       "      <th>MAPE_P50</th>\n",
       "      <th>CORR</th>\n",
       "      <th>n</th>\n",
       "    </tr>\n",
       "  </thead>\n",
       "  <tbody>\n",
       "    <tr>\n",
       "      <th>(0, 100]</th>\n",
       "      <td>0.0764</td>\n",
       "      <td>0.6734</td>\n",
       "      <td>0.0466</td>\n",
       "      <td>0.4913</td>\n",
       "      <td>0.3920</td>\n",
       "      <td>0.9096</td>\n",
       "      <td>3009</td>\n",
       "    </tr>\n",
       "    <tr>\n",
       "      <th>(499, 10000]</th>\n",
       "      <td>0.1047</td>\n",
       "      <td>0.8320</td>\n",
       "      <td>0.0874</td>\n",
       "      <td>3.4741</td>\n",
       "      <td>1.9677</td>\n",
       "      <td>0.9150</td>\n",
       "      <td>3425</td>\n",
       "    </tr>\n",
       "  </tbody>\n",
       "</table>\n",
       "</div>"
      ],
      "text/plain": [
       "                RMSE RMSE_CV     MAE    MAPE MAPE_P50    CORR     n\n",
       "(0, 100]      0.0764  0.6734  0.0466  0.4913   0.3920  0.9096  3009\n",
       "(499, 10000]  0.1047  0.8320  0.0874  3.4741   1.9677  0.9150  3425"
      ]
     },
     "execution_count": 4,
     "metadata": {},
     "output_type": "execute_result"
    }
   ],
   "source": [
    "thresholds = [0, 100, 499, 10000]\n",
    "groups = pd.cut(drop_df[\"max.seq_length\"], bins=thresholds)\n",
    "print(groups.value_counts())\n",
    "groups_unique = np.sort(groups.unique())\n",
    "group_map = dict(zip(list(map(str, groups_unique)), groups_unique))\n",
    "perf_dfs = []\n",
    "\n",
    "for key, group in group_map.items():\n",
    "    X_train = feat_df[groups == group]\n",
    "    y_train = label_df[groups == group].iloc[:, 0]\n",
    "    X_test = feat_df[groups != group]\n",
    "    y_test = label_df[groups != group].iloc[:, 0]\n",
    "    # Train the model\n",
    "    model = lgb.LGBMRegressor(**params, random_state=0)\n",
    "    model = model.fit(X_train, y_train)\n",
    "    eps = 1e-2\n",
    "    perf_df = utils.compute_metrics(model, X_test, y_test, eps)\n",
    "    perf_df[\"n\"] = len(y_train)\n",
    "    perf_dfs.append(perf_df)\n",
    "\n",
    "perf_df = pd.concat(perf_dfs, axis=0, ignore_index=True)\n",
    "perf_df.index = list(group_map.keys())\n",
    "perf_df"
   ]
  },
  {
   "cell_type": "code",
   "execution_count": 5,
   "id": "5db46021",
   "metadata": {},
   "outputs": [
    {
     "name": "stdout",
     "output_type": "stream",
     "text": [
      "Mean difficulty per group:\n"
     ]
    },
    {
     "data": {
      "text/html": [
       "<div>\n",
       "<style scoped>\n",
       "    .dataframe tbody tr th:only-of-type {\n",
       "        vertical-align: middle;\n",
       "    }\n",
       "\n",
       "    .dataframe tbody tr th {\n",
       "        vertical-align: top;\n",
       "    }\n",
       "\n",
       "    .dataframe thead th {\n",
       "        text-align: right;\n",
       "    }\n",
       "</style>\n",
       "<table border=\"1\" class=\"dataframe\">\n",
       "  <thead>\n",
       "    <tr style=\"text-align: right;\">\n",
       "      <th></th>\n",
       "      <th>mean</th>\n",
       "    </tr>\n",
       "    <tr>\n",
       "      <th>max.seq_length</th>\n",
       "      <th></th>\n",
       "    </tr>\n",
       "  </thead>\n",
       "  <tbody>\n",
       "    <tr>\n",
       "      <th>(0, 100]</th>\n",
       "      <td>0.13</td>\n",
       "    </tr>\n",
       "    <tr>\n",
       "      <th>(499, 10000]</th>\n",
       "      <td>0.11</td>\n",
       "    </tr>\n",
       "  </tbody>\n",
       "</table>\n",
       "</div>"
      ],
      "text/plain": [
       "                mean\n",
       "max.seq_length      \n",
       "(0, 100]        0.13\n",
       "(499, 10000]    0.11"
      ]
     },
     "execution_count": 5,
     "metadata": {},
     "output_type": "execute_result"
    }
   ],
   "source": [
    "print(\"Mean difficulty per group:\")\n",
    "label_df.groupby(groups, observed=True).mean().round(2)"
   ]
  },
  {
   "cell_type": "markdown",
   "id": "de88b923",
   "metadata": {},
   "source": [
    "#### Study 2\n",
    "Train on num_seqs <= 10, test on num_seqs >= 50\n",
    "\n",
    "Results\n",
    "- Generalization error is similar to what we saw with respect to sequence length.\n",
    "- Only considering a single split, so take results with a grain of salt.\n",
    "- RMSE is higher when training on larger datasets because shorter ones are harder on average (absolute measure of error).\n"
   ]
  },
  {
   "cell_type": "code",
   "execution_count": 6,
   "id": "d7038907",
   "metadata": {},
   "outputs": [
    {
     "name": "stdout",
     "output_type": "stream",
     "text": [
      "Dropping 0 NaN rows...\n"
     ]
    }
   ],
   "source": [
    "feat_df, drop_df, label_df = utils.load_features(\n",
    "    data_dir,\n",
    "    label_scale=\"auto\",\n",
    "    exclude_features=[\"is_dna\", \"num_seqs\", \"seq_length\"],\n",
    ")\n",
    "\n",
    "mask = (drop_df[\"num_seqs\"] <= 10) | (drop_df[\"num_seqs\"] > 49)\n",
    "feat_df = feat_df[mask]\n",
    "label_df = label_df[mask]\n",
    "drop_df = drop_df[mask]"
   ]
  },
  {
   "cell_type": "code",
   "execution_count": 7,
   "id": "4b6b9eae",
   "metadata": {},
   "outputs": [
    {
     "name": "stdout",
     "output_type": "stream",
     "text": [
      "num_seqs\n",
      "(0, 10]      5617\n",
      "(49, 300]    3349\n",
      "(10, 49]        0\n",
      "Name: count, dtype: int64\n"
     ]
    },
    {
     "data": {
      "text/html": [
       "<div>\n",
       "<style scoped>\n",
       "    .dataframe tbody tr th:only-of-type {\n",
       "        vertical-align: middle;\n",
       "    }\n",
       "\n",
       "    .dataframe tbody tr th {\n",
       "        vertical-align: top;\n",
       "    }\n",
       "\n",
       "    .dataframe thead th {\n",
       "        text-align: right;\n",
       "    }\n",
       "</style>\n",
       "<table border=\"1\" class=\"dataframe\">\n",
       "  <thead>\n",
       "    <tr style=\"text-align: right;\">\n",
       "      <th></th>\n",
       "      <th>RMSE</th>\n",
       "      <th>RMSE_CV</th>\n",
       "      <th>MAE</th>\n",
       "      <th>MAPE</th>\n",
       "      <th>MAPE_P50</th>\n",
       "      <th>CORR</th>\n",
       "      <th>n</th>\n",
       "    </tr>\n",
       "  </thead>\n",
       "  <tbody>\n",
       "    <tr>\n",
       "      <th>(0, 10]</th>\n",
       "      <td>0.0584</td>\n",
       "      <td>0.5029</td>\n",
       "      <td>0.0413</td>\n",
       "      <td>0.5572</td>\n",
       "      <td>0.3571</td>\n",
       "      <td>0.9091</td>\n",
       "      <td>5617</td>\n",
       "    </tr>\n",
       "    <tr>\n",
       "      <th>(49, 300]</th>\n",
       "      <td>0.0947</td>\n",
       "      <td>0.5325</td>\n",
       "      <td>0.0687</td>\n",
       "      <td>1.8214</td>\n",
       "      <td>0.3875</td>\n",
       "      <td>0.9132</td>\n",
       "      <td>3349</td>\n",
       "    </tr>\n",
       "  </tbody>\n",
       "</table>\n",
       "</div>"
      ],
      "text/plain": [
       "             RMSE RMSE_CV     MAE    MAPE MAPE_P50    CORR     n\n",
       "(0, 10]    0.0584  0.5029  0.0413  0.5572   0.3571  0.9091  5617\n",
       "(49, 300]  0.0947  0.5325  0.0687  1.8214   0.3875  0.9132  3349"
      ]
     },
     "execution_count": 7,
     "metadata": {},
     "output_type": "execute_result"
    }
   ],
   "source": [
    "thresholds = [0, 10, 49, 300]\n",
    "groups = pd.cut(drop_df[\"num_seqs\"], bins=thresholds)\n",
    "print(groups.value_counts())\n",
    "groups_unique = np.sort(groups.unique())\n",
    "group_map = dict(zip(list(map(str, groups_unique)), groups_unique))\n",
    "perf_dfs = []\n",
    "\n",
    "for key, group in group_map.items():\n",
    "    X_train = feat_df[groups == group]\n",
    "    y_train = label_df[groups == group].iloc[:, 0]\n",
    "    X_test = feat_df[groups != group]\n",
    "    y_test = label_df[groups != group].iloc[:, 0]\n",
    "    # Train the model\n",
    "    model = lgb.LGBMRegressor(**params, random_state=0)\n",
    "    model = model.fit(X_train, y_train)\n",
    "    eps = 1e-2\n",
    "    perf_df = utils.compute_metrics(model, X_test, y_test, eps)\n",
    "    perf_df[\"n\"] = len(y_train)\n",
    "    perf_dfs.append(perf_df)\n",
    "\n",
    "perf_df = pd.concat(perf_dfs, axis=0, ignore_index=True)\n",
    "perf_df.index = list(group_map.keys())\n",
    "perf_df"
   ]
  },
  {
   "cell_type": "code",
   "execution_count": 8,
   "id": "6e3222dc",
   "metadata": {},
   "outputs": [
    {
     "name": "stdout",
     "output_type": "stream",
     "text": [
      "Mean difficulty per group:\n"
     ]
    },
    {
     "data": {
      "text/html": [
       "<div>\n",
       "<style scoped>\n",
       "    .dataframe tbody tr th:only-of-type {\n",
       "        vertical-align: middle;\n",
       "    }\n",
       "\n",
       "    .dataframe tbody tr th {\n",
       "        vertical-align: top;\n",
       "    }\n",
       "\n",
       "    .dataframe thead th {\n",
       "        text-align: right;\n",
       "    }\n",
       "</style>\n",
       "<table border=\"1\" class=\"dataframe\">\n",
       "  <thead>\n",
       "    <tr style=\"text-align: right;\">\n",
       "      <th></th>\n",
       "      <th>mean</th>\n",
       "    </tr>\n",
       "    <tr>\n",
       "      <th>num_seqs</th>\n",
       "      <th></th>\n",
       "    </tr>\n",
       "  </thead>\n",
       "  <tbody>\n",
       "    <tr>\n",
       "      <th>(0, 10]</th>\n",
       "      <td>0.18</td>\n",
       "    </tr>\n",
       "    <tr>\n",
       "      <th>(49, 300]</th>\n",
       "      <td>0.12</td>\n",
       "    </tr>\n",
       "  </tbody>\n",
       "</table>\n",
       "</div>"
      ],
      "text/plain": [
       "           mean\n",
       "num_seqs       \n",
       "(0, 10]    0.18\n",
       "(49, 300]  0.12"
      ]
     },
     "execution_count": 8,
     "metadata": {},
     "output_type": "execute_result"
    }
   ],
   "source": [
    "print(\"Mean difficulty per group:\")\n",
    "label_df.groupby(groups, observed=True).mean().round(2)"
   ]
  }
 ],
 "metadata": {
  "kernelspec": {
   "display_name": "aldiscore",
   "language": "python",
   "name": "python3"
  },
  "language_info": {
   "codemirror_mode": {
    "name": "ipython",
    "version": 3
   },
   "file_extension": ".py",
   "mimetype": "text/x-python",
   "name": "python",
   "nbconvert_exporter": "python",
   "pygments_lexer": "ipython3",
   "version": "3.13.3"
  }
 },
 "nbformat": 4,
 "nbformat_minor": 5
}
