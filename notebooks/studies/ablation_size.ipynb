{
 "cells": [
  {
   "cell_type": "code",
   "execution_count": 6,
   "id": "a1326b86",
   "metadata": {},
   "outputs": [],
   "source": [
    "%reload_ext autoreload\n",
    "%autoreload 2\n",
    "import os\n",
    "from pathlib import Path\n",
    "import numpy as np\n",
    "import pandas as pd\n",
    "from aldiscore.prediction import utils\n",
    "from aldiscore import ROOT, RSTATE\n",
    "import matplotlib.pyplot as plt\n",
    "import seaborn as sn\n",
    "from collections import defaultdict\n",
    "from sklearn.model_selection import train_test_split\n",
    "import lightgbm as lgb"
   ]
  },
  {
   "cell_type": "markdown",
   "id": "6755859e",
   "metadata": {},
   "source": [
    "Ideas\n",
    "- Remove all sources individually and check performance on those\n",
    "- Remove all small/ large datasets (seq_length, num_seqs)\n",
    "- Remove DNA/AA data and check"
   ]
  },
  {
   "cell_type": "code",
   "execution_count": 7,
   "id": "ec129d76",
   "metadata": {},
   "outputs": [],
   "source": [
    "data_dir = Path(\"/hits/fast/cme/bodynems/data/paper\")\n",
    "param_df = pd.read_parquet(ROOT / \"optuna\" / \"trial_03.parquet\")\n",
    "params = dict(param_df.drop(\"score\", axis=1).iloc[0])\n",
    "# for key, val in params.items():\n",
    "#     if isinstance(params[key], float) and (float(int(val)) == val):\n",
    "#         params[key] = int(val)"
   ]
  },
  {
   "cell_type": "markdown",
   "id": "677a5a6a",
   "metadata": {},
   "source": [
    "#### Study 1\n",
    "Train on mean seq_length < 500, test on seq_length > 1000\n",
    "\n",
    "Results\n",
    "- Short sequences are able to predict long ones pretty well (some degradation of course).\n",
    "- This is true even though in our case, short sequences are twice as difficult on average (0.17 vs. 0.08).\n",
    "- Most long sequences sampled from TreeBase, therefore easy on average.\n"
   ]
  },
  {
   "cell_type": "code",
   "execution_count": 8,
   "id": "24a0bd4a",
   "metadata": {},
   "outputs": [
    {
     "name": "stdout",
     "output_type": "stream",
     "text": [
      "Dropping 0 NaN rows...\n"
     ]
    }
   ],
   "source": [
    "feat_df, drop_df, label_df = utils.load_features(\n",
    "    data_dir,\n",
    "    label_scale=\"auto\",\n",
    "    exclude_features=[\"is_dna\", \"num_seqs\", \"seq_length\"],\n",
    ")\n",
    "clean_feat_names = feat_df.columns.str.replace(\":\", \".\").to_list()\n",
    "feat_df.columns = clean_feat_names\n",
    "\n",
    "mask = (drop_df[\"mean:seq_length\"] <= 500) | (drop_df[\"mean:seq_length\"] >= 1000)\n",
    "feat_df = feat_df[mask]\n",
    "label_df = label_df[mask]\n",
    "drop_df = drop_df[mask]"
   ]
  },
  {
   "cell_type": "code",
   "execution_count": 9,
   "id": "e21758d5",
   "metadata": {},
   "outputs": [
    {
     "name": "stdout",
     "output_type": "stream",
     "text": [
      "mean:seq_length\n",
      "(0, 500]        8370\n",
      "(500, 10000]    1907\n",
      "Name: count, dtype: int64\n"
     ]
    },
    {
     "data": {
      "text/html": [
       "<div>\n",
       "<style scoped>\n",
       "    .dataframe tbody tr th:only-of-type {\n",
       "        vertical-align: middle;\n",
       "    }\n",
       "\n",
       "    .dataframe tbody tr th {\n",
       "        vertical-align: top;\n",
       "    }\n",
       "\n",
       "    .dataframe thead th {\n",
       "        text-align: right;\n",
       "    }\n",
       "</style>\n",
       "<table border=\"1\" class=\"dataframe\">\n",
       "  <thead>\n",
       "    <tr style=\"text-align: right;\">\n",
       "      <th></th>\n",
       "      <th>RMSE</th>\n",
       "      <th>RMSE_CV</th>\n",
       "      <th>MAE</th>\n",
       "      <th>MAPE</th>\n",
       "      <th>MAPE_P50</th>\n",
       "      <th>CORR</th>\n",
       "      <th>n</th>\n",
       "    </tr>\n",
       "  </thead>\n",
       "  <tbody>\n",
       "    <tr>\n",
       "      <th>(0, 500]</th>\n",
       "      <td>0.0535</td>\n",
       "      <td>0.6479</td>\n",
       "      <td>0.0394</td>\n",
       "      <td>0.9622</td>\n",
       "      <td>0.5062</td>\n",
       "      <td>0.8971</td>\n",
       "      <td>8370</td>\n",
       "    </tr>\n",
       "    <tr>\n",
       "      <th>(500, 10000]</th>\n",
       "      <td>0.1144</td>\n",
       "      <td>0.6600</td>\n",
       "      <td>0.0891</td>\n",
       "      <td>1.9903</td>\n",
       "      <td>0.7518</td>\n",
       "      <td>0.8708</td>\n",
       "      <td>1907</td>\n",
       "    </tr>\n",
       "  </tbody>\n",
       "</table>\n",
       "</div>"
      ],
      "text/plain": [
       "                RMSE RMSE_CV     MAE    MAPE MAPE_P50    CORR     n\n",
       "(0, 500]      0.0535  0.6479  0.0394  0.9622   0.5062  0.8971  8370\n",
       "(500, 10000]  0.1144  0.6600  0.0891  1.9903   0.7518  0.8708  1907"
      ]
     },
     "execution_count": 9,
     "metadata": {},
     "output_type": "execute_result"
    }
   ],
   "source": [
    "thresholds = [0, 500, 10000]\n",
    "groups = pd.cut(drop_df[\"mean:seq_length\"], bins=thresholds)\n",
    "print(groups.value_counts())\n",
    "groups_unique = np.sort(groups.unique())\n",
    "group_map = dict(zip(list(map(str, groups_unique)), groups_unique))\n",
    "perf_dfs = []\n",
    "\n",
    "for key, group in group_map.items():\n",
    "    X_train = feat_df[groups == group]\n",
    "    y_train = label_df[groups == group].iloc[:, 0]\n",
    "    X_test = feat_df[groups != group]\n",
    "    y_test = label_df[groups != group].iloc[:, 0]\n",
    "    # Train the model\n",
    "    model = lgb.LGBMRegressor(**params)\n",
    "    model = model.fit(X_train, y_train)\n",
    "    eps = 1e-2\n",
    "    perf_df = utils.compute_metrics(model, X_test, y_test, eps)\n",
    "    perf_df[\"n\"] = len(y_train)\n",
    "    perf_dfs.append(perf_df)\n",
    "\n",
    "perf_df = pd.concat(perf_dfs, axis=0, ignore_index=True)\n",
    "perf_df.index = list(group_map.keys())\n",
    "perf_df"
   ]
  },
  {
   "cell_type": "code",
   "execution_count": 10,
   "id": "5db46021",
   "metadata": {},
   "outputs": [
    {
     "name": "stdout",
     "output_type": "stream",
     "text": [
      "Mean difficulty per group:\n"
     ]
    },
    {
     "data": {
      "text/html": [
       "<div>\n",
       "<style scoped>\n",
       "    .dataframe tbody tr th:only-of-type {\n",
       "        vertical-align: middle;\n",
       "    }\n",
       "\n",
       "    .dataframe tbody tr th {\n",
       "        vertical-align: top;\n",
       "    }\n",
       "\n",
       "    .dataframe thead th {\n",
       "        text-align: right;\n",
       "    }\n",
       "</style>\n",
       "<table border=\"1\" class=\"dataframe\">\n",
       "  <thead>\n",
       "    <tr style=\"text-align: right;\">\n",
       "      <th></th>\n",
       "      <th>mean</th>\n",
       "    </tr>\n",
       "    <tr>\n",
       "      <th>mean:seq_length</th>\n",
       "      <th></th>\n",
       "    </tr>\n",
       "  </thead>\n",
       "  <tbody>\n",
       "    <tr>\n",
       "      <th>(0, 500]</th>\n",
       "      <td>0.173318</td>\n",
       "    </tr>\n",
       "    <tr>\n",
       "      <th>(500, 10000]</th>\n",
       "      <td>0.082561</td>\n",
       "    </tr>\n",
       "  </tbody>\n",
       "</table>\n",
       "</div>"
      ],
      "text/plain": [
       "                     mean\n",
       "mean:seq_length          \n",
       "(0, 500]         0.173318\n",
       "(500, 10000]     0.082561"
      ]
     },
     "execution_count": 10,
     "metadata": {},
     "output_type": "execute_result"
    }
   ],
   "source": [
    "print(\"Mean difficulty per group:\")\n",
    "label_df.groupby(groups, observed=False).mean()"
   ]
  }
 ],
 "metadata": {
  "kernelspec": {
   "display_name": "aldiscore",
   "language": "python",
   "name": "python3"
  },
  "language_info": {
   "codemirror_mode": {
    "name": "ipython",
    "version": 3
   },
   "file_extension": ".py",
   "mimetype": "text/x-python",
   "name": "python",
   "nbconvert_exporter": "python",
   "pygments_lexer": "ipython3",
   "version": "3.13.3"
  }
 },
 "nbformat": 4,
 "nbformat_minor": 5
}
