{
 "cells": [
  {
   "cell_type": "code",
   "execution_count": 3,
   "metadata": {},
   "outputs": [],
   "source": [
    "from utils.path import WildcardPath\n",
    "from utils.enums import AlignerEnum\n",
    "import os\n",
    "\n",
    "DATA_DIR = WildcardPath(\"/hits/fast/cme/bodynems/data/\")\n",
    "RESULT_DIR = WildcardPath(\"/hits/fast/cme/bodynems/MSA_difficulty/results\")\n",
    "\n",
    "benchmark = [\"testing\"]\n",
    "INPUT_DIR = DATA_DIR / \"input\" / \"{benchmark}\"\n",
    "OUTPUT_DIR = DATA_DIR / \"output\" / \"{benchmark}\"\n",
    "\n",
    "DATASET_DIR = OUTPUT_DIR / \"{dataset}\"\n",
    "\n",
    "TOOLS = [aligner for aligner in AlignerEnum]"
   ]
  },
  {
   "cell_type": "code",
   "execution_count": 7,
   "metadata": {},
   "outputs": [
    {
     "name": "stdout",
     "output_type": "stream",
     "text": [
      "['BB11003.msf', 'BB11004.msf', 'BB11005.msf']\n"
     ]
    }
   ],
   "source": [
    "def delete_aligned_features(dirs: list[WildcardPath]):\n",
    "    for dir in dirs:\n",
    "        os.remove(dir / \"aligned_features.parquet\")\n",
    "\n",
    "\n",
    "output_dir = OUTPUT_DIR.format(benchmark=\"testing\")\n",
    "dataset_dir_names = output_dir.listdir(dirs_only=True)\n",
    "print(dataset_dir_names)\n",
    "dataset_dirs = [output_dir / name for name in dataset_dir_names]\n",
    "\n",
    "delete_aligned_features(dataset_dirs)"
   ]
  },
  {
   "cell_type": "code",
   "execution_count": null,
   "metadata": {},
   "outputs": [],
   "source": []
  }
 ],
 "metadata": {
  "kernelspec": {
   "display_name": "difficulty",
   "language": "python",
   "name": "python3"
  },
  "language_info": {
   "codemirror_mode": {
    "name": "ipython",
    "version": 3
   },
   "file_extension": ".py",
   "mimetype": "text/x-python",
   "name": "python",
   "nbconvert_exporter": "python",
   "pygments_lexer": "ipython3",
   "version": "3.12.8"
  }
 },
 "nbformat": 4,
 "nbformat_minor": 2
}
