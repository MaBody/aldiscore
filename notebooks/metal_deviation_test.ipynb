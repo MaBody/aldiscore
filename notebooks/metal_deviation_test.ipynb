{
 "cells": [
  {
   "cell_type": "code",
   "execution_count": 1,
   "id": "e921e26f",
   "metadata": {},
   "outputs": [],
   "source": [
    "import dotenv\n",
    "import numpy as np\n",
    "import pathlib\n",
    "import itertools\n",
    "import features.pairwise\n",
    "import utils.enums\n",
    "from alignment.dataset import Dataset\n",
    "from alignment.ensemble import Ensemble\n",
    "from alignment.alignment import Alignment\n",
    "import os\n",
    "from pypythia.custom_types import FileFormat\n",
    "from features.aligned import EnsembleFeatureExtractor\n",
    "from utils.path import WildcardPath\n",
    "from collections import defaultdict\n",
    "import pandas as pd\n",
    "from utils.enums import FeatureEnum as FE"
   ]
  },
  {
   "cell_type": "code",
   "execution_count": 2,
   "id": "d394f20f",
   "metadata": {},
   "outputs": [],
   "source": [
    "DATA_DIR = WildcardPath(\"/hits/fast/cme/bodynems/data/\")\n",
    "RESULT_DIR = WildcardPath(\"/hits/fast/cme/bodynems/MSA_difficulty/results\")\n",
    "\n",
    "run_suffix = \"\"\n",
    "# run_suffix = \"_muscle5\"\n",
    "# run_suffix = \"_reduced\"\n",
    "\n",
    "BENCHMARKS = [\"balibase3/RV11\" + run_suffix, \"balibase3/RV12\" + run_suffix]\n",
    "benchmark_mapping = dict(zip(BENCHMARKS, [\"RV11 (hard)\", \"RV12 (easy)\"]))\n",
    "TOOLS = list(utils.enums.ToolEnum)\n",
    "MUSCLE5 = utils.enums.AlignerEnum.MUSCLE5.path\n",
    "METAL = pathlib.Path(\"/hits/fast/cme/bodynems/tools/metal\")\n",
    "\n",
    "OUTPUT_DIR = DATA_DIR / \"output\" / \"{benchmark}\"\n",
    "TOOL_DIR = OUTPUT_DIR / \"{dataset}\" / \"{tool}\"\n",
    "\n",
    "ssp_new = features.pairwise.SSPDistance()\n",
    "seq_new = features.pairwise.HomologySeqDistance()\n",
    "pos_new = features.pairwise.HomologyPosDistance()\n",
    "metrics = {metric.name: metric for metric in [ssp_new, seq_new, pos_new]}"
   ]
  },
  {
   "cell_type": "code",
   "execution_count": 48,
   "id": "4940de62",
   "metadata": {},
   "outputs": [],
   "source": [
    "def compute_metric_deviation(extractor):\n",
    "    dists_new_dict = defaultdict(list)\n",
    "\n",
    "    for alignment_x, alignment_y in itertools.combinations(\n",
    "        extractor._ensemble.ensemble, r=2\n",
    "    ):\n",
    "        for name, metric in metrics.items():\n",
    "            dist = metric.compute(alignment_x, alignment_y)\n",
    "            dists_new_dict[name].append(dist)\n",
    "    dists_old_dict = extractor._metal_stats()\n",
    "\n",
    "    results = {}\n",
    "    for name in dists_new_dict:\n",
    "        dists_new = np.array(dists_new_dict[name])\n",
    "        dists_old = np.array(dists_old_dict[name + \"_metal\"])\n",
    "        results[name] = {\n",
    "            \"deviation\": np.abs(dists_new - dists_old),\n",
    "            \"original\": dists_old,\n",
    "        }\n",
    "    return results\n",
    "\n",
    "\n",
    "def deviation_job(dataset_dir):\n",
    "    deviations = defaultdict(list)\n",
    "    originals = defaultdict(list)\n",
    "    dataset = Dataset(dataset_dir / \"sequences.fasta\")\n",
    "    ensemble = Ensemble.from_efa(\n",
    "        MUSCLE5,\n",
    "        dataset_dir / \"all_tools.efa\",\n",
    "        dataset=dataset,\n",
    "    )\n",
    "    extractor = EnsembleFeatureExtractor(\n",
    "        ensemble,\n",
    "        dataset,\n",
    "        None,\n",
    "        None,\n",
    "        None,\n",
    "        METAL,\n",
    "        compute_distance_matrix=False,\n",
    "        threads=1,\n",
    "    )\n",
    "    out = compute_metric_deviation(extractor)\n",
    "    for key in out:\n",
    "        deviations[key].extend(out[key][\"deviation\"])\n",
    "        originals[key].extend(out[key][\"original\"])\n",
    "    return (deviations, originals)"
   ]
  },
  {
   "cell_type": "code",
   "execution_count": null,
   "id": "92ecebef",
   "metadata": {},
   "outputs": [],
   "source": [
    "from multiprocessing import Pool\n",
    "\n",
    "dataset_dirs = []\n",
    "for benchmark in BENCHMARKS:\n",
    "    dataset_dir = OUTPUT_DIR.format(benchmark=benchmark)\n",
    "    datasets = dataset_dir.listdir(dirs_only=True)\n",
    "    for dataset_name in datasets:\n",
    "        dataset_dirs.append(dataset_dir / dataset_name)\n",
    "\n",
    "\n",
    "with Pool(24) as pool:\n",
    "    pile = pool.map(deviation_job, dataset_dirs)\n",
    "\n",
    "deviation_dict = defaultdict(list)\n",
    "score_dict = defaultdict(list)\n",
    "for entry in pile:\n",
    "    for metric_name in metrics:\n",
    "        deviation_dict[metric_name].extend(entry[0][metric_name])\n",
    "        score_dict[metric_name].extend(entry[1][metric_name])\n",
    "\n",
    "deviation_df = pd.DataFrame(deviation_dict)\n",
    "score_df = pd.DataFrame(score_dict)\n",
    "# deviation_df.to_pickle(RESULT_DIR / \"technical\" / \"metal_deviation_df.pkl\")\n",
    "# score_df.to_pickle(RESULT_DIR / \"technical\" / \"metal_score_df.pkl\")"
   ]
  },
  {
   "cell_type": "code",
   "execution_count": 3,
   "id": "9e72a9ac",
   "metadata": {},
   "outputs": [
    {
     "name": "stdout",
     "output_type": "stream",
     "text": [
      "(182736, 3) (182736, 3)\n",
      "0.029619404456714626\n"
     ]
    }
   ],
   "source": [
    "deviation_df = pd.read_pickle(RESULT_DIR / \"technical\" / \"metal_deviation_df.pkl\")\n",
    "score_df = pd.read_pickle(RESULT_DIR / \"technical\" / \"metal_score_df.pkl\")\n",
    "\n",
    "print(deviation_df.shape, score_df.shape)\n",
    "print(deviation_df[FE.HOMOLOGY_POS_DIST].max())"
   ]
  },
  {
   "cell_type": "code",
   "execution_count": 12,
   "id": "87d6e588",
   "metadata": {},
   "outputs": [
    {
     "name": "stdout",
     "output_type": "stream",
     "text": [
      "homology_pos_dist    0.008373\n",
      "dtype: float64\n",
      "\\begin{tabular}{lrrrrrr}\n",
      "\\toprule\n",
      " & $P_{0.5}$ & $P_{0.75}$ & $P_{0.9}$ & $P_{0.95}$ & $P_{0.99}$ & max \\\\\n",
      "\\midrule\n",
      "0 & 0.000000 & 0.000002 & 0.000018 & 0.000035 & 0.000093 & 0.001081 \\\\\n",
      "\\bottomrule\n",
      "\\end{tabular}\n",
      "\n"
     ]
    }
   ],
   "source": [
    "import seaborn as sn\n",
    "\n",
    "plot_df = deviation_df[[FE.HOMOLOGY_POS_DIST]]\n",
    "\n",
    "print((plot_df > 1e-4).mean())\n",
    "\n",
    "# np.quantile(plot_df, np.arange(1, 11) / 10)\n",
    "datasets = pd.Series(np.arange(162).repeat((48 * 47 / 2)))\n",
    "plot_df = (\n",
    "    plot_df.groupby(datasets)\n",
    "    .mean()\n",
    "    .sort_values(by=FE.HOMOLOGY_POS_DIST, ascending=False, ignore_index=True)\n",
    ")\n",
    "percentiles = [0.5, 0.75, 0.9, 0.95, 0.99, 1]\n",
    "names = [f\"$P_{{{q}}}$\" for q in percentiles]\n",
    "names[-1] = \"max\"\n",
    "qs = np.quantile(plot_df[FE.HOMOLOGY_POS_DIST], percentiles)\n",
    "\n",
    "print(pd.Series(qs, index=names).to_frame().T.round(6).to_latex())"
   ]
  },
  {
   "cell_type": "code",
   "execution_count": null,
   "id": "d1bf9be9",
   "metadata": {},
   "outputs": [
    {
     "name": "stdout",
     "output_type": "stream",
     "text": [
      "['abs', 'rel', 'abs', 'rel']\n"
     ]
    },
    {
     "ename": "UFuncTypeError",
     "evalue": "ufunc 'maximum' did not contain a loop with signature matching types (dtype('<U3'), dtype('<U3')) -> None",
     "output_type": "error",
     "traceback": [
      "\u001b[0;31m---------------------------------------------------------------------------\u001b[0m",
      "\u001b[0;31mUFuncTypeError\u001b[0m                            Traceback (most recent call last)",
      "Cell \u001b[0;32mIn[30], line 3\u001b[0m\n\u001b[1;32m      1\u001b[0m \u001b[38;5;28;01mfor\u001b[39;00m name, stats \u001b[38;5;129;01min\u001b[39;00m results\u001b[38;5;241m.\u001b[39mitems():\n\u001b[1;32m      2\u001b[0m     \u001b[38;5;28mprint\u001b[39m(stats)\n\u001b[0;32m----> 3\u001b[0m     \u001b[38;5;28mprint\u001b[39m(name, \u001b[43mnp\u001b[49m\u001b[38;5;241;43m.\u001b[39;49m\u001b[43mmax\u001b[49m\u001b[43m(\u001b[49m\u001b[43mstats\u001b[49m\u001b[43m)\u001b[49m)\n",
      "File \u001b[0;32m/hits/fast/cme/bodynems/.local/lib/micromamba/envs/difficulty/lib/python3.11/site-packages/numpy/core/fromnumeric.py:2810\u001b[0m, in \u001b[0;36mmax\u001b[0;34m(a, axis, out, keepdims, initial, where)\u001b[0m\n\u001b[1;32m   2692\u001b[0m \u001b[38;5;129m@array_function_dispatch\u001b[39m(_max_dispatcher)\n\u001b[1;32m   2693\u001b[0m \u001b[38;5;129m@set_module\u001b[39m(\u001b[38;5;124m'\u001b[39m\u001b[38;5;124mnumpy\u001b[39m\u001b[38;5;124m'\u001b[39m)\n\u001b[1;32m   2694\u001b[0m \u001b[38;5;28;01mdef\u001b[39;00m\u001b[38;5;250m \u001b[39m\u001b[38;5;21mmax\u001b[39m(a, axis\u001b[38;5;241m=\u001b[39m\u001b[38;5;28;01mNone\u001b[39;00m, out\u001b[38;5;241m=\u001b[39m\u001b[38;5;28;01mNone\u001b[39;00m, keepdims\u001b[38;5;241m=\u001b[39mnp\u001b[38;5;241m.\u001b[39m_NoValue, initial\u001b[38;5;241m=\u001b[39mnp\u001b[38;5;241m.\u001b[39m_NoValue,\n\u001b[1;32m   2695\u001b[0m          where\u001b[38;5;241m=\u001b[39mnp\u001b[38;5;241m.\u001b[39m_NoValue):\n\u001b[1;32m   2696\u001b[0m \u001b[38;5;250m    \u001b[39m\u001b[38;5;124;03m\"\"\"\u001b[39;00m\n\u001b[1;32m   2697\u001b[0m \u001b[38;5;124;03m    Return the maximum of an array or maximum along an axis.\u001b[39;00m\n\u001b[1;32m   2698\u001b[0m \n\u001b[0;32m   (...)\u001b[0m\n\u001b[1;32m   2808\u001b[0m \u001b[38;5;124;03m    5\u001b[39;00m\n\u001b[1;32m   2809\u001b[0m \u001b[38;5;124;03m    \"\"\"\u001b[39;00m\n\u001b[0;32m-> 2810\u001b[0m     \u001b[38;5;28;01mreturn\u001b[39;00m \u001b[43m_wrapreduction\u001b[49m\u001b[43m(\u001b[49m\u001b[43ma\u001b[49m\u001b[43m,\u001b[49m\u001b[43m \u001b[49m\u001b[43mnp\u001b[49m\u001b[38;5;241;43m.\u001b[39;49m\u001b[43mmaximum\u001b[49m\u001b[43m,\u001b[49m\u001b[43m \u001b[49m\u001b[38;5;124;43m'\u001b[39;49m\u001b[38;5;124;43mmax\u001b[39;49m\u001b[38;5;124;43m'\u001b[39;49m\u001b[43m,\u001b[49m\u001b[43m \u001b[49m\u001b[43maxis\u001b[49m\u001b[43m,\u001b[49m\u001b[43m \u001b[49m\u001b[38;5;28;43;01mNone\u001b[39;49;00m\u001b[43m,\u001b[49m\u001b[43m \u001b[49m\u001b[43mout\u001b[49m\u001b[43m,\u001b[49m\n\u001b[1;32m   2811\u001b[0m \u001b[43m                          \u001b[49m\u001b[43mkeepdims\u001b[49m\u001b[38;5;241;43m=\u001b[39;49m\u001b[43mkeepdims\u001b[49m\u001b[43m,\u001b[49m\u001b[43m \u001b[49m\u001b[43minitial\u001b[49m\u001b[38;5;241;43m=\u001b[39;49m\u001b[43minitial\u001b[49m\u001b[43m,\u001b[49m\u001b[43m \u001b[49m\u001b[43mwhere\u001b[49m\u001b[38;5;241;43m=\u001b[39;49m\u001b[43mwhere\u001b[49m\u001b[43m)\u001b[49m\n",
      "File \u001b[0;32m/hits/fast/cme/bodynems/.local/lib/micromamba/envs/difficulty/lib/python3.11/site-packages/numpy/core/fromnumeric.py:88\u001b[0m, in \u001b[0;36m_wrapreduction\u001b[0;34m(obj, ufunc, method, axis, dtype, out, **kwargs)\u001b[0m\n\u001b[1;32m     85\u001b[0m         \u001b[38;5;28;01melse\u001b[39;00m:\n\u001b[1;32m     86\u001b[0m             \u001b[38;5;28;01mreturn\u001b[39;00m reduction(axis\u001b[38;5;241m=\u001b[39maxis, out\u001b[38;5;241m=\u001b[39mout, \u001b[38;5;241m*\u001b[39m\u001b[38;5;241m*\u001b[39mpasskwargs)\n\u001b[0;32m---> 88\u001b[0m \u001b[38;5;28;01mreturn\u001b[39;00m \u001b[43mufunc\u001b[49m\u001b[38;5;241;43m.\u001b[39;49m\u001b[43mreduce\u001b[49m\u001b[43m(\u001b[49m\u001b[43mobj\u001b[49m\u001b[43m,\u001b[49m\u001b[43m \u001b[49m\u001b[43maxis\u001b[49m\u001b[43m,\u001b[49m\u001b[43m \u001b[49m\u001b[43mdtype\u001b[49m\u001b[43m,\u001b[49m\u001b[43m \u001b[49m\u001b[43mout\u001b[49m\u001b[43m,\u001b[49m\u001b[43m \u001b[49m\u001b[38;5;241;43m*\u001b[39;49m\u001b[38;5;241;43m*\u001b[39;49m\u001b[43mpasskwargs\u001b[49m\u001b[43m)\u001b[49m\n",
      "\u001b[0;31mUFuncTypeError\u001b[0m: ufunc 'maximum' did not contain a loop with signature matching types (dtype('<U3'), dtype('<U3')) -> None"
     ]
    }
   ],
   "source": [
    " for name, stats in deviation_dict.items():\n",
    "    scores = score_dict[name]\n",
    "    print()\n",
    "    print(d)\n",
    "    print(stats)\n",
    "    print(name, np.max(stats))"
   ]
  },
  {
   "cell_type": "code",
   "execution_count": null,
   "id": "4238224e",
   "metadata": {},
   "outputs": [],
   "source": []
  }
 ],
 "metadata": {
  "kernelspec": {
   "display_name": "difficulty",
   "language": "python",
   "name": "python3"
  },
  "language_info": {
   "codemirror_mode": {
    "name": "ipython",
    "version": 3
   },
   "file_extension": ".py",
   "mimetype": "text/x-python",
   "name": "python",
   "nbconvert_exporter": "python",
   "pygments_lexer": "ipython3",
   "version": "3.11.11"
  }
 },
 "nbformat": 4,
 "nbformat_minor": 5
}
