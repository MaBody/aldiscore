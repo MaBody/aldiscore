{
 "cells": [
  {
   "cell_type": "code",
   "execution_count": null,
   "metadata": {},
   "outputs": [],
   "source": [
    "from Bio.Align import substitution_matrices\n",
    "import numpy as np\n",
    "import seaborn as sn\n",
    "import matplotlib.pyplot as plt\n",
    "import numpy as np\n",
    "\n",
    "# RESULT: only use this for d_SSP, no clear justification for including gaps in scoring scheme\n",
    "# Load BLOSUM matrix\n",
    "_BLOSUM = substitution_matrices.load(\"BLOSUM62\")\n",
    "blosum_mat = np.array(_BLOSUM)\n",
    "min_val = blosum_mat.min()\n",
    "max_val = blosum_mat.max()\n",
    "\n",
    "# Normalize all values in the BLOSUM matrix to [0,1] using min-max scaling\n",
    "# Replace gap char \"*\" with \"-\"\n",
    "_BLOSUM_NORM = _BLOSUM.copy()\n",
    "for key in _BLOSUM.keys():\n",
    "    _BLOSUM_NORM[key] = (_BLOSUM[key] - min_val) / (max_val - min_val)\n",
    "alphabet = _BLOSUM.alphabet\n",
    "alphabet = alphabet[:-1] + \"-\"\n",
    "_BLOSUM_NORM = substitution_matrices.Array(alphabet=alphabet, data=blosum_mat)\n",
    "blosum_mat = np.array(_BLOSUM_NORM)[:-1, :-1]"
   ]
  }
 ],
 "metadata": {
  "language_info": {
   "name": "python"
  }
 },
 "nbformat": 4,
 "nbformat_minor": 2
}
